{
 "cells": [
  {
   "cell_type": "code",
   "execution_count": 6,
   "metadata": {},
   "outputs": [],
   "source": [
    "%matplotlib inline\n",
    "import pandas as pd\n"
   ]
  },
  {
   "cell_type": "code",
   "execution_count": 8,
   "metadata": {},
   "outputs": [
    {
     "data": {
      "text/html": [
       "<div>\n",
       "<style scoped>\n",
       "    .dataframe tbody tr th:only-of-type {\n",
       "        vertical-align: middle;\n",
       "    }\n",
       "\n",
       "    .dataframe tbody tr th {\n",
       "        vertical-align: top;\n",
       "    }\n",
       "\n",
       "    .dataframe thead th {\n",
       "        text-align: right;\n",
       "    }\n",
       "</style>\n",
       "<table border=\"1\" class=\"dataframe\">\n",
       "  <thead>\n",
       "    <tr style=\"text-align: right;\">\n",
       "      <th></th>\n",
       "      <th>title</th>\n",
       "      <th>year</th>\n",
       "    </tr>\n",
       "  </thead>\n",
       "  <tbody>\n",
       "    <tr>\n",
       "      <th>0</th>\n",
       "      <td>The Rising Son</td>\n",
       "      <td>1990</td>\n",
       "    </tr>\n",
       "    <tr>\n",
       "      <th>1</th>\n",
       "      <td>The Thousand Plane Raid</td>\n",
       "      <td>1969</td>\n",
       "    </tr>\n",
       "    <tr>\n",
       "      <th>2</th>\n",
       "      <td>Crucea de piatra</td>\n",
       "      <td>1993</td>\n",
       "    </tr>\n",
       "    <tr>\n",
       "      <th>3</th>\n",
       "      <td>Country</td>\n",
       "      <td>2000</td>\n",
       "    </tr>\n",
       "    <tr>\n",
       "      <th>4</th>\n",
       "      <td>Gaiking II</td>\n",
       "      <td>2011</td>\n",
       "    </tr>\n",
       "  </tbody>\n",
       "</table>\n",
       "</div>"
      ],
      "text/plain": [
       "                     title  year\n",
       "0           The Rising Son  1990\n",
       "1  The Thousand Plane Raid  1969\n",
       "2         Crucea de piatra  1993\n",
       "3                  Country  2000\n",
       "4               Gaiking II  2011"
      ]
     },
     "execution_count": 8,
     "metadata": {},
     "output_type": "execute_result"
    }
   ],
   "source": [
    "cast = pd.read_csv(\"C:/Users/Lenovo/Desktop/DATA ANALYSIS Practice/titles.csv\")\n",
    "cast.head()"
   ]
  },
  {
   "cell_type": "markdown",
   "metadata": {
    "collapsed": true,
    "jupyter": {
     "outputs_hidden": true
    }
   },
   "source": [
    "### How many movies are listed in the titles dataframe?"
   ]
  },
  {
   "cell_type": "code",
   "execution_count": 17,
   "metadata": {},
   "outputs": [
    {
     "name": "stdout",
     "output_type": "stream",
     "text": [
      "230621\n"
     ]
    }
   ],
   "source": [
    "number_of_movies = len(cast)\n",
    "print(number_of_movies)"
   ]
  },
  {
   "cell_type": "markdown",
   "metadata": {
    "collapsed": true,
    "jupyter": {
     "outputs_hidden": true
    }
   },
   "source": [
    "### What are the earliest two films listed in the titles dataframe?"
   ]
  },
  {
   "cell_type": "code",
   "execution_count": 18,
   "metadata": {},
   "outputs": [
    {
     "name": "stdout",
     "output_type": "stream",
     "text": [
      "1. Miss Jerry (1894)\n",
      "2. The Startled Lover (1898)\n"
     ]
    }
   ],
   "source": [
    "# Sort the dataframe by year in ascending order\n",
    "sorted_by_year = cast.sort_values(by='year')\n",
    "\n",
    "# Get the first two rows (which are the earliest films)\n",
    "earliest_two_films = sorted_by_year.head(2)\n",
    "\n",
    "# Access the 'title' and 'year' columns of the earliest films\n",
    "# (assuming these columns exist in your dataframe)\n",
    "titles = earliest_two_films['title'].to_list()\n",
    "years = earliest_two_films['year'].to_list()\n",
    "\n",
    "# Print the titles and years of the earliest two films\n",
    "for i in range(2):\n",
    "  print(f\"{i+1}. {titles[i]} ({years[i]})\")\n"
   ]
  },
  {
   "cell_type": "markdown",
   "metadata": {
    "collapsed": true,
    "jupyter": {
     "outputs_hidden": true
    }
   },
   "source": [
    "### How many movies have the title \"Hamlet\"?"
   ]
  },
  {
   "cell_type": "code",
   "execution_count": 19,
   "metadata": {},
   "outputs": [
    {
     "name": "stdout",
     "output_type": "stream",
     "text": [
      "18\n"
     ]
    }
   ],
   "source": [
    "number_of_hamlet_movies = len(cast[cast['title'] == \"Hamlet\"])\n",
    "print(number_of_hamlet_movies)"
   ]
  },
  {
   "cell_type": "markdown",
   "metadata": {
    "collapsed": true,
    "jupyter": {
     "outputs_hidden": true
    }
   },
   "source": [
    "### How many movies are titled \"North by Northwest\"?"
   ]
  },
  {
   "cell_type": "code",
   "execution_count": 22,
   "metadata": {},
   "outputs": [
    {
     "name": "stdout",
     "output_type": "stream",
     "text": [
      "1\n"
     ]
    }
   ],
   "source": [
    "movie_title = len(cast[cast['title'] == \"North by Northwest\"])\n",
    "print(movie_title)"
   ]
  },
  {
   "cell_type": "markdown",
   "metadata": {
    "collapsed": true,
    "jupyter": {
     "outputs_hidden": true
    }
   },
   "source": [
    "### When was the first movie titled \"Hamlet\" made?"
   ]
  },
  {
   "cell_type": "code",
   "execution_count": 28,
   "metadata": {},
   "outputs": [
    {
     "name": "stdout",
     "output_type": "stream",
     "text": [
      "First 'Hamlet' movie year: 1910\n"
     ]
    }
   ],
   "source": [
    "# Filter for movies titled \"Hamlet\"\n",
    "hamlet_movies = cast[cast['title'] == \"Hamlet\"]\n",
    "\n",
    "# Sort by year (ascending order) assuming 'year' is numeric\n",
    "sorted_hamlet_movies = hamlet_movies.sort_values(by='year')\n",
    "\n",
    "# Get the year of the first movie (assuming there's at least one)\n",
    "first_hamlet_year = sorted_hamlet_movies.iloc[0]['year'] if len(sorted_hamlet_movies) > 0 else None\n",
    "\n",
    "# Print the year (or None if no Hamlet movies exist)\n",
    "print(f\"First 'Hamlet' movie year: {first_hamlet_year}\")\n"
   ]
  },
  {
   "cell_type": "markdown",
   "metadata": {
    "collapsed": true,
    "jupyter": {
     "outputs_hidden": true
    }
   },
   "source": [
    "### List all of the \"Treasure Island\" movies from earliest to most recent."
   ]
  },
  {
   "cell_type": "code",
   "execution_count": 40,
   "metadata": {},
   "outputs": [
    {
     "ename": "ValueError",
     "evalue": "Cannot mask with non-boolean array containing NA / NaN values",
     "output_type": "error",
     "traceback": [
      "\u001b[1;31m---------------------------------------------------------------------------\u001b[0m",
      "\u001b[1;31mValueError\u001b[0m                                Traceback (most recent call last)",
      "Cell \u001b[1;32mIn[40], line 1\u001b[0m\n\u001b[1;32m----> 1\u001b[0m treasure_island_movies \u001b[38;5;241m=\u001b[39m \u001b[43mcast\u001b[49m\u001b[43m[\u001b[49m\u001b[43mcast\u001b[49m\u001b[43m[\u001b[49m\u001b[38;5;124;43m'\u001b[39;49m\u001b[38;5;124;43mtitle\u001b[39;49m\u001b[38;5;124;43m'\u001b[39;49m\u001b[43m]\u001b[49m\u001b[38;5;241;43m.\u001b[39;49m\u001b[43mstr\u001b[49m\u001b[38;5;241;43m.\u001b[39;49m\u001b[43mcontains\u001b[49m\u001b[43m(\u001b[49m\u001b[38;5;124;43m\"\u001b[39;49m\u001b[38;5;124;43mTreasure Island\u001b[39;49m\u001b[38;5;124;43m\"\u001b[39;49m\u001b[43m,\u001b[49m\u001b[43m \u001b[49m\u001b[43mcase\u001b[49m\u001b[38;5;241;43m=\u001b[39;49m\u001b[38;5;28;43;01mFalse\u001b[39;49;00m\u001b[43m)\u001b[49m\u001b[43m]\u001b[49m\n\u001b[0;32m      3\u001b[0m sorted_treasure_island_movies \u001b[38;5;241m=\u001b[39m treasure_island_movies\u001b[38;5;241m.\u001b[39msort_values(by\u001b[38;5;241m=\u001b[39m\u001b[38;5;124m'\u001b[39m\u001b[38;5;124myear\u001b[39m\u001b[38;5;124m'\u001b[39m)\n\u001b[0;32m      5\u001b[0m \u001b[38;5;28;01mfor\u001b[39;00m index, row \u001b[38;5;129;01min\u001b[39;00m sorted_treasure_island_movies\u001b[38;5;241m.\u001b[39miterrows():\n",
      "File \u001b[1;32m~\\AppData\\Local\\Programs\\Python\\Python312\\Lib\\site-packages\\pandas\\core\\frame.py:4092\u001b[0m, in \u001b[0;36mDataFrame.__getitem__\u001b[1;34m(self, key)\u001b[0m\n\u001b[0;32m   4089\u001b[0m     \u001b[38;5;28;01mreturn\u001b[39;00m \u001b[38;5;28mself\u001b[39m\u001b[38;5;241m.\u001b[39mwhere(key)\n\u001b[0;32m   4091\u001b[0m \u001b[38;5;66;03m# Do we have a (boolean) 1d indexer?\u001b[39;00m\n\u001b[1;32m-> 4092\u001b[0m \u001b[38;5;28;01mif\u001b[39;00m \u001b[43mcom\u001b[49m\u001b[38;5;241;43m.\u001b[39;49m\u001b[43mis_bool_indexer\u001b[49m\u001b[43m(\u001b[49m\u001b[43mkey\u001b[49m\u001b[43m)\u001b[49m:\n\u001b[0;32m   4093\u001b[0m     \u001b[38;5;28;01mreturn\u001b[39;00m \u001b[38;5;28mself\u001b[39m\u001b[38;5;241m.\u001b[39m_getitem_bool_array(key)\n\u001b[0;32m   4095\u001b[0m \u001b[38;5;66;03m# We are left with two options: a single key, and a collection of keys,\u001b[39;00m\n\u001b[0;32m   4096\u001b[0m \u001b[38;5;66;03m# We interpret tuples as collections only for non-MultiIndex\u001b[39;00m\n",
      "File \u001b[1;32m~\\AppData\\Local\\Programs\\Python\\Python312\\Lib\\site-packages\\pandas\\core\\common.py:136\u001b[0m, in \u001b[0;36mis_bool_indexer\u001b[1;34m(key)\u001b[0m\n\u001b[0;32m    132\u001b[0m     na_msg \u001b[38;5;241m=\u001b[39m \u001b[38;5;124m\"\u001b[39m\u001b[38;5;124mCannot mask with non-boolean array containing NA / NaN values\u001b[39m\u001b[38;5;124m\"\u001b[39m\n\u001b[0;32m    133\u001b[0m     \u001b[38;5;28;01mif\u001b[39;00m lib\u001b[38;5;241m.\u001b[39mis_bool_array(key_array, skipna\u001b[38;5;241m=\u001b[39m\u001b[38;5;28;01mTrue\u001b[39;00m):\n\u001b[0;32m    134\u001b[0m         \u001b[38;5;66;03m# Don't raise on e.g. [\"A\", \"B\", np.nan], see\u001b[39;00m\n\u001b[0;32m    135\u001b[0m         \u001b[38;5;66;03m#  test_loc_getitem_list_of_labels_categoricalindex_with_na\u001b[39;00m\n\u001b[1;32m--> 136\u001b[0m         \u001b[38;5;28;01mraise\u001b[39;00m \u001b[38;5;167;01mValueError\u001b[39;00m(na_msg)\n\u001b[0;32m    137\u001b[0m     \u001b[38;5;28;01mreturn\u001b[39;00m \u001b[38;5;28;01mFalse\u001b[39;00m\n\u001b[0;32m    138\u001b[0m \u001b[38;5;28;01mreturn\u001b[39;00m \u001b[38;5;28;01mTrue\u001b[39;00m\n",
      "\u001b[1;31mValueError\u001b[0m: Cannot mask with non-boolean array containing NA / NaN values"
     ]
    }
   ],
   "source": [
    "\n",
    "\n",
    "treasure_island_movies = cast[cast['title'].str.contains(\"Treasure Island\", case=False)]\n",
    "\n",
    "sorted_treasure_island_movies = treasure_island_movies.sort_values(by='year')\n",
    "\n",
    "for index, row in sorted_treasure_island_movies.iterrows():\n",
    "  print(f\"{row['title']} ({row['year']})\")\n"
   ]
  },
  {
   "cell_type": "markdown",
   "metadata": {
    "collapsed": true,
    "jupyter": {
     "outputs_hidden": true
    }
   },
   "source": [
    "### How many movies were made in the year 1950?"
   ]
  },
  {
   "cell_type": "code",
   "execution_count": 41,
   "metadata": {},
   "outputs": [
    {
     "name": "stdout",
     "output_type": "stream",
     "text": [
      "1093\n"
     ]
    }
   ],
   "source": [
    "number_of_1950_movies = len(cast[cast['year'] == 1950])\n",
    "print(number_of_1950_movies)\n"
   ]
  },
  {
   "cell_type": "markdown",
   "metadata": {
    "collapsed": true,
    "jupyter": {
     "outputs_hidden": true
    }
   },
   "source": [
    "### How many movies were made in the year 1960?"
   ]
  },
  {
   "cell_type": "code",
   "execution_count": 42,
   "metadata": {},
   "outputs": [
    {
     "name": "stdout",
     "output_type": "stream",
     "text": [
      "1496\n"
     ]
    }
   ],
   "source": [
    "number_of_1950_movies = len(cast[cast['year'] == 1960])\n",
    "print(number_of_1950_movies)"
   ]
  },
  {
   "cell_type": "markdown",
   "metadata": {
    "collapsed": true,
    "jupyter": {
     "outputs_hidden": true
    }
   },
   "source": [
    "### How many movies were made from 1950 through 1959?"
   ]
  },
  {
   "cell_type": "code",
   "execution_count": 45,
   "metadata": {},
   "outputs": [
    {
     "name": "stdout",
     "output_type": "stream",
     "text": [
      "12656\n"
     ]
    }
   ],
   "source": [
    "# Select movies between 1950 and 1959 (inclusive)\n",
    "filtered_by_year = cast[(cast['year'] >= 1950) & (cast['year'] <= 1959)]\n",
    "\n",
    "# Count the number of movies in the filtered dataframe\n",
    "number_of_movies_in_decade = len(filtered_by_year)\n",
    "\n",
    "# Print the results\n",
    "print(number_of_movies_in_decade)\n"
   ]
  },
  {
   "cell_type": "markdown",
   "metadata": {
    "collapsed": true,
    "jupyter": {
     "outputs_hidden": true
    }
   },
   "source": [
    "### In what years has a movie titled \"Batman\" been released?"
   ]
  },
  {
   "cell_type": "code",
   "execution_count": 46,
   "metadata": {},
   "outputs": [
    {
     "name": "stdout",
     "output_type": "stream",
     "text": [
      "Batman movie release years: {1989, 1943}\n"
     ]
    }
   ],
   "source": [
    "# Filter for movies titled \"Batman\"\n",
    "batman_movies = cast[cast['title'] == \"Batman\"]\n",
    "\n",
    "# Extract release years (assuming 'year' is numeric)\n",
    "batman_release_years = batman_movies['year'].to_list()\n",
    "\n",
    "# Print unique release years (to avoid duplicates)\n",
    "print(f\"Batman movie release years: {set(batman_release_years)}\")\n"
   ]
  },
  {
   "cell_type": "markdown",
   "metadata": {
    "collapsed": true,
    "jupyter": {
     "outputs_hidden": true
    }
   },
   "source": [
    "### How many roles were there in the movie \"Inception\"?"
   ]
  },
  {
   "cell_type": "code",
   "execution_count": null,
   "metadata": {
    "collapsed": true,
    "jupyter": {
     "outputs_hidden": true
    }
   },
   "outputs": [],
   "source": [
    "#need help sir"
   ]
  },
  {
   "cell_type": "code",
   "execution_count": null,
   "metadata": {
    "collapsed": true,
    "jupyter": {
     "outputs_hidden": true
    }
   },
   "outputs": [],
   "source": []
  },
  {
   "cell_type": "markdown",
   "metadata": {
    "collapsed": true,
    "jupyter": {
     "outputs_hidden": true
    }
   },
   "source": [
    "### How many roles in the movie \"Inception\" are NOT ranked by an \"n\" value?"
   ]
  },
  {
   "cell_type": "code",
   "execution_count": 50,
   "metadata": {},
   "outputs": [
    {
     "name": "stdout",
     "output_type": "stream",
     "text": [
      "Number of unranked roles in 'Inception': 0\n"
     ]
    }
   ],
   "source": [
    "# Filter for Inception cast\n",
    "inception_cast = cast[cast['title'] == \"Inception\"]\n",
    "\n",
    "# Count roles without ranking (assuming 'n' is for rank and missing values indicate no rank)\n",
    "unranked_roles = inception_cast.isnull().sum()['title']\n",
    "\n",
    "# Print the results\n",
    "print(f\"Number of unranked roles in 'Inception': {unranked_roles}\")\n",
    "\n"
   ]
  },
  {
   "cell_type": "code",
   "execution_count": null,
   "metadata": {
    "collapsed": true,
    "jupyter": {
     "outputs_hidden": true
    }
   },
   "outputs": [],
   "source": []
  },
  {
   "cell_type": "markdown",
   "metadata": {
    "collapsed": true,
    "jupyter": {
     "outputs_hidden": true
    }
   },
   "source": [
    "### But how many roles in the movie \"Inception\" did receive an \"n\" value?"
   ]
  },
  {
   "cell_type": "code",
   "execution_count": 51,
   "metadata": {},
   "outputs": [
    {
     "name": "stdout",
     "output_type": "stream",
     "text": [
      "Number of ranked roles in 'Inception': 1\n"
     ]
    }
   ],
   "source": [
    "# Filter for Inception cast\n",
    "inception_cast = cast[cast['title'] == \"Inception\"]\n",
    "\n",
    "# Count roles with ranking (assuming 'n' is for rank and not null indicates ranking)\n",
    "ranked_roles = inception_cast.notnull().sum()['title']\n",
    "\n",
    "# Print the results\n",
    "print(f\"Number of ranked roles in 'Inception': {ranked_roles}\")\n"
   ]
  },
  {
   "cell_type": "code",
   "execution_count": null,
   "metadata": {
    "collapsed": true,
    "jupyter": {
     "outputs_hidden": true
    }
   },
   "outputs": [],
   "source": []
  },
  {
   "cell_type": "markdown",
   "metadata": {
    "collapsed": true,
    "jupyter": {
     "outputs_hidden": true
    }
   },
   "source": [
    "### Display the cast of \"North by Northwest\" in their correct \"n\"-value order, ignoring roles that did not earn a numeric \"n\" value."
   ]
  },
  {
   "cell_type": "code",
   "execution_count": 55,
   "metadata": {},
   "outputs": [
    {
     "name": "stdout",
     "output_type": "stream",
     "text": [
      "North by Northwest. 1959\n"
     ]
    }
   ],
   "source": [
    "# Filter for North by Northwest cast\n",
    "northwest_cast = cast[cast['title'] == \"North by Northwest\"]\n",
    "\n",
    "\n",
    "ranked_cast = northwest_cast[northwest_cast['title'].notnull()]\n",
    "\n",
    "sorted_cast = ranked_cast.sort_values(by='title')\n",
    "\n",
    "for index, row in sorted_cast.iterrows():\n",
    "  print(f\"{row['title']}. {row['year']}\")\n"
   ]
  },
  {
   "cell_type": "markdown",
   "metadata": {
    "collapsed": true,
    "jupyter": {
     "outputs_hidden": true
    }
   },
   "source": [
    "### Display the entire cast, in \"n\"-order, of the 1972 film \"Sleuth\"."
   ]
  },
  {
   "cell_type": "code",
   "execution_count": 57,
   "metadata": {},
   "outputs": [
    {
     "name": "stdout",
     "output_type": "stream",
     "text": [
      "Sleuth. 1972\n"
     ]
    }
   ],
   "source": [
    "# Filter for Sleuth cast (year 1972)\n",
    "sleuth_cast = cast[(cast['title'] == \"Sleuth\") & (cast['year'] == 1972)]\n",
    "\n",
    "# Sort by 'n' value (ascending order, handling missing values)\n",
    "sorted_cast = sleuth_cast.sort_values(by='title', na_position='last')\n",
    "\n",
    "# Print cast in order\n",
    "for index, row in sorted_cast.iterrows():\n",
    "  # Handle missing ranking values by printing \"Unranked\"\n",
    "  ranking = row['title'] if not pd.isna(row['title']) else \"Unranked\"\n",
    "  print(f\"{ranking}. {row['year']}\")\n"
   ]
  },
  {
   "cell_type": "markdown",
   "metadata": {
    "collapsed": true,
    "jupyter": {
     "outputs_hidden": true
    }
   },
   "source": [
    "### Now display the entire cast, in \"n\"-order, of the 2007 version of \"Sleuth\"."
   ]
  },
  {
   "cell_type": "code",
   "execution_count": 58,
   "metadata": {},
   "outputs": [
    {
     "name": "stdout",
     "output_type": "stream",
     "text": [
      "Sleuth. 2007\n"
     ]
    }
   ],
   "source": [
    "# Filter for Sleuth cast (year 2007)\n",
    "sleuth_cast_2007 = cast[(cast['title'] == \"Sleuth\") & (cast['year'] == 2007)]\n",
    "\n",
    "# Sort by 'n' value (ascending order, handling missing values)\n",
    "sorted_cast = sleuth_cast_2007.sort_values(by='title', na_position='last')\n",
    "\n",
    "# Print cast in order\n",
    "for index, row in sorted_cast.iterrows():\n",
    "  # Handle missing ranking values by printing \"Unranked\"\n",
    "  ranking = row['title'] if not pd.isna(row['title']) else \"Unranked\"\n",
    "  print(f\"{ranking}. {row['year']}\")\n"
   ]
  },
  {
   "cell_type": "markdown",
   "metadata": {
    "collapsed": true,
    "jupyter": {
     "outputs_hidden": true
    }
   },
   "source": [
    "### How many roles were credited in the silent 1921 version of Hamlet?"
   ]
  },
  {
   "cell_type": "code",
   "execution_count": null,
   "metadata": {
    "collapsed": true,
    "jupyter": {
     "outputs_hidden": true
    }
   },
   "outputs": [],
   "source": [
    "#need help"
   ]
  },
  {
   "cell_type": "code",
   "execution_count": null,
   "metadata": {
    "collapsed": true,
    "jupyter": {
     "outputs_hidden": true
    }
   },
   "outputs": [],
   "source": []
  },
  {
   "cell_type": "markdown",
   "metadata": {
    "collapsed": true,
    "jupyter": {
     "outputs_hidden": true
    }
   },
   "source": [
    "### How many roles were credited in Branagh’s 1996 Hamlet?"
   ]
  },
  {
   "cell_type": "code",
   "execution_count": 61,
   "metadata": {},
   "outputs": [
    {
     "name": "stdout",
     "output_type": "stream",
     "text": [
      "Number of credited roles (assuming one role per actor): 210938\n"
     ]
    }
   ],
   "source": [
    "\n",
    "num_credited_roles = len(cast['title'].unique())\n",
    "print(f\"Number of credited roles (assuming one role per actor): {num_credited_roles}\")\n"
   ]
  },
  {
   "cell_type": "markdown",
   "metadata": {
    "collapsed": true,
    "jupyter": {
     "outputs_hidden": true
    }
   },
   "source": [
    "### How many \"Hamlet\" roles have been listed in all film credits through history?"
   ]
  },
  {
   "cell_type": "code",
   "execution_count": 65,
   "metadata": {},
   "outputs": [
    {
     "name": "stdout",
     "output_type": "stream",
     "text": [
      "Number of 'Hamlet' roles listed: 18\n"
     ]
    }
   ],
   "source": [
    "\n",
    "hamlet_movies = cast[cast['title'] == \"Hamlet\"]\n",
    "\n",
    "number_of_hamlet_roles = len(hamlet_movies)\n",
    "\n",
    "# Print the results\n",
    "print(f\"Number of 'Hamlet' roles listed: {number_of_hamlet_roles}\")\n"
   ]
  },
  {
   "cell_type": "code",
   "execution_count": null,
   "metadata": {
    "collapsed": true,
    "jupyter": {
     "outputs_hidden": true
    }
   },
   "outputs": [],
   "source": []
  },
  {
   "cell_type": "markdown",
   "metadata": {
    "collapsed": true,
    "jupyter": {
     "outputs_hidden": true
    }
   },
   "source": [
    "### How many people have played an \"Ophelia\"?"
   ]
  },
  {
   "cell_type": "code",
   "execution_count": 68,
   "metadata": {},
   "outputs": [
    {
     "name": "stdout",
     "output_type": "stream",
     "text": [
      "Number of 'Ophelia' occurrences in 'Hamlet' credits (limited approach): 0\n"
     ]
    }
   ],
   "source": [
    "# Filter for movies titled \"Hamlet\"\n",
    "hamlet_movies = cast[cast['title'] == \"Hamlet\"]\n",
    "\n",
    "# Count occurrences of \"Ophelia\" in the character column (limited approach)\n",
    "ophelia_count = hamlet_movies['title'].str.contains(\"Ophelia\").sum()\n",
    "\n",
    "# Print informative message about limitations\n",
    "print(f\"Number of 'Ophelia' occurrences in 'Hamlet' credits (limited approach): {ophelia_count}\")\n"
   ]
  },
  {
   "cell_type": "markdown",
   "metadata": {
    "collapsed": true,
    "jupyter": {
     "outputs_hidden": true
    }
   },
   "source": [
    "### How many people have played a role called \"The Dude\"?"
   ]
  },
  {
   "cell_type": "code",
   "execution_count": 70,
   "metadata": {},
   "outputs": [
    {
     "name": "stdout",
     "output_type": "stream",
     "text": [
      "Number of 'The Dude' occurrences (limited approach): 0\n"
     ]
    }
   ],
   "source": [
    "# Search for \"The Dude\" (case-sensitive)\n",
    "dude_count = cast[cast['title'] == \"The Dude\"].shape[0]\n",
    "\n",
    "# Print informative message about limitations\n",
    "print(f\"Number of 'The Dude' occurrences (limited approach): {dude_count}\")\n"
   ]
  },
  {
   "cell_type": "code",
   "execution_count": null,
   "metadata": {
    "collapsed": true,
    "jupyter": {
     "outputs_hidden": true
    }
   },
   "outputs": [],
   "source": []
  },
  {
   "cell_type": "markdown",
   "metadata": {
    "collapsed": true,
    "jupyter": {
     "outputs_hidden": true
    }
   },
   "source": [
    "### How many people have played a role called \"The Stranger\"?"
   ]
  },
  {
   "cell_type": "code",
   "execution_count": 72,
   "metadata": {},
   "outputs": [
    {
     "name": "stdout",
     "output_type": "stream",
     "text": [
      "Number of 'The Stranger' occurrences (limited approach): 8\n"
     ]
    }
   ],
   "source": [
    "# Search for \"The Stranger\" (case-sensitive)\n",
    "stranger_count = cast[cast['title'] == \"The Stranger\"].shape[0]\n",
    "\n",
    "# Print informative message about limitations\n",
    "print(f\"Number of 'The Stranger' occurrences (limited approach): {stranger_count}\")\n"
   ]
  },
  {
   "cell_type": "code",
   "execution_count": null,
   "metadata": {
    "collapsed": true,
    "jupyter": {
     "outputs_hidden": true
    }
   },
   "outputs": [],
   "source": []
  },
  {
   "cell_type": "markdown",
   "metadata": {
    "collapsed": true,
    "jupyter": {
     "outputs_hidden": true
    }
   },
   "source": [
    "### How many roles has Sidney Poitier played throughout his career?"
   ]
  },
  {
   "cell_type": "code",
   "execution_count": 74,
   "metadata": {},
   "outputs": [
    {
     "name": "stdout",
     "output_type": "stream",
     "text": [
      "Found 0 movies where Sidney Poitier appears.\n"
     ]
    }
   ],
   "source": [
    "# Search for Sidney Poitier (assuming 'name' column holds actor names)\n",
    "poitier_movies = cast[cast['title'] == \"Sidney Poitier\"]\n",
    "\n",
    "# Print informative message about limitations\n",
    "print(f\"Found {poitier_movies.shape[0]} movies where Sidney Poitier appears.\")\n"
   ]
  },
  {
   "cell_type": "code",
   "execution_count": null,
   "metadata": {
    "collapsed": true,
    "jupyter": {
     "outputs_hidden": true
    }
   },
   "outputs": [],
   "source": []
  },
  {
   "cell_type": "markdown",
   "metadata": {
    "collapsed": true,
    "jupyter": {
     "outputs_hidden": true
    }
   },
   "source": [
    "### How many roles has Judi Dench played?"
   ]
  },
  {
   "cell_type": "code",
   "execution_count": 77,
   "metadata": {},
   "outputs": [
    {
     "name": "stdout",
     "output_type": "stream",
     "text": [
      "Found 0 movies where Judi Dench appears.\n"
     ]
    }
   ],
   "source": [
    "# Search for Judi Dench (assuming 'name' column holds actor names)\n",
    "dench_movies = cast[cast['title'] == \"Judi Dench\"]\n",
    "\n",
    "# Print informative message about limitations\n",
    "print(f\"Found {dench_movies.shape[0]} movies where Judi Dench appears.\")\n"
   ]
  },
  {
   "cell_type": "markdown",
   "metadata": {
    "collapsed": true,
    "jupyter": {
     "outputs_hidden": true
    }
   },
   "source": [
    "### List the supporting roles (having n=2) played by Cary Grant in the 1940s, in order by year."
   ]
  },
  {
   "cell_type": "code",
   "execution_count": 80,
   "metadata": {},
   "outputs": [],
   "source": [
    "# Filter for Cary Grant in 1940s movies\n",
    "grant_1940s = cast[\n",
    "    (cast['title'] == \"Cary Grant\") & (cast['year'] >= 1940) & (cast['year'] <= 1949)\n",
    "]\n",
    "\n",
    "# Filter for supporting roles (n=2)\n",
    "grant_supporting = grant_1940s[grant_1940s['title'] == 2]\n",
    "\n",
    "# Sort by year\n",
    "sorted_supporting = grant_supporting.sort_values(by='year')\n",
    "\n",
    "# Print results\n",
    "for index, row in sorted_supporting.iterrows():\n",
    "    print(f\"{row['year']}: {row['title']}\")\n"
   ]
  },
  {
   "cell_type": "code",
   "execution_count": null,
   "metadata": {
    "collapsed": true,
    "jupyter": {
     "outputs_hidden": true
    }
   },
   "outputs": [],
   "source": []
  },
  {
   "cell_type": "markdown",
   "metadata": {
    "collapsed": true,
    "jupyter": {
     "outputs_hidden": true
    }
   },
   "source": [
    "### List the leading roles that Cary Grant played in the 1940s in order by year."
   ]
  },
  {
   "cell_type": "code",
   "execution_count": 83,
   "metadata": {},
   "outputs": [],
   "source": [
    "# Filter for Cary Grant in 1940s movies\n",
    "grant_1940s = cast[\n",
    "    (cast['title'] == \"Cary Grant\") & (cast['year'] >= 1940) & (cast['year'] <= 1949)\n",
    "]\n",
    "\n",
    "# Filter for leading roles (n=1)\n",
    "grant_leading = grant_1940s[grant_1940s['title'] == 1]\n",
    "\n",
    "# Sort by year\n",
    "sorted_leading = grant_leading.sort_values(by='year')\n",
    "\n",
    "# Print results\n",
    "for index, row in sorted_leading.iterrows():\n",
    "    print(f\"{row['year']}: {row['title']}\")\n"
   ]
  },
  {
   "cell_type": "code",
   "execution_count": null,
   "metadata": {
    "collapsed": true,
    "jupyter": {
     "outputs_hidden": true
    }
   },
   "outputs": [],
   "source": []
  },
  {
   "cell_type": "markdown",
   "metadata": {
    "collapsed": true,
    "jupyter": {
     "outputs_hidden": true
    }
   },
   "source": [
    "### How many roles were available for actors in the 1950s?"
   ]
  },
  {
   "cell_type": "code",
   "execution_count": 93,
   "metadata": {},
   "outputs": [
    {
     "name": "stdout",
     "output_type": "stream",
     "text": [
      "Total cast size (actors) for 1950s movies: 12656\n",
      "\n",
      "Total cast size (actors) for 1950s movies: La momia azteca contra el robot humanoMavi boncukCampo O' DonnellBotta e rispostaPerdeu-se um MaridoQiu yu can huaHi no toriQuem Sabe, Sabe!Yin shen nu xiaNext to No TimeMadariPardon My FrenchPelli Chesi ChooduUkikusaPaladinPrisionera del pasadoThe Lost Class of '59Dorogoy tsenoyMazloomIce Cold in AlexLeonoraGli sbandatiUn certain monsieurDoctor in the HouseLet's Go Navy!Mamma sconosciutaBaba WansuiChor BazarKung ako'y maging dalagaAmar SamadhiMassacreParis After MidnightFeng yu you lanKurutta kajitsuNaneun gobalhandaDahabHerr Arnes penningarTake-chan shachoMalagaHigh NoonWoman and the HunterCheer the BraveTwo Tickets to BroadwayHermano menorCarve Her Name with PrideSazaaJatakamIdoloRocky Marciano vs. Archie MooreRosa RossiniThe Big NightTal para cualVom Teufel gejagtThy Neighbor's WifeWakai musumetachiRoadracersMister IksWonderful Things!Appointment in HondurasThe JackpotFantasmas asustadosBall im SavoyEl coyoteSahinler diyariKurdapyaEr nu qing changBaekman jangjaga doeryeonmyeonSotapojan heilatO Comprador de FazendasThis Side of the LawStars and Stripes ForeverHighway DragnetNuretsubame: kurenai gonbachiSvadba KrechinskogoPor querer a una mujerTeatro del crimenPusakalIsland WomenTanssi yli hautojenDen glade skomakarenDas Horoskop der Familie HesselbachUltraje al amorPeter PanDer lachende VagabundTusYukon VengeanceSigfredoThe Other WomanAtom Man vs. SupermanWine of MorningLease of LifeFurqatA Yank in Indo-ChinaL'air de ParisEstafa de amorJapanese War BrideThe Sun Sets at DawnFuntooshAnu ja MikkoNarazu-monoLa comedia inmortalPaolo e FrancescaHandsomeThe Search for Bridey MurphyRaji En KanmaniYama no otoOso yparhoun gynaikesThe VampireBallada o soldateA Bullet for JoeyFronteiras do InfernoThe Great Jesse James RaidThe Rough and the SmoothHyohekiAnnie Get Your GunThe FighterOsome Hisamatsu: Soyokaze higasaTime TableIl brigante di Tacca del LupoMe no kabeChistelandiaSista paret utGirl on the RunDemir perdeOmena putoaaCole Younger, GunfighterTo stravoxyloLa perversaPrivate MaturanBermuda AffairO Pecado de NinaOstatni strzalComet of Laughter Lands on EarthBedre enn sitt rykteI ConfessLiang Zhu hen shiLa vie est un jeuDer treue HusarKak Dzhanni popal v adRendezvous in WienVilla milagrosaSon of SinbadKing of the UnderworldHit Parade of 1951Niskavuori taisteleeQuantezWalk the Proud LandSora kakeru hanayomeTarget Hong KongTerror Is a ManTou ji feng muiThe Lone GunYi pian fei huaAnino ni BathalaMo yingCampbell's KingdomDigmaan ng damdaminThe Browning VersionLlegaron dos hombresDiyosaDorodarake no seishunGuai cuo you qing langDollaria kai oneiraGohaThe Child and the KillerDuel at Apache WellsThe Big ChaseA Nice Little Bank That Should Be RobbedMan with the Steel WhipBelle of Old MexicoPorque peca la mujerEscape in the SunDarby's RangersThe Amazing Colossal ManFamilia AlvaradoSenrituGunmen of AbileneHong hongDestination 60,000Cripple CreekPoscigGarota MineiraJahid merelNancy Goes to RioPrinsipe Amante sa RubitanyaTexas DynamoKillers from SpaceSouth Pacific TrailBaekchi adadaDream FolliesMan from SonoraI fuorileggeYun chang yan houOgni BakuThe Buster Keaton StoryTen to senH-8...The Crowded DayDer eiserne GustavAlaska PassageThe Invisible BoyEdong MapangarapElephant StampedeMaracaiboLa de los ojos color del tiempoThe Pajama GameLa Marie du port't Is wreed in de wereldDorogaShiki no aiyokuJacquelineKrudt og klunkerTo organaki tou AttikSoledadTizocNaniwa no koi no monogatariLyn-fotografenEl rayo de Sinaloa (La venganza de Heraclio Bernal)Strangers on a TrainNa zelyonoy zemle moyeyNerawareta otokoKinderen in gods handShekare khanegiLiebe, Sommer und MusikArthurs forbrytelseKrzyz WalecznychTwo Gun MarshalErotas... me doseisQuincannon, Frontier ScoutMask of DustBus StopTao wang 48 xiao shiThe Hard ManKein Engel ist so reinDakilang hudasPatimaRajdhaniThe Sun Shines BrightRe nu langComanche TerritoryCarabina 30-30Die Wirtin zur Goldenen KroneCasino de ParisJesse James vs. the DaltonsYang zi dang zhi fu mu enMujeres en mi vidaOrders Are OrdersAn American in ParisCasanova's Big NightKanun naminaEcho der BergeWenn eine Frau liebtMe gustan valentones!Siamo uomini o caporaliDeseadaYangsan doSon of the RenegadeDie Prinzessin und der SchweinehirtShinshokoku monogatari, benikujaku dai-ippen: Nachi no kotenguScout CampThe Return of Jack SladeNinaThe Guns of Fort PetticoatMen in WarLove Is Better Than EverEl marido de mi noviaThese Thousand HillsZwei Herzen voller SeligkeitEl grito de la carneNra yerevakayutyuneThe AccusedThe Sleeping CityMayskie zvyozdyMorgen wirst du um mich weinenJuvenile JungleStrangers' MeetingZlaty pavoukGun for a CowardQiao yuan jiaEl genio alegreArzt aus LeidenschaftMaya BazaarI fidanzati della morteNaya GharOoh... diese FerienSilver City BonanzaHendes store aftenBaby bubutSyostryUnpaid DebtHayaku kaette-koSiege at Red RiverMa no ogonSnowfireFrauenarzt Dr. BertramSoho IncidentSumpah PontianakDate with DisasterZhuan hua qie zeiLydiaEl gallo coloradoGuys and DollsLa risaiaJ'irai cracher sur vos tombesLos amantesThe Gypsy MoonKeep It CleanWyoming RoundupJia cu jin gui xuGui wuDelayed ActionAdventRed GartersThe Stranger Wore a GunFlying LeathernecksComancheChantageSusana y yoZverolovyO allosNummisuutaritDesire Under the ElmsThe MudlarkMother Didn't Tell MeAl-faris al-aswasThe Midnight StoryVento NorteLuoshenAreumdawoon agnyeoRough Riders of DurangoFirst Man Into SpaceFo qian deng zhao zhuang yuan hongRifle GirlSafariThe Brothers RicoGui laiThe Valparaiso StoryKakushi-toride no san-akuninSevda sahilleriForeign IntrigueEva DragonMan BeastMo ter zhi lianMitera sto vourkoSwapna SundariAce in the HoleSigaw ng BayanWir WunderkinderMagdalenaAklat ng BuhayLa valse de ParisFind the LadyArtists and ModelsThe Member of the WeddingAl-mufattish al-ammLa murallaJhanak Jhanak Payal BaajeHuramentadoPierwsze dniLos tres VillalobosMonticello, Here We ComeSatomi hakken-den: Hachi kenshi no gaikaAsesinos de la nocheThe Harlem GlobetrottersHaring CobraJourney Into LightPsit... koritsia!La bella OteroThe Constant HusbandSouls in ConflictThe MilkmanThe Four PosterSoldaterkammeraterWu ye qing sha anShishun no izumiL'amour, MadameEl fugitivo de AmberesDie ideale FrauInchu e aghmkum geteLa ragazza della salinaTrompada 45Viva la juventud!ArtistaHoodlum EmpireFort AlgiersBhookailasQartuli baletis ostatebiStrips Around the WorldDerecho viejoReprisal!Life with the LyonsThe Final TestOedipus RexV kvadrate 45The Flesh Is WeakThe Broken HorseshoeMi permette babbo!Mein Bruder JosuaBeyond MombasaHarbor of Missing MenRadio tulee hulluksiDein Mund verspricht mir LiebeLa vida color de rosaHeldenLes deux font la paireEntrei de GaiatoDeux sous de violettesGli innocenti paganoMinato e kita otokoDragoon Wells MassacreHum Bhi Kuchh Kum NahinThe SnorkelShake Hands with the DevilThe Yellow MountainChild's PlayEven Al Kol MeelGli ultimi cinque minutiThe View from Pompey's HeadY si ella volvieraAmbush at Cimarron PassCarne de presidioVelikaya silaFather Takes the AirAlone in the StreetsEmei fei jian heng sao jin yin gongLin jia pu ziThe FakeHold That LineHuang Fei Hong yu Lin Shi RongTitanicEntotsu no mieru bashoRaw EdgeThe Yellow TomahawkMukh O MukhoshO Gato de MadameO Ali Pasas kai i kyra FrosyniMillion Dollar PursuitNicht mehr fliehenXiang xiang pen xiao jieThe Man in the Gray Flannel SuitEl tarik el masdudKuroi ushioZorro, the AvengerSadkoWitness in the DarkInspekcja pana AnatolaFanfan la TulipeChelsea StoryLas nenas del 7El revoltosoThe March HareHombre acosadoSindicato de telemironesRosa VillaDark CityPrince of PlayersThe MuggerBanwraTaiyo no kisetsuVanjaraCudotvorni macJin ping meiMeet Me at the FairQuicksandI gabestokkenAakhri NishanPrinsipe VillarbaFulano y MenganoThe First TimeLukkan MittiPatah HatiHi no ataru sakamichiSarajevoO Grande MomentoYukon GoldFosforlu CevriyeJohn of the FairAs negroGlenti - lefta ki agapiThe Six MenBalarawHanran: Ni-ni-roku jikenAnni faciliOne Girl's ConfessionHei, rillumarei!Kore gazileriTsiganiko aimaMikkaiMy Six ConvictsSchastye nado berechFlickan i frackHassan wa MarikaIsinanlang pag-ibigLale DevriPlaya prohibidaThe Underworld StoryFerien vom IchDer schweigende MundSingin' in the RainGotoma the BuddhaLe salaire de la peurLittle EgyptKyriakatikoi iroesBlack OrchidAgain... PioneersZhivaya vodaPara que la cuna aprieteQuan jia fuSerenadeLe fatiche di ErcoleIl brigante MusolinoZwei Matrosen auf der AlmMiyamoto Musashi shonenJomalaye Jibanta ManushKiller ApeChu long niaoTomei kaijinAcross the BridgeAkuma no machiLing xiao gu yanUn turco napoletanoEntre tu amor y el cieloWalang gulatWinning of the WestRogue's MarchDjevojka i hrastChintamaniHou chuangSentenciado a muerteHayat cehennemiKalbaryo ni HesusStrogaya zhenshchinaLa malcasadaVater, Mutter und neun KinderLa estrella de Sierra MorenaNight ClubMeet Mr. CallaghanSerebristaya pylShamsherbaazAng matonDominiqueThe TorchBahut Din Huwe...El monstruo en la sombraTatlong ilaw sa dambanaNu hai qing qiUn mundo nuevoEl sakrInsel ohne MoralKarhanova partaOshidori no monIllusion in MollSantoshamGia tin agapi tis voskopoulasDoctor XStop, You're Killing MeDa xiang li shao yeTanaDastanTaxi DriverAramizda yasayamazsinDie TodesarenaThe Unknown TerrorShonen tanteidan: Teki wa genshisenkouteiSua altezza ha detto: no!The Elusive PimpernelBattle CryIl lupo della frontieraEdi NijamDajeongdo byeongileongaCowboyThe Boy from IndianaCounterspyBeware, My LovelyMarmoladaThe ScapegoatThe Wonder KidToughest Man in ArizonaTodos Por UmKinPushoverTo tragoudi tou ponouSuvarna SundariWhen Willie Comes Marching HomeTooi kumoOute gata, oute zimiaAlameda da Saudade 113Die BosvelderMurder at Scotland YardDevil GoddessOtoko no hanamichiBroth of a BoyLos hijos de la calleSky CommandoThe SpellHawayanaLiu Yi chuan shuAvismandenThe Big HangoverPiel canelaJoe Palooka in Humphrey Takes a ChanceJulius CaesarBeat the DevilBonanza TownVikhri vrazhdebnyeScared StiffSevdigim sendinGigoloAmaramenteBaracca e burattiniFlu-ing SquadNoor-E-IslamLa lupaNoivas do MalDos gallos de peleaEyes of the JungleSophie et le crimePrzhevalskyOot PatangLa alegre caravanaRawhideTarget EarthMasoomO SaciCorky of Gasoline AlleyMan'nu cui zhuang jia yulangPalo ng EngkantoUna golfaIt Could Be YouMan from God's CountrySalvate mia figliaLes promesses dangereusesA Time to Love and a Time to DieCabo de hornosYe lin quThe Strange OneL'inafferrabile 12Tikhiy Don IIShujinsenThe Flame and the ArrowShli soldatyDrangoThe Crooked SkyLa sentenceEspadaTrubadorThe Big CaperPanic in the StreetsLa famiglia Passaguai fa fortunaChandanLady Godiva of CoventryThe Left Handed GunThe SundownersKomeZapasnoy igrokViaje de noviosFung mun suk neuiMujeres de teatroKakute yume ariLiebeDie Frau von gestern NachtSaut min el madiThe First Traveling SalesladyThe Geisha BoyRoad AgentHayat acilariParole HeimatNa grafskikh razvalinakhTayo'y magsayaAsessorin naishuoletDertli irmakLas mujeres de mi generalLa tigraValeria ragazza poco seriaMHalimaMozartTo eispraktorakiShararatSorority GirlCry DangerUna gallega en La HabanaVictorL'homme et l'enfantKhoufank JungleBohemyoL'esclaveI Can Get It for You WholesaleGuai mian hu da nao ku lou dongJede Nacht in einem anderen BettHarlem Follies of 1949Nacht der EntscheidungAasmaanEl bailePrinsesa ng kagubatanBu xia xiang wei zhui hun biaoHaring espadaArrowheadPe raspunderea meaMidnight EpisodeKroz granje neboI mafiosiLet's Have a MurderO leftasMe quiero casar contigoUn giorno in preturaEstrella sin luzLian ai yu yi wuKapitan BerongLa guarida del buitreRannet el kholkhalIl terrore dell'OklahomaCrimen en el entreactoAnillo de compromisoAna hasretiThe Smallest Show on EarthLos chicosWill Success Spoil Rock Hunter?VatertagSons of MatthewPerdonami!Les MiserablesDev Anand in Goa (Alias Farar)CabaretAppointment with DangerMarjorie Morningstar23 Paces to Baker StreetGeurimja sarangIl caimano del PiaveCoiffeur pour damesIl cielo bruciaSabu and the Magic RingHimagsikKoordinaty neizvestnyHigh School Confidential!It Started with a KissQeematOpernballDonne senza nomeJalopySeuls au mondeFamilien SchmidtO gennitsarosMatieland!Cosh BoyRimskiy-KorsakovTrois marins dans un couventWhere the Sidewalk EndsCosta AzzurraMonyeoBeast from Haunted CaveEkaterina VoroninaIt Should Happen to YouJalladRadio Cab MurderThe Hills of UtahJoe Palooka in Triple CrossIt's Great to Be Young!Tempi nostri - Zibaldone n. 2The Happy FamilyGuan gun yin yuanNadie muere dos vecesDer keusche LebemannStar of My NightTerra stranieraThundering JetsStrongholdHappy Ever AfterGod's Little AcreWestboundInfernoEnrico Caruso - Leggenda di una voceRacconti d'estateNecesito un maridoLa donna del fiumeSkorpanQing fanEl puerto de los siete viciosKhmuryy VangurThe Pride of MarylandTrotsGolden IvoryMonsieur TaxiFearless Fagan91:an Karlsson muckar (tror han)The Glenn Miller StoryDaar Doer in die BosveldThis Is My LoveMan lebt nur einmalElopementColegialaCanzoni, canzoni, canzoniLa colpa di una madreDeux hommes dans ManhattanDevil's PointEverything But the TruthI morti non pagano tasseMr. MusicAlbert, R.N.The Vicious YearsMiradas que matanThe House of the ArrowQiu weng yu xian jiEroicaSiroccoO Noivo das CaldasLa mujer y la bestiaThe Big MomentGringaletLos tigres del desiertoMantrapL'angelo biancoItalienreise - Liebe inbegriffenEin Herz voll MusikPag-asaCrashoutGuns, Girls, and GangstersLa culpa de los hombresJohnny DarkCuando los hijos pecanDifendo il mio amoreAmour et compagnieAkatsuki no tsuisekiGoodbye, My FancyZalongo, to kastro tis lefteriasDagohoyFlannelfootEhesanatoriumBobbikinsChoihui yuhokChelovek rodilsyaChangez KhanShen tong zhuo zei jiZi wei yuan de qiu tianEl moallemaUkala: Ang walang sukoSolntse svetit vsemAkujo no kisetsuEmmaLouisaBelyy pudelSpoilers of the ForestO moyom drugeShahzaadiHong Kong ConfidentialSilver CanyonVidas Sem RumoShokei no heyaJai AmbeBai hua qi fangZoraki kahramanTo koritsi me ta mavraDer Wilderer vom SilberwaldPagodaKamay ni SatanasWrakiTervetuloa aamukahville eli tottako toinenkin puoli?La voyageuse inattendueEl frente infinitoBurladaHavana RoseRoztrzkaHistoria jednego mysliwcaBellezze a CapriThe FBI StoryOneira koritsionIzumiHuang tang nu xuKederli yillarDunkirkA media luz los tresShinsengumi Oni TaichoSomething to Live ForFuunji Oda NobunagaAte BarbaraUnter den Sternen von CapriPobresitaEl SuavecitoFunny FaceDie HexeReturn to WarbowVesyolkaScapricciatielloDoublecrossMorsiusseppeleTwo Weeks with LoveTiririt ng IbonJohnny One-EyeNative SonStrachC'est une fille de PanameTake the High Ground!Otaraant qvriviWe're No AngelsCanarisGhar JawaiCai feng shuang feiGuan cai jing sheng zaiShah BehramDer Geigenmacher von MittenwaldVerwirrung der LiebeTerroristi a MadridTren internacionalJet StormScampoloYoung Daniel BooneEuropas neue Musikparade 1958Muyeong tabThe OutcastKarkottaiLes louvesChakrapaniCruisin' Down the RiverMissile to the MoonSmrt v sedleDruzhokMagnificent AdventureZui e suo lian xia jiLaffing TimeThe Woman with No NameLal PariEr xin sui mu xinRamirL'amour toujours l'amourHospital generalVanjikottai ValibanMunting AnghelWas die Schwalbe sangDorogoy moy chelovekI Dream of JeanieRich, Young and PrettyRei do MovimentoCent ans de gloireLa 'Moara cu noroc'Los lacuacherosBijo to kairyuStasera scioperoFargoA Life in the BalanceAllaha ismarladikAbarindingLady in the Iron MaskMon phoque et ellesHei shan zu ji zhanInterpolThe Tunnel of LoveIstanbul yildizlariNight Into MorningTatlong Bagwis: Mga Anak ng BayanBialy niedzwiedzSaraba RabauruUjalaNastikFlight to MarsAna bint nassEl beso de JudasThe 49th ManRegina AmstettenThe Frightened ManAlyosha Ptitsyn vyrabatyvaet kharakterI pinguini ci guardanoHeerThe Tougher They ComeFence RidersKanakataraCamino del infiernoKimi no na waGli ultimi giorni di PompeiMedalyong perlasViento del norteGost s KubaniMale stvariTop BananaThe Iron MistressNunca es tarde para amarCurfew BreakersNiao yu hua xiangOn lautalla pienoinen kahvilaAppointment in LondonContro la leggeThe KidnappersThree Guys Named MikeCartas a UfemiaCrashing Las VegasLas locuras de Tin-TanThe Young and the GuiltySomeone at the DoorBaisakhiTreasure of Ruby HillsDie unvollkommene EheMeet Me TonightBig Time BertoMa and Pa Kettle at the FairInazumaD-ale carnavaluluiIl padrone del vaporeAabrooTis nyhtas ta kamomataDer doppelte EhemannKrystalloBu neng zou na tiao luOh, du lieber FridolinCurtain Call at Cactus CreekBusabosViaggio in ItaliaO Primo do CangaceiroAdriana LecouvreurMessalinaThe Steel TrapPhantom TrailsTarzan IstanbuldaMadhur MilanMonsieur RipoisEs liegt was in der LuftIsla hechizadaBelles on Their ToesDer ideale UntermieterOk Dan-junAraess fil mazadEruptiaHawai no yoruThe Barbarian and the GeishaAndra thelo me pygmiThe Maverick QueenYoru no tsuzumiParmaksiz SalihKanalGu wu jiang shiDas Bekenntnis der Ina KahrSeven Guns to MesaThe Violent MenAdekaroi erotevmenoiBesondere Kennzeichen: keineThe First TexanVasyok Trubachyov i yego tovarishchiIncantesimo tragicoSurjamukhiCara de FogoTua per la vitaOsho ichidaiLa vache et le prisonnierFeuerwerkLabakanYou're My EverythingTu recuerdo y yoConfesiones al amanecerJesse James' WomenLure of the WildernessMystery SubmarineAssignment RedheadThe Devil's HairpinThe Small MiracleCanario rojoTo Please a LadyThe ProdigalThe Wild and the InnocentTatar Ka ChorEgon, der FrauenheldFriendly PersuasionTeerO Tarzan do 5o EsquerdoRehla ilal kamarThe Lost VolcanoMandiThe Crooked CircleO komis... HatzihristosAanThe Shadow on the WindowThe Atomic CitySangue ToureiroRock Island TrailFive Guns WestGun Duel in DurangoVivir del cuentoDangerous AssignmentFort Dodge StampedeMarie-OctobreLa segunda mujerLa strada lunga un annoWalk the Dark StreetGokul Ka RajaCrni biseriBig House, U.S.A.DraculaDas Forsthaus in TirolDum na OrechovceTres bribonesThe Girl in the PictureIsland in the SkyArashi o yobu otokoEmilia GalottiKathy O'Raj HathMiao shou hui chunBille de clownWritten on the WindDark IntervalFundaCoup dur chez les mousLiang ge diao man nu san xi Xiao YuebaiPhffftHoch droben auf dem BergEscape from San QuentinMexican ManhuntNo Man's WomanVoodoo TigerNie hai huaZhan duan mo zhaoKrvavi putCanto da SaudadeLa campana di San GiustoPanoptikum 59Somebody Up There Likes MeFighting TisoyIhr LeibregimentL'amico del giaguaroDaigaku no oneechanGrand National NightLegione stranieraAir StrikeKatuchaTatort BerlinLa virgen desnudaThe Teckman MysteryNo Haunt for a GentlemanTenali RamakrishnaOstatni dzien lataRetreat, Hell!Schicksal am LenkradFerien auf ImmenhofGli orizzonti del soleAssassins et voleursLyubimetz 13The Narrowing CircleOnce Upon a Horse...Prelude tot de dageraadZhao wuniang wanli xunfuEk SholaIsmol bat teribolVoici le temps des assassins...How to Be Very, Very PopularCalabuchNever Say GoodbyeCento anni d'amoreThe Big CircusEl gran premioWhen I Grow UpUbagurumaKerenia kouklaWells Fargo GunmasterLa desconocidaKaidan Fukagawa jowaEinmal am RheinMiracolo a MilanoFly mej en greveSamanyoluCateneIl maestro di Don GiovanniDuffy of San QuentinEl derecho de nacerHicran yarasiEva im FrackKara EfeLuna novaTercio de quitesRide Out for RevengeDonetskie shakhtyoryMay pasikat ba sa kano?Imbarco a mezzanotteWu qing da hai you qing tianIld og jordLes carnets du Major ThompsonFive DaysColumbia Laff HourThe Cry Baby KillerZeynebin askiIl paese dei campanelliSouth Sea WomanMoumouMaddalenaZwei Herzen im MaiHarem GirlLes femmes sont marrantes...The Hornet's NestHubb lel-abadAmore e chiacchiere (Salviamo il panorama)ShatranjHassan wa NayimaThe Case Against BrooklynLa estrella del reyEr nu zhaiTabarinMutiyarCloudburstChun guang wu xian haoHe Ran All the WayThe Legend of Tom DooleyHarry BlackMan from the Black HillsThe Oregon TrailUkrotitelnitsa tigrovManin denshaPrisons de femmesFei xing tai ziThe Fabulous SenoritaGiantRide LonesomeGuachoMiss CatastropheYasminDios no lo quieraHistoria de una sogaColorado RangerCigankaPassioneKya Yeh Bombai HaiKean - Genio e sregolatezzaTatak ni Solomon (Seal of Solomon)Go for Broke!Seungbang bigokCorn's-A-Poppin'Dvenadtsataya nochPensione EdelweissJuke box - Urli d'amoreThird Party RiskZimboAuf der Reeperbahn nachts um halb einsThe Man Who Could Cheat DeathRed Ball ExpressLes vacances de Monsieur HulotWen li chang chengZhen zhu jiCheckpointSilver Needle in the SkyThe Affairs of Dobie GillisFedraFury at Gunsight PassPhoe pyonn choMujrimDu li qiao zhi lianFancy PantsDer bunte TraumDer rote PrinzShui hu zhuan: zhi qu sheng chen gangDeath Goes to SchoolJonasAkai hatobaGigiMi ren de jia qiLa dulce enemigaPlaisirs de ParisBendita seasBhakta MarkandeyaLu Dong Bin san xi Bai Mu DanFlor del campoFarmacia de guardiaDharmadevataLo sai che i papaveriHiram na asawaIbn el Nil7th CavalryHaha no utaNo Time to DieNyhterini peripeteiaNooi van my HartFarz Aur Mohobbat alias Navsherwan-E-AdilHiram na mukhaZai sheng feng huangLa mort en ce jardinKokoroChance of a LifetimeLiebe, Tanz und 1000 SchlagerThe Rossiter CaseDie JunggesellenfalleCanyon AmbushThem Nice AmericansDas Erbe vom PruggerhofDo Bigha ZaminFilles de nuitThe Dragon of Pendragon CastleNasreddin v Hodjente, ili Ocharovannyi printsGiorni d'amoreSingsing na tansoKvinna i leopardDown Among the Sheltering PalmsSailor BewareEmergency WeddingSuddenly, Last SummerIkaw kasiNightmarePriklyucheniya ArtyomkiThe Nun's StoryYour WitnessManguKono futari ni sachi areJump Into HellAoi hateBare BhaiyyaThe DesperadoMain Nashe Men HoonSi volvieras a miL'ombraEscape from Red RockTanikalang apoyDevushka s gitaroyJail BaitAlli yemeniFast on the DrawLady PossessedStyrmand KarlsenLlamas contra el vientoDanger WithinEkipazhat na NadezhdaAttack of the 50 Foot WomanDie goldene GansKurama TenguMurasaki ZukinAs Long as They're HappyYolpalas cinayetiMei ren enShkola zlosloviyaChakkiri kintaI pappagalliDonConcurso de bellezaQaidiDer kom en dagMikosch, der Stolz der KompanieThe Little HutTwilight in the SierrasCuatro horas antes de morirDailao yuguiBeany and Cecil Meet Billy the SquidUppdrag i KoreaHua Mu LanDesperadoes' OutpostTagahoovisSunny Side of the StreetYalnizlar rihtimiWomaneaterDestinoThe AvengersTetsu no tsumeThe Gentle GunmanKansas TerritorySmall HotelAsk abidesiComme un cheveu sur la soupeJayu buinLiu lian piao xiangPiefke, der Schrecken der KompanieThey Rode WestLa vida alrededorTante Jutta aus KalkuttaSatanskoraalBangaru BhoomiUgetsu monogatariDas Haus in MontevideoIkimono no kirokuYi chang feng boTaian kichijitsuDie Tat des AnderenOne DesireA Star Is BornTasogare sakabaMusik bei NachtSanamCabaret ShangaiHome to DangerBabaing mandarambongTrieste cantico d'amoreKilabot sa MakilingThe Big GusherShiv BhaktaEge kahramanlariDie Frauen des Herrn S.Death Is a NumberYang eUn indiano en MoratillaTeenagers from Outer SpaceBlue DenimHeimweh nach DeutschlandCrow HollowWithout Warning!Life in Emergency Ward 10ZarexInside DetroitLaramie MountainsCasimirGarden of EvilFar til fire og onkel SofusIndian TerritoryHerz ohne GnadeAltin kafes12 ParesThe She-CreatureRamonaThree Came HomeNaginKyojin to ganguPassport to TreasonLa sombra de SafoThe Great Diamond RobberyMarutirtha HinglajSin la sonrisa de DiosThe Big BluffLe legioni di CleopatraForbidden Planet8 X 8: A Chess Sonata in 8 MovementsMadhoshSpy HuntNo Man of Her OwnSarlo Istanbul'daUn ladro in paradisoCourage of Black BeautyGun Battle at MontereyHokm al kawiNenita unitIl ricatto di un padreThe Secret TentWang ge Liu ge you Tai WanCity of FearThe Tall MenHu xian qi yuanBrothers in LawDig That UraniumJuventud desenfrenadaSheng yu siJungle HeatPuebla de las mujeresDespoinis eton '39'Catalina de InglaterraViva la rivista!The Tall TexanRosario CantadaBack to God's CountryBarco sin rumboThe Lone Ranger and the Lost City of GoldPoetShow BoatHabang buhayHome Town StoryUntamedFour Sided TriangleRiscattoGilirheun saramdeulGuilty of TreasonTo tama tis AnnoulasZen-maStopover TokyoYami o yokogireNo Place for JenniferMillione guineeThe ScavengersLe banquet des fraudeursEl trueno entre las hojasBatu Belah Batu BertangkupRiot in Cell Block 11Sealed CargoLe marchand de VeniseGunslingersScroogeGekiryuMartin LutherBai she zhuanWan li xing shiThangamalai RagasyamNous sommes tous des assassinsTamangoLos amantesFlaming FrontierDos fantasmas y una muchachaSeesterneThe Rocket ManIl sogno di ZorroSi Ilie face sportThe Man in the White SuitLas tres alegres comadresNikkiSigillo rossoUlilang AnghelHuk sa bagong pamumuhayLa peau d'un hommeBreakoutI Bury the LivingAng Sawa sa Lumang SimboryoNasser AsphaltEl cerco del diabloMiss 56Ra-Ta-PlanBiruma no tategotoBhagya RekhaIl pirata dello sparviero neroAllauddin Adhbhuta DeepamMiyamoto MusashiThe OklahomanUn americano a RomaV mirnye dniLakhpatiTarzan and the She-DevilApat na Kasaysayang GintoHot Rod GangThe Red DressVenusDayar-E-HabibRatataa eller The Staffan Stolle StoryZemlyaSnezhnaya korolevaWu Xun zhuanKonsul StrotthoffDavid and BathshebaLos olvidadosNevjeraThe Gun RunnersDie Sennerin von St. KathreinLos mujeriegosSalto a la gloriaThe Secret CaveAmor i telefonenEl pueblo sin DiosLe tournant dangereuxErode il grandeVingslag i nattenZhao WuniangGun the Man DownGuerreroL'alba, il giorno e la notteOne Too ManyDesigning WomanEncuentro en la ciudadTatay na si BondyingAnmol RatanLa sonnambulaChenchu LakshmiMeksikanetsDalagindingByaku fujin no yorenThe Dark AvengerMr. SampatBeyond a Reasonable DoubtMulto sa operaLu Si Niang da po xue di ziIt Started in ParadiseCause for Alarm!The Killer ShrewsCuando acaba la nochePikro psomiEsos de PenjamoTony Draws a HorseJosephine and MenThe Screaming SkullThe Gambler from NatchezTakarajima enseiDonovan's BrainValley of FireRitu VihaarLa ladraMayakovsky itskeboda ase...Luna de mielOberwachtmeister BorckLe rosier de Madame HussonRommel ruft KairoThe Challenge of Rin Tin TinNur eine NachtThe Great Locomotive ChaseFire Maidens from Outer SpaceThe Wings of EaglesUltimo incontroLostDonne proibiteNeobyknovennoye puteshestviye Mishki StrekachyovaA Ticket to TomahawkUpstairs and DownstairsKosolapyy DrugEl cercoCount the HoursUniformes et grandes manoeuvresOperation DamesFiles from Scotland YardGerakinaDie Winzerin von LangenloisPaul Temple ReturnsKrasnye listyaAlamidLes dragueursHeidelberger RomanzeOn n'aime qu'une foisPostiLa figlia di Mata HariThe Desperate ManIt Happens Every ThursdayXue ying han meiTop Secret AffairRevenge of the CreatureTouch and GoIvan Brovkin na tselineLa gaviotaThe Big SkyInvitationVacanze col gangsterEl wessada el khaliaQuentin DurwardBorder OutlawsChucho el RotoTeatro UmbertoFlugten til DanmarkWrong NumberKafilaLa guerra de DiosBa wang yao jiPrinsipe Alejandre at Don LuisInang mahalFlesh and the SpurLocos peligrososThree Stooges Fun-O-RamaMein Freund, der DiebThe Square JungleZhuo jian jiHurra - die Firma hat ein KindAna hasretiChase a Crooked ShadowPardesanFloradas na SerraHana norenGecekondu yosmasiKinder der BergeGueule d'angeMuchachas de azulThe Charge at Feather RiverRodrigo de VillaKilabot sa Sta. BarbaraThe Girl in WhiteThe SheepmanGateway of IndiaMirza SahibanCrime Against JoeNo Way OutLos hamponesAngelitos del trapecioThe Late Edwina BlackQuand te tues-tu?The Parson and the OutlawYo quiero ser hombreLakeuksien lukkoSo Lovely... So DeadlyJungle StampedePrashnaBeloved InfidelLes hommes en blancKong zhong xiao jieYunost nashikh otsovDouble CrossbonesChar MinarLes amoureux de MarianneThe PythonessRacing BloodSharey ChuattarDestryUne fille sur la routeHoula HoulaLight FingersParis chante toujours!Alles sal Regkom!Joe ButterflyA Lawless StreetAng buhay at pag-ibig ni Dr. Jose RizalIsmail Yassine fil madhaf el shamiAction of the TigerAnne of the IndiesAuntie MameThe Last HuntDanryuHanussenBaba AreessTy molodets, Anita!Mujeres que trabajanSavnet siden mandagGang WarThe Great GameThe Lady Says NoSalto MortaleCome Next SpringOn Top of Old SmokyLos salvajesThe Phantom StagecoachMoby DickZauber der MonturMichel StrogoffThe Amazon TraderThe Dog and the DiamondsMartySha ren de qing shuVoodoo IslandU mreziMurder by ContractKoroshita no wa dare daFace the MusicLa herida luminosaCell 2455, Death RowBalanagammaV yedinom stroyuMaihimeMaskaraIl mulattoCon la vida hicieron fuegoMarshal of Cedar RockLabis na pagtitipidStryker of the YardEsposa te doyFlying CadetEl aprendiz de maloPeople Will TalkRaja NandiniProti vsemBharjaeeHangman's WharfMundaduguDes Teufels GeneralSurrender - Hell!Zhaojun chu saiIndiscreetMay umaga pang daratingVysotaYoru no kawaArdhanginiOpstinsko deteAy Pepita!El diablo toca la flautaHear Me GoodA Dog's Best FriendPreme DaivamFrankieI falsariHigh SocietyMa femme, ma vache et moiGlad TidingsAlle kann ich nicht heiratenSix Gun DecisionLes amants de demainHigit sa koronaThundering CaravansThe Body BeautifulIl piccolo vetraioKaspers Reise zu den ZwergenDevdasShan-E-HatimOne Jump AheadHotel SaharaCheng da saoHootsy kootsySapphireThe BeachcomberThe Curse of FrankensteinLe bagnardIl segreto delle roseLa regina di SabaAfritet Ismail YassineThe Franchise AffairAnna perdonamiSou shuyuanMiss ItaliaWalk East on Beacon!Helle for HeleneHoudiniBhai BhaiWorm's Eye ViewBundle of JoyWhere There's a WillWings of the HawkWarlockThe Crimson KimonoTapage nocturneOnna dake no machiManavatiManos arribaTenali RamanCapitan FantasmaTatang EdyerArrow in the DustDnes naposledLa mano dello stranieroHell on Frisco BayTe vi en tvThat Night!Drums in the Deep SouthWedding BellsHeart of a ChildTagapagmanaSinfonia d'amoreUntamed YouthFangio, el demonio de las pistasDreizehn unter einem HutMontana IncidentMater deiAbsolutamente CertoIyung-iyoThe Story of Esther CostelloBobby Dodd greift einMasura o hashutsu fukaiDie Dame in SchwarzOkon no hatsukoi hanayome nanahengeDesk SetOne Wish Too ManyPharaoh's CurseDer WeibertauschThe KillingBullfighter and the LadyCurse of the UndeadSimaronBai ri mengLa belle de CadixGiv'a 24 Eina Ona10 canzoni d'amore da salvareAlta costuraCasabiancaTawag ng tanghalanTsukiyo no kasaWild WomenOra HSlepoy kukharThe Man from Bitter RidgeEl zulum haramRock-a-Bye BabyA Summer PlaceMitsou ou Comment l'esprit vient aux filles...Kandelerong pilakAnakku sajangOne Stop ShopYi guo qing yuanPagan Love SongDear BratFlame of the IslandsAma no bakemono yashikiTorrente indianoFast CompanyNaked AlibiTiempos felicesRovaniemen markkinoillaFar til fire i sneenThe Arizona CowboyWo men fu fu zhi jianOnly the ValiantStar in the DustSerseriTatlong birhenForty GunsThree Sundays to LiveHimawari musumeStarik KhottabychGrabenplatz 17MeurtresLa pochardeObusku z pytle ven!Kavalier zolotoy zvezdyThe Admiral Was a LadyBatalyon Pilipino sa KoreaMandyStar mit fremden FedernLi hua yi zhi chun dai yuAlways a BrideO megalokarhariasHollywood or BustBegunahDial 1119Zombies of the StratosphereDo BehnenManamagal ThevaiAmei um BicheiroBoris GodunovKaoCapturedParty GirlSaydwok bendorPerveenValue for MoneyLes salauds vont en enferG.I. JaneTrevozhnaya molodostTatakSokak sarkicisiRomance de fierasCumbres luminosas (Montserrat)Wahabtak hayatiDevochka ishchet otsaOliviaKapitanskaya dochkaMr. BasketballVilla BorgheseSalve sauegjeterBendito entre las mujeresReproduction interditeSair-E-ParistanKurshaRisti ja liekkiFinal AppointmentOrfeu NegroTo soferakiLilacs in the SpringDie geschiedene FrauHot Rod GirlCrime au Concert MayolBlack IceThe RainmakerEl secreto de una mujerDu bist wunderbarWo xin chang danGreen MansionsDer VerloreneLos peces rojosKaizoku-senKanli degirmenPogon BFiamme sulla lagunaVisa pour l'enferI prepotentiPet minuta rajaNa paidi, na malama!ArirangLes quatre cents coupsMorir para vivirNeobyknovennoye letoLe rouge est misSplit SecondWo zhe yi bei ziSangareeSerious ChargeCaptain Horatio Hornblower R.N.The SafecrackerPlavi 9Murder ReportedAdventure in the HopfieldsMed mord i bagagetSlanderAlin yazisiEl jugadorSvoimi rukamiAyrilikIl cavaliere di Maison RougeKigeki ekimae ryokanLe mariage de Mademoiselle BeulemansWitness to MurderModel for MurderIls sont dans les vignes...The Hawk of Wild RiverManfishLoving YouUne nuit de nocesNachala hanemBandilang pulaItohan monogatariDolgiy putBuenas noticiasLagablab sa Silangan (Sunset Over Korea)Cat on a Hot Tin RoofOur Miss BrooksPiet se TanteUnser Wunderland bei NachtMarianne de ma jeunesseSideshow BurlesqueMan on the RunHudba z MarsuWoman in a Dressing GownShe's Working Her Way Through CollegeThe Divided HeartAlice in WonderlandBaratiDo ShehzaadeChun qing lie huoMaharadscha wider WillenSaikaku ichidai onnaBanktresor 713Tateshi DanpeiDaliborAkher kedba5 hermanosThe Brass LegendLe SicilienRaspoutineSpur in die NachtJaldeepTo xylo vgike apo ton ParadeisoIo, mammeta e tuThe Straw ManMarinai, donne e guaiDaasiMarshals in DisguiseSatomi hakken-den: Youkai no ranbuNever Trust a GamblerDelincuentesRen ge wan zhong shanIl pupo dal k.o.Shin, Heike monogatari: Yoshinaka o meguru sannin no onnaTogetherAnimal FarmArizona TerritoryLa rivalHunt the Man DownIllarikamI sette dell'orsa maggioreIl ladro di VeneziaValley of the KingsSeminoleDa hua jia hao caiShikko yuyoWaray-warayPourquoi viens-tu si tard?Look Back in AngerRosmarie kommt aus WildwestYosmanin kiziDie Kaiserin von ChinaCondenadoKara bahtimSkarb kapitana MartensaMademoiselle Josette ma femmeEna votsalo sti limni...Siete pecadosArashi no naka no otokoLa sposaPremier maiAni to sono musumeHu Weiqian da ji fangBeklenen bombaSinjorenbloedThe Reluctant BrideThree in OneAmpropi arahetovEdo iroha matsuriThe ViolatorsLin zexuThe KentuckianThe Reformer and the RedheadBessmertnaya pesnyaThe Toughest Gun in TombstoneO Grande EliasBandidoKami no taishoJie hun 24 xiao shiSuonno d'ammoreKaracaoglanLa minaYan wu xiao hunMandolinen und MondscheinNevada BadmenLuo shui jiTalusalingSalangi gagijeoneMadeleine Tel. 13 62 11Restaurant IntimWhat Every Woman WantsMontana DesperadoEva erbt das Paradies... ein Abenteuer im SalzkammergutSandunga para tresDer UntertanRubi-RosaKommunistPatitaThe Golden HordeThe SharkfightersRosalba...Sans laisser d'adresseSlaughter TrailMeet Mr. LuciferKiziltug - Cengiz HanDer DorfmonarchPrince of PiratesIvy League KillersIftiraDou kou nian huaThe Fighting StallionVogliamoci bene!Prinsipe AmanteThe Green ScarfO anthropos tou trainouTsuki to seppunKees de zoon van de stroperI Killed GeronimoThe Rawhide YearsDoroga ukhodit vdalSimbad el MareadoDue mogli sono troppeEl sordoWiretapperSitamgarChacha ChowdhuryPrima comunioneEl wahshMore zovyotThe SelloutQuai des blondesLeenaHier bin ich - hier bleib' ichSo This Is ParisSkipalong RosenbloomKangarooLa nave delle donne maledetteTova se sluchi na ulitzataQi xia wu yi ye tan chong xiao louBrudebukettenJula juli bintang tigaSky Full of MoonLos ojos llenos de amorTsarouhi... pistoli... papigion...Di Qi QirenKahpenin askiXiao yuan jiaLa vida de una mujerStreet of SinnersJacquelineShati el gharamEl rey de Sierra MorenaAtom BombThe PrisonerLa fierecilla domadaEl Cristo de mi CabeceraMag-inang ulilaLa Tour, prends garde!Man in the AtticYangtse Incident: The Story of H.M.S. AmethystLekeEl seductor de GranadaTainstvennaya nahodkaNaya ZamanaLa fille au fouetBahuThe Phenix City StoryPucciniLos cobardesKaiserwalzerTrail BlazersIt's a Great DaySensualidadAlekoDas singende HotelJian qingCuban ConfidentialSon yolcuSad aris sheni bedniereba Mzia?A SograThe 27th DayOkaru KanpeiA Farewell to ArmsMu zi leiLos diablos del terrorPayment on DemandMeshiAgilang itimLe tampon du capistonThe BushwhackersOeil pour oeilZhuo gui jiSissi - Die junge KaiserinThe Virgin QueenChicago CallingBrigadoonRun for the SunLaganAlrauneLa huidaTeacher's PetMaiskaya noch, ili utoplennitsaDie Wirtin an der LahnThe BetrayalGangsterpremierePobres millonariosHai tang hongChetak & RanaDentro da VidaLa bestia magnifica (Lucha libre)Tu vida entre mis manosThe Last OutpostA La Habana me voyFilumena MarturanoErotika skandalaSi Og sa armyAddio per sempre!Sebya, mahal kitaKovanaamaNi shi xiong shouBenvenuto reverendo!Toofan MailLoopholeNigorieSommarnattens leendeWunschkonzertTodos son mis hijos!...Mobs, Inc.NanaCrime of PassionRobinson warszawskiLos dioses ajenosDevil's DoorwayLos ases buscan la pazGunsmoke in TucsonLe printemps, l'automne et l'amourMarejadaProbinsiyanoBobosseIl padrone delle ferriereUn tesoro en el cieloBlondie's HeroChar ChandPrivate's ProgressDr. HollT' arravoniasmataLos torturadosAventuras del barbero de SevillaLa casa de la TroyaNackt, wie Gott sie schufPort SinisterHijo de familiaPigen og vandpyttenUrok istoriiO SobradoLa faraonaLe petit JacquesLili's Wedding NightPuteshestviye v molodostAsk besteleriBaitThe Narrow MarginI'll Cry TomorrowFury of the CongoThe Last MusketeerSangang nangabaliTrouble in the GlenChang sheng daViktoria und ihr HusarRaag RangMerry AndrewDer letzte AktZhan di jia sheng hai tang hongSalaya handaHaydushka kletvaMein Vater, der SchauspielerThe Diplomatic CorpseStrange Lady in TownDianeShinshokoku monogatari: Nanatsu no chikai gaisen uta no makiJusqu'au dernierEva no BrasilThe Happiest Days of Your LifeIo, AmletoThree Steps in the DarkStreet BanditsLa GiocondaTeodora, imperatrice di BisanzioFlagi na bashnyakhVia DolorosaMai BaapJim Thorpe -- All-AmericanThere Was a Young LadyPaths of GloryAglayan gelinBonjour tristesseStipsSankarialokasSabakaSuzana e o Presidente1. April 2000Das verbotene ParadiesSamadhiLady in the FogDong XiaowanSen-himeThe FrogmenMulher de VerdadeBai bian fu ren xinCatita es una damaKajikkoSabotear en la selvaChanwayArzu ile KamberStakeout on Dope StreetCapitaine ArdantTucydidesFull of LifeClub de femmesLa danza de los deseosDi xia huo huaKaderin mahkumlariMein ganzes Herz ist voll MusikThe Country GirlLes fruits sauvagesIkiteiru koheijiI due sergentiHoedownKatestrepsa mia nyhta ti zoi mouCetiri kilometra na satTank CommandosBaozitou Lin ChongIsini chamovidnen mtidanSekretnaya missiyaKing of the Wild StallionsDie Sehnsucht des HerzensSashkoSe necesita un hombre con cara de infelizThe Happiness of Three WomenShadows of TombstoneMadhumatiLos legionariosCesta do pravekuBaghiIntisar el hubAlibiThe Lady and the BanditSilveriaHigh FlightAugen der LiebeDu bist MusikAaj KalTalk About a StrangerFu Lan jie jieCao mang en chouRen yue huang hun houStalag 175 poveri in automobileGidgetPawanThe Baron of ArizonaLuna de veranoAvenida Roma, 66Baby HueyKomandirat na otryadaOnu bagislamaq olarmi?Bergama sevdalariLahn hubiThe Ambassador's DaughterTeen-Agers' HoldayAttack of the Jungle WomenShibdaeui banhangWestern Pacific AgentSigarah wa kasTons of TroubleA Time to KillPardesiMadaling arawThe Buckskin LadyTaong putikKanganCannibal AttackAir CadetZero Hour!The Steel KeyBlackmailedLeilani (Tabu)Dead Man's TrailMayalamariSengawunu PilituraAbbott and Costello Meet the Keystone KopsChiens perdus sans collierCarouselIn Love and WarMurder in Villa CapriLa fille de HambourgCascalhoLucy GallantSlightly ScarletA Hatful of RainBattle ZoneNi shi wo de ling hunCry VengeanceLabyrinthThe Silver StarBuffalo Bill in Tomahawk TerritoryUtro nad RodinataMagnificent RoughnecksRockabilly BabyFlicka i kasernEen zonde waardDer 10. MaiPlayboyYaqui DrumsVous pigez?Eine Nacht im SepareeViktor und ViktoriaHeures chaudesCoupable?Sa kamay ng tadhanaYang cheng hen shiBanco de PrinceMotorcycle GangSecret of Outlaw FlatsGoal ston erotaLos tres vivalesThe Second WomanBajajaKontrabandoLibera uscitaDarnaA Private's AffairSinging in the DarkGangsterjagd in LederhosenSaddle TrampLo' Waist GangChained for LifeThe Last MomentThe Louisiana HussySultan - E- AlamThe Truth About WomenDiego SilangIki ates arasindaLa marquesa del barrioDeep AdventureAcapulcoUrlaub auf EhrenwortLiao yuan de xiang cunLo spadaccino misteriosoCinco vidas y un destinoBuddenbrooks - 2. TeilKonyaku yubiwaDie lustigen Weiber von WindsorKapitan BagwisMaruzzellaTroop 11You huoAnkokugaiNew York ConfidentialThe Black Shield of FalworthChain of EventsBeachheadStormy, the ThoroughbredEsterinaMan of the WestA Stranger in TownMen of the Fighting LadyShanhai no onnaFort VengeanceThe Flying ScotHouse of NumbersEl porteroDak BabuIsmail Yassine fil bolisLiang chong xinChinnamulRosen im HerbstThe MarksmanVati macht DummheitenThe Petty GirlNever Wave at a WACDaigaku no IshimatsuArara VermelhaWichitaMan of the MomentTaxi di notteDesperate SearchVilli PohjolaMark of the PhoenixCircus FriendsTarget UnknownNavvite NavaratnaluLaila MajnuAnastasia - Die letzte ZarentochterFugitivos: Pueblo de proscritosFace in the NightLa copla andaluzaUne simple histoireI slik en nattKey to MurderThe Quiet AmericanPowder RiverBlack HandDeshonraThe Brave Don't CryBattal Gazi GeliyorSuicide BattalionMunting koronelKoncertAl Jennings of OklahomaSoldat Ivan BrovkinKnights of the Round TableFootsteps in the FogMariachisHis Kind of WomanBakonja fra BrneAlaska SeasBajo la influencia del miedoLoan SharkWestward the WomenLeng luo chun xiaoThe Vicious CircleEl honorable inquilinoPatay Kung Patay12 O'ClockHandcuffs, LondonAya ni ai shikiWu duo JinhuaTwo-Gun LadyFighter AttackApagorevmeni agapiOverland TelegraphI Was a Teenage WerewolfGoubbiah, mon amourMing tianMister KasintahanAgni PareekshaJayasimhaAmor y pecadoZi jun bie houDos diablitos en apurosOutside the WallLe avventure di Giacomo CasanovaRakki-sanKaibyo ranbuPunglo at pag-ibigTeenagers Battle the ThingCome Fill the CupLa reina del mamboTakas!They Can't Hang MeA Town Like AliceUkigumoKaidan hitotsu-me JizoBells of CoronadoClaudiaPiernas de oroThunderbirdsCi mu leiBuhay alamangAu pays du soleilLasciateci in paceThunder on the HillRessalet gharamThe Next Voice You Hear...Another SkyGeschwader FledermausLauta manciaDonne e brigantiDue sosia in allegriaKorabli shturmuyut bastionySoldatyMatandang tinaleLa fieraThe Tall TargetCe joli mondeFlight to TangierPearl of the South PacificJuzgado permanenteEomeoniLa huella del chacalBravissimoDakota LilDer Tiger AkbarArzt ohne GewissenDetectiveCustoms AgentDugo ng BataanJue dai jia renZhenikh s togo svetaJumping JacksRasmus, Pontus och TokerL'ami de la familleEl inquilinoDon't Panic ChapsBeni mahvetttilerSonataMga Anghel sa LansanganLos ojos dejan huellasJohn Paul JonesMo deng tai taiThe African QueenVenta de VargasRed MountainTakas sa BataanSok Jayu buinTen Tall MenJons und ErdmeBuenas noches mi amorNa Corda BambaThe Iroquois TrailSingle-HandedAnder di sayaI vintiIn the MoneyXiadao QinghuaIls ont vingt ansTin-edyerShilpiKoi yamabikoMy Daughter JoyDer Geist von AllenwilLan gui feng yunFrauenschicksaleDagli Appennini alle AndeTandriLes grandes manoeuvresSuperman's PerilGilitruttVuelve ChistelandiaRagazze da maritoThe Man InsideEl amor no es ciegoMatros soshyol na beregR.O.T.C.NakanuneArvingenOn the RivieraHidden GunsSette ore di guaiThe Love MatchGekko kamen - Satan no tsumeThe Night of the HunterHot LeadGeroite na ShipkaJoi no ShinsatsushitsuLa MadelonVesyolye zvyozdyI calunniatoriThief of DamascusJiban TrishnaTees Maar KhanFacundo, el tigre de los llanosI tartassatiThey Knew MayakovskyKami ang Sugatan (Wings Over Bataan)Das fliegende KlassenzimmerRajputMozart's Don GiovanniPardnersHow to Make a MonsterLa bonne tisaneBaron TziganeSabash MeenaDas haut hinKohtalo tekee siirronKiken na eiyuThe Daughter of Rosie O'GradyRaiders of the Seven SeasRaja MakutamAgainst All FlagsAlter Kahn und junge LiebeLa presidentessaNash milyy doktorEl HakimDance with Me, HenrySolution by PhoneLola, la piconeraMuskurahatThe Lavender Hill MobBab el hadidYeoinsukThe Bold and the BraveTrain to TombstoneLe notti dei Teddy BoysHalf a HeroIntimate RelationsHigh HellHow to Murder a Rich UncleSolang' noch untern LindenMister UniverseNo Time for SergeantsLight HouseDarwazaAmarLos islerosLes enfants terriblesMister Rock and RollGive a Girl a BreakVultur 101Due sorelle amanoIll Met by MoonlightNamidaYi jia chunTake Care of My Little GirlThe CardThe Alligator PeopleLes femmes s'en balancentLiebe verboten - Heiraten erlaubtSchlagerparadeEl puenteAozora musumeDie vertagte HochzeitsnachtTanri sahidimdirItsuko to sono hahaSecuestro diabolicoThe Black PiratesAchtung! Banditi!Nyhtes tis AthinasCinco gallinas y el cieloThe Fiend Who Walked the WestNanhai yu geDinayang pagmamahalShan shui you xiang fengAi no onimotsuIt! The Terror from Beyond SpaceAvventura a CapriDie Rose von StambulDie Perle von TokayZa vitrinoy univermagaFei lai yan fuPiao ling yanRani RatnaprabhaBarnacle BillDer Graf von LuxemburgLa patrullaBooby TrapExport in BlondNa vsyakogo mudretsa dovolno prostotyKuchi kara demakaseHannerl: Ich tanze mit Dir in den Himmel hineinBotany BayKanli paraThe PersuaderSan yue du juan hunKrisisTek kollu canavarThe BadlandersThe Man in the NetMisterios de la magia negraNaya AadmiThe Glenrowan AffairSlaughter on Tenth AvenueMor sirteSpin and Marty: The MovieAling kutseroAmor en cuatro tiemposPendekar bujang lapokChen SanliangBreakdownBlack 13Emei fei jian xia xia jiDer Fischer vom HeiligenseeRumba calienteAnata kaimasuMosekongenLille Fridolf blir morfarSeraa maal hayatHaha to musumeOtelloHinter KlostermauernRock Baby - Rock ItQuatermass 2Saluti e baciRomeo i DzhulyettaYujeong cheonriHong fen piao lingDankaVarieties on ParadeFootsteps in the NightKonets Chirvy-KozyryaLe boulanger de ValorgueLe bossuI dimma doldThe Great American PastimeLa patronneHarveyMorir de pieMali covekSingsing na sinulidSa paanan ng bundokRetaggio di sangueOnna goroshi abura jigokuEarth vs the SpiderPapa, maman, la bonne et moi...Made in HeavenThe Revolt of Mamie StoverAllou to oneiro, ki allou to thavmaO ponemenos tragoudistisThe Misadventures of Buster KeatonDaiman maakJiao yinTepara dosFour DaysThe Court-Martial of Billy MitchellDilrubaAmor de la calleAnak ng lasenggaModati RathriLuban De ChuanshuoEinmal kehr' ich wiederSubmarine SeahawkThe Bad and the BeautifulMaximeSarangDie Heilige und ihr NarrThe Lost PlanetThe Violent YearsThe Green BuddhaThe Quiet GunYuan yang guNovoselePulot gataDashi chatneun yangjiNadaanThe Big CountryPlease Murder Me!Dwie godzinyMga ligaw na bulaklakVicdan azabiThose People Next DoorLinda MoraThe VintageShikastDein Herz ist meine HeimatKulang sa pitoJubilee TrailDjembatan merahThe Girl in the KremlinAnthismeni amygdaliaOh! SusannaEgo vremya pridyotGood Day for a HangingHakuchiThree SecretsGunman in the StreetsThe Song of Sto. TomasTaheraRaw Wind in EdenLes DuratonAll the Brothers Were ValiantBelle Le GrandDaar Doer in die StadBir qalanin sirriShadowsBwana DevilThe Case of the Missing SceneLove Slaves of the AmazonsAleksa DundicEyewitnessSati ParikshaJeux interditsPool of LondonDomenicaIsshin Tasuke: Otoko no naka no otoko ippikiMensajeros de pazThe Blue LampWer bist du, den ich liebe?Kara sevdaSamba na VilaThe Unholy WifeAzadi Ke BaadNespokoen patLangya shan wu zhuang shiOtsukisama ni wa warui kedoSalna pavasariTo Dorothy a SonEuropa '51Die sieben Kleider der KatrinA Grande VedeteJoy RideGozonji kaiketsu kurozukin maguna no hitomiI limni ton pothonHurricane IslandHanmanheun cheongchunInto the BlueDown Among the Z MenSon nefesDeewarTwo Guns and a BadgeParichehrTodos somos necesariosZwei Herzen und ein ThronWu ye jing hunPerdidos de AmorTayna vechnoy nochiLiebe, die den Kopf verliertAbschied von den WolkenKader degismezDet brenner i natt!ShalimarDada me to zoriBella non piangereJiu se cai qiDie RegimentstochterIst Mama nicht fabelhaft?Flame of CalcuttaDepois do CarnavalMiss Punjab MailDie RattenThe Second FaceWo men de zi nuSari ZeybekGeld aus der LuftDie WildeboereLas tierras blancasMa and Pa Kettle on VacationBoca de OuroSa ngalan ng espadaThe Love LotteryThe MissouriansIsla para dosIndra SabhaThe Naked TruthToxiThe Proud OnesSabahsiz gecelerThe Great Jewel RobberBigger Than LifeJungle Ki DuniyaLeng yue ban lang guiRosa de AlfamaIl monello della stradaComo yo no hay dosMang lianLas manzanas de DoroteaAttackHong yan jieKnall und Fall als HochstaplerUtah Wagon TrainBlekitny krzyzBedtime for BonzoMalta StoryDo UstadJi ling gui yu xiao lai maoS'Waisechind vo EngelbergLa lupaKalb min dahabTorch SongThe Adventures of RexHei ye qi yuanVores fjerde farThe Wedding of Lilli MarleneMy Favorite SpyFar til fire og ulveungerneLe feu aux poudresAnsiktetVenganzaHuang Fei Hong Guan Yin Shan xue henMahsere kadarThe SpoilersSuivez cet hommeThe Strange World of Planet XPsohlavciA Yank in ErminePamyat serdtsaTa tessera skalopatiaMaria ChapdelaineChhoti BegumNow That April's HereHurra - ein Junge!Night of the Blood BeastDon LorenzoFront Page StoryWei hai zi men zhu fuQi ren qi yuHongkong HolidayBhabhiSubmarine CommandDevil's CanyonMorskoy okhotnikCampingDotanbaBehemoth the Sea MonsterJin lu yiThe Burning HillsAcross the Wide MissouriSlecna od vodyHigh LonesomeWei le he pingVeerapandiya KattabommanLa domenica della buona genteReturn of the FrontiersmanLife in Her HandsFlottans glada gossarLe grand pavoisJustice est faiteFabian of the YardTie chuang lie huoChabacanoKing of the Khyber RiflesO Fanouris kai to soi touDesert of Lost MenLa grande rinunciaEl cercoPoema o moreDer Engel, der seine Harfe versetzteCanyon RiverLe notti di CabiriaParijatamAbove and BeyondMister RobertsDon't Blame the StorkBlaue JungsLang xin ru tieGo Man GoDer GreiferSound OffAkhlak lel beiaIl tradimentoTo amaxakiGorod zazhigaet ogniThe Reluctant DebutanteQing chiMeines Vaters Pferde, 1. Teil: Lena und NicolineLes 3 MousquetairesL'incantevole nemicaTread Softly StrangerMatir PaharJibun no ana no nakadeDer Schatz vom ToplitzseeKoto no tsumeLa famille CucurouxThe BlobSanto disonoreThe Redhead from WyomingCalamity JaneA Dangerous AgeLa spiaggiaRed Planet MarsLe grand chefBolshoy kontsertThe Black KnightSudden DangerLo svitatoJayam ManadeUne histoire d'amourNightmare in Red ChinaRasiyaThe Eagle and the HawkTeenage ThunderGli ultimi giorni di PompeiNakyeobRoom for One MoreRio Zona NorteBouquet de joieDie ying hong li jiWide BoyHua gu niangLa hija del marWanneer die Masker ValPervyy den miraZi mei huaDer Mann, der sich verkaufteSoyez les bienvenusJet AttackPaksunahkaCatch Me If You CanLa contessa di CastiglioneHamidoLos ladrones somos gente honradaFrontera norteTropical Heat WaveLiu hao menTuko sa Madre KakawLa esquina de mi barrioThe Prince and the ShowgirlGeliebte FeindinErich KubakCela s'appelle l'auroreBei der blonden KathreinCry FreedomCaptain LightfootMovie FanBrindis al cieloLa justicia del loboSheng si paiMasterson of KansasNo Mundo da LuaDong qu chun laiBagriyanikKansas RaidersFu huo de mei guiNight and the CityFrine, cortigiana d'OrienteGreat Day in the MorningThe Clue of the Missing ApeFortune Is a WomanPukotina rajaAquellos ojos verdesLes orgueilleuxBlazing BulletsTo kleidi tis eftyhiasEl vampiro negroCaballito criolloEscape to BurmaJuke Box RhythmThe Tarnished AngelsJungle PrincessShui huo zhi jianSumnjivo licePete Kelly's BluesAltairSait-on jamais...O Barbeiro Que Se ViraLiebe, Schnee und SonnenscheinBajo el cielo de AsturiasBlackjack Ketchum, DesperadoSilver CityKhatafa miratiAshianaHistoria de un abrigo de minkTumbleweedJi zhan qian yeSyntipukkiTeenage DollNuestras vidasVagabonderne paa BakkegaardenMaria BonitaSalt of the EarthIn sat la noiMan from Del RioMi adorada ClementinaLuha ng birhenHana no naka no musumetachiPolice StationLa vida en un blocOut of the CloudsSuspenso en comunismoEl gran GaleotoUne gosse 'sensass'Los hijos ajenosWeb of SuspicionDet lille hotelThe Lonesome TrailThe Big KnifePovodenCastle in the AirThis Woman Is DangerousSouth PacificHan yeThe Teahouse of the August MoonDelo RumyantsevaMunimjiShyamchi AaiBond of FearDie Nackte und der SatanTo koritsi me ta paramythiaLe coin tranquilleChi no hate madeWa gui huan shenPhone Call from a StrangerGabi at arawThe Strange DoorOtona niwa wakaranai: Seishun hakushoOver the Garden WallBakit may putik ang bulaklakJoe Louis vs. Arturo GodoyTo oneiro tou paliatziPasang krusLes grandes famillesAnderssonskans KalleThe Bridges at Toko-RiEn effeuillant la margueriteHariaHvezda jede na jihHushang de douzhengHistoria de una noche de nieblaThe PromiseVacanze a IschiaVendetta di fuocoSwamp WomenShan dian lian aiLe sorprese dell'amoreDo MastaneGypsy ColtMadame du BarryDym v lesuTribute to a Bad ManOklahoma JusticeAttilaArroz con lecheThe Little SavageMaluco por MulherPenny PrincessLawless CowboysCallaway Went ThatawaySatomi hakken-denEl fronterizoDer Schmied von St. BartholomaeOi kolasmenoiTerror at MidnightLa honradez de la cerraduraThe Bob Mathias StoryHerz der WeltSouvenirs perdusHayatim sana fedaTo Catch a ThiefDe moedige bruidegomResan till dejNanay koLe petit profYi zhang qingIch denke oft an PiroschkaSemya UlyanovykhEzo Gelin3:10 to YumaDer Richter von ZalameaLeadville GunslingerSummer of the Seventeenth DollOne Big AffairColt .45Manos de sedaStrange StoriesJapani GudiyaEnas alitis me kardiaGamilies peripeteiesInvisible InvadersChuk i GekLa locaNaked FuryTausend Sterne leuchtenGefangene SeeleThe Third VisitorShrimati 420The ScampPrivate InformationThe Story of Gilbert and SullivanDaleko v gorakhForty DaysJamais deux sans troisUnder FireSakhi HatimIzdirap sarkisiThe Stranglers of BombayA Life at StakeAndreykaShe DemonsCanadian Mounties vs. Atomic InvadersMy Cousin RachelBim, Bam, BumWang Lao Hu qiang qinFor Better, for WorseRookie FiremanEl diablo a caballoVejrhanenLa justicia del CoyoteOutlaw's SonThe Last Angry ManEl difunto es un vivoDos mundos y un amorCarry on TeacherL'intrusaShi hou jiThe World in His ArmsBlack JackMekura nekoPompeyo el conquistadorPepito as del volanteTexas LadyCuban Rebel GirlsEl jinete solitario en el valle de los buitresThe Storm RiderLes affreuxNiralaLas Vegas ShakedownEhestreikPueblo en armasThe RingerTammy and the BachelorTrouble in StoreThe Naked StreetSan xing ban yueViza na zlotoFrench CancanSadhnaDva drugaHoliday RhythmAlle Tage ist kein SonntagUn soir de joieJungle KingNo Room for the GroomTeksas, ang manok na nagsasalitaEl caudilloVive como seaBasre Ki HoorThe Man from Planet XNon-chan kumo ni noruMonsieur Leguignon, lampisteHab Sonne im HerzenMujeres sacrificadas4 nyfes ki enas gabrosProfessor TimJi mao xinEl duende y el reyOlympic Games 195624 timer af en kvindes livChicago SyndicateNa ge bu duo qingFortunes of Captain BloodRock, Pretty BabyDer blaue NachtfalterBongseonhwaIlaw sa karimlanKagiEl pescador de coplasAlla tiders 91 KarlssonJadooMuertos de risaSverstnitsyDer Raub der SabinerinnenLes amantsLe chemin de DamasIngrid - Die Geschichte eines FotomodellsMenor de edadThe Long, Hot SummerShojo takaraTeerth YatraBarbados QuestThe 20 Questions Murder MysteryCameriera bella presenza offresi...Penki PellamThe Trollenberg TerrorTarik el amalKentucky RifleBaiju BawraAawazSensoShikarDer MeineidbauerAtrebidaThe Good Die YoungFrancis Joins the WACS105 % alibiTou qing jiTa de yi shengArriva la zia d'AmericaForbiddenShaanLa passanteHengst Maestoso AustriaPanchayatTanganyikaThe Sun Also RisesLas chicas de la Cruz RojaDance Hall RacketMalkataTarantulaMisterios de ultratumbaThe Last PageAmore e guaiBad Day at Black RockGekko kamen - akuma no saigoSandraTargetAng ibong AdarnaAmor sobre ruedasBeyaz mendilSon saadetRocky MountainLe dos au murSazli damin kahpesiEl raptoNight of the Quarter MoonSuchkind 312Shao nai nai de mi miA Niu xin zhuanL'inferno addossoL'affaire MauriziusSeine Tochter ist der PeterTodi KodalluGyeoktoe: Urineun ireohge sawatdaTaxa K 1640 efterlysesChuan tongLa nipote SabellaApna ParayaSinjoTwo Gals and a GuyThe Wrong ManNo Holds BarredNight Riders of MontanaLaughing AnneDragonfly SquadronThey Came to CorduraTutti innamoratiThe Barretts of Wimpole StreetOutcasts of the CityPitong pagsisisiThe UnearthlyWings of DangerFrightRansom!The Noble ExperimentSa isang halik mo PanchoEl papeleritoAschenputtelGangaRoar of the CrowdElla y yoThe Solitary ChildA Bucket of BloodDer Mann meines LebensHuang jin shi jieA Yank in KoreaRosauro CastroHahabue kobueThe StripEl fantasma de la operetaLe 84 prend des vacancesEl vagabundoBorder TreasureEl Cristo negroDalagang IlokanaGaram CoatTanz in der SonneFar til fire i byenChild in the HouseSubway in the Sky15 bajo la lonaIch hab' mein Herz in Heidelberg verlorenChun se nao renContigo a la distanciaAmor del buenoWorld for RansomLos que no deben nacerBlow Your Own TrumpetJohnny TroubleUm Pirata do Outro MundoEl rey del barrioHell's HorizonMalvarosaAoi unabaraKekecPastor Jarman kommer hjemThe Hired GunBicol ExpressLittle Rascals VarietiesSaagarLa infameI moralens navnSon of Robin HoodLe belle dell'ariaDie feuerrote BaronesseCanasta uruguayaMi yueRong ram narokRiding ShotgunSadmaI Want to Live!Amaryllis, to koritsi tis agapisWorld in My CornerKuloub el naasDer Adler vom VelsatalEstoy taan enamoradaMake Mine a MillionThe Wild Blue YonderStage StruckQingguan zhan jiefuEl kalb loh ahkamUng legBuhay PilipinoUdivitelnaya istoriya, pokhozhaya na skazkiDistrito quintoUruwashiki hahaLucky LosersBeichtgeheimnisKuollut mies kummitteleeJet JobKara davutHeimatlosSvi na moreJack the RipperZemlya i lyudiThe Master PlanIndestructible ManBlood of BataanKylismeni ston vourkoTormentaThe Caine MutinyMission in MoroccoBallata tragicaHuling Patak ng DugoThe Happy YearsApradhi Kaun?Lorna DooneThe Garment JungleThis Could Be the NightAng matapang lamangCiguli MiguliAndha NaalGolfoBijo to touzokuCerasellaLa venganza del DiabloMrs. Jose RomuloYi dai yao jiRancho NotoriousKilabot sa MakilingTyphon sur NagasakiDesperate MomentPride of the Blue GrassThe Missing ScientistsThe Tattooed StrangerKu hai ming dengOn Dangerous GroundDer var engang en gadeAnything Can HappenMiden penteDie BarringsShichinin no samuraiJaidadXue ran du juan hongMoral em ConcordataHigh School Big ShotCarrieGan zhe gu niangThe Bolshoi BalletThe Young Don't CryRazzia sur la chnoufThe HideoutDellistavrou kai YiosMy Teenage DaughterCada hijo una cruzBachelor of HeartsThe Breaking PointTwo Dollar BettorGirl with an ItchHiram na kasintahanWalang panginoonNever a Dull MomentGe mi xiao jieLa trinca del aireCancha vascaGulong ng paladCoeur-sur-MerThe Tanks Are ComingPistolas de oroLa vedova XSierra PassageSon of a StrangerRx for MurderNukkekauppias ja kaunis LilithThe Devil Makes ThreeI due compariNight of the GhoulsThe Prince Who Was a ThiefL'homme aux clefs d'orStrange FascinationNoi siamo le colonneLa Tierra del Fuego se apagaReturn of the FlyUntamed WomenDos tipos de cuidadoBara-DariSohni MahiwalHayirsiz evlatSim Sim MarjeenaThe SeekersWorld's Middleweight Championship: Sugar Ray Robinson vs. Randy TurpinKaracaoglan'in kara sevdasiPlunderers of Painted FlatsDoshaburiPersiane chiuseSigfridoDe vliegende HollanderLes fanatiquesA Virgin in HollywoodLo zappatoreWhirlwindUna mujer en la calleAgulha no PalheiroHokus pokusTerre d'espoirMadame LouisePailub langStresemannThe Big Fun CarnivalAli Baba et les 40 voleursHold That HypnotistLiebe und TrompetenblasenFaislaLos paquetes de PaquitaYou Can't Escape13 kleine Esel und der SonnenhofRage at DawnSlim CarterEine Berliner RomanzeBin cheng yanCrowded ParadiseWomen's PrisonShchedroe letoShakedownPlunder of the SunCirkus FandangoKuwintas ng pasakitAlti olu var/Ipsala cinayetiBalisongEl protegidoSakshi GopalKimi shinitamo koto nakareNaqab PoshDie GeierwallyHet geluk komt morgenBeqararTokyo After DarkNad TissoyKizimla beraber agladikThe Quiet ManCalling Bulldog DrummondGanacheniNakhwa yusuLe crime du BouifSangdilGenio y figuraLa pantera negraNaked ParadiseKadifeden kesesiThe Sea ChaseSchipperskwartierStreet of ShadowsThe Glass SlipperDer fallende SternDark VentureThe Boy KumasenuHusn BanuLa forza del destinoAnna SusannaAdil-E-JahangirBinnazOn the LooseNo SmokingDer letzte SommerPolyushko, poleHe nacido en Buenos AiresFlor de lagoSto tisyachI Only Arsked!Ein Mann geht durch die WandThe RacketVacacionistaSauteli MaaTrouwe KameradenAfrican ManhuntCan yoldasiSiraa Fil-MinaIntekam el habibFive on a Treasure IslandPezzo, capopezzo e capitanoTajemnica dzikiego szybuDer Bauerndoktor von BayrischzellShui hong lingOmre dobarehPrincess of the NileIl terribile TeodoroLes yeux de l'amourChuzhaya rodnyaCarnaval em MarteGirls in the NightNoddy in ToylandTarzan's Fight for LifeElddonetCombat SquadTwo Flags WestCarlton-Browne of the F.O.MimanginChina CorsairLaw and DisorderTen Seconds to HellBlood of DraculaWer seine Frau lieb hatWomen Without MenLe plaisirHong niangMy Friend Irma Goes WestEl naas makamatSki Crazy!The MoonlighterEl calaveraGeraldineKahraman denizcilerThe Bonnie Parker StoryBallerina e Buon DioYo soy muy machoYin hai sheng geLa terreur des damesTrois de la marineQian li song Jing niangBaarishEl fin de un imperioSunset in the WestIl padrone sono meThe Desperados Are in TownA Girl in Every PortAndo volando bajoRio GrandeLas aventuras de Carlos LacroixLa passe du diableSaigo no dassoNapoli piange e rideLa frontera del miedoL'orfana del ghettoChalta PurzaHua luo you feng junNothing But WomenPoslednji kolosekYield to the NightBehram DakuSomething for the BirdsEi ruumiita makuuhuoneeseenLa belle imageHaie und kleine FischeSampung libong pisong pag-ibigSjunde himlenSwallows Come HomePassionThe Long MemoryAna zanbi eh?Wyoming RenegadesGabrielaLa Pica sul PacificoAlhambraOtelloLuManicomio'n Plan is 'n BoerderyFun at St Fanny'sOperazione notteCuando los hijos odianEs wird alles wieder gutSubah Ka TaraZemstaRoman HolidayObgonyayushchaya veterCuando un pobre se divierteYasamak hakkimdirCamicie rosseI Love LucyDalagang taringPistol HarvestBlind DateL'arte di arrangiarsiThe Man Who Knew Too MuchMike and StefaniThe Half-BreedDer VerschwenderThe Glass MenagerieSocios para la aventuraWetterleuchten um MariaLuha at musikaStreet CornerEnchanted IslandLa romanaFifty FiftyIstiklal harbiTarawa BeachheadTarantella napoletanaFlaming FeatherBezumnyy denOkuman chojaIt's Always Fair WeatherThe Deep Blue SeaTak for sidstHa sen yu jia mi laIA in OberbayernFort MassacreThe Black OrchidDie Alm an der GrenzeGestatten, mein Name ist CoxMizarStrictly DishonorableKhozyayka gostinitsyMarilynEl cenicientoLa nemicaRicochet RomanceBerdaderong gintoMaya RambhaYavuz Sultan Selim agliyorFoglio di viaV odin prekrasnyy denSecret of the IncasThe Yellow RobeGasoline AlleyYou yiPelli Naati PramanaluCiao, pais...Ariciul rautaciosAl fin solosSan theli i nyfi kai o gabrosSazae-sanIkaw ang aking buhayCorridors of BloodDikenli yolRua Sem SolQara daslarAadhi RotiA CarrocinhaCagedAtes RizaNa petheros, na malama!House of WaxFuhrmann HenschelZoku Satsujinhan Nanatsu no Kao: KaiketsuhenCuerda de presosFlight NurseGuilt Is My ShadowThe ShrikeEinmal noch die Heimat seh'nLa hermosa mentiraBeasts of the EastHochzeitsglockenI Died a Thousand TimesToast to LoveSugata SanshiroDokunulmaz bu aslanaCaptive WomenQing tian xue leiTarzan's Greatest AdventureHistorias de la feriaLi chao yanSecond ChanceApache CountryDie SklavenkarawaneMessieurs les ronds de cuirBayn kalbainHei niuLightning GunsDan Quihote V'Sa'adia PansaYu Gwan-sunFemmes de ParisHibari no komoriutaBattle of Rogue RiverThe Neanderthal ManDas letzte RezeptDial Red OXue zhanFiveIngannoYhteinen vaimommeLiliCargaison blancheWar of the Colossal BeastFang mao ziHell BoundArlette erobert ParisLa nuit est mon royaumeHawaiian BoyBertrand coeur de lionI Was a Burlesque QueenEl castillo de los monstruosTatlong LimbasRen Yue Hunghun HouIvanhoePas de souris dans le businessRagazze al mareThe Last Man to Hang?Um Marido SolteiroTraveller's JoyMamitschkaPiedras vivasThe Price of SilenceDiao ChanQuema el sueloSquattersJeiui chulbalLa mouchardeRobbery with ViolenceEr nu jingMan with the GunUn vaso de whiskyThe Son of Dr. JekyllChhoo MantarThe BatCulpas ajenasTres citas con el destinoToo Young to KissKitna Badal Gaya InsaanEin Haus voll LiebeLone StarSign of the PaganDer Major und die StiereRudda kalbiAmar DeepMy True StoryHello GodMin aina laka haza?Dance Little LadyThe Passionate StrangerHer First RomanceViajeraSri Kalahastiswara MahatyamStorm Over WyomingMaria TheresiaFanfaren der LiebeAaron Slick from Punkin CrickJ'y suis... j'y resteSagar SangameyDie tolle LolaMenschen im HotelJulieTeniThe Asphalt JungleMonsoonLisbonAdventures of the Texas Kid: Border AmbushLey del marDawn at SocorroAna MariaEscuela de vagabundosAlarma in muntiRitmos del CaribeDany, bitte schreiben SieThe Roots of HeavenBatas ng pusoDirch & Kjeld blir nye menneskerShort Cut to HellGirl GangKamienne nieboStorm FearThe Daltons' WomenThe Farmer Takes a WifeGulaboJwalamukhiWadda'tu hubbakOgnennye vyorstyAmor salvajeFoxfireMany Rivers to CrossLa cambialeSideshowLast of the BuccaneersSaddle LegionChar PaiseTyrant of the SeaThe Girl in Black StockingsUlitsa polna neozhidannosteyNasi se putovi razilazeDie Nacht vor der PremiereMartin BorulyaLe dindonLyssky transport gennem DanmarkDevtaWherever She GoesLos lios de Barba AzulTatlong RO scrisoare pierdutaNot Wanted on VoyageOkuni to GoheiBitoku no yoromekiNusumareta koiL'increvableSanskarFel a fejjelMan AccusedPoios tha plirosi to marmaroMardi GrasLos apuros de mi ahijadaNight of the Silvery MoonThe Doctor's DilemmaDu shi niang nu chen bai bao xiangAliping maharlikaThe Miami StoryAnak ng BerdugoStar of IndiaAnnaOnce a SinnerModels Inc.El desembarco los 33 orientalesChrichinaEl grito sagradoHet meisje en de madonnaMarisa la civettaHimmel ohne SterneNever Steal Anything SmallMystery JunctionThe Gypsy and the GentlemanSchmutziger EngelDer Pfarrer von KirchfeldThe Women of Pitcairn IslandKing of the Coral SeaSeven Angry MenEine Frau von heuteDer MustergatteNachts, wenn der Teufel kamRed River ShoreTahasWest of WyomingDon CobardeDonne soleThe Young LoversMarito e moglieSengoku gunto-denLeonora dos sete maresCopper SkyRapto al solTension at Table RockThe Bandit of ZhobeKamarshekanThe Day the Earth Stood StillSeraa fil NilSea of SandYasminLiu lang erTiger in the SmokeUn week-end fantastiqueTropic ZoneNinjutsu suikoden inazuma kotenguBorderlineMr. AnnouncerStolen TimeAndalousieSone Ki ChidiyaVendicata!I due derelittiBitter VictoryWaterfrontA Millionaire for ChristyEscapementWalk Into ParadiseWei chu jia de ma maMi adorado JuanMaturan at LagmanMu qinMuklawaNinkyo TokaidoNe cakaj na majThe End of the AffairFreddy unter fremden SternenBu gu niao you jiao leThe House in the SquareAma no senritsuTaxiThe Hideous Sun DemonMy Gun Is QuickDalilaThe Bowery Boys Meet the MonstersZwischen Zeit und EwigkeitA Tale of Two CitiesHot Rod RumbleThe Purple MaskAfrodite, dea dell'amoreKhul Ja Sim SimScandal IncorporatedPerdidaDerby DayFreedomThe Two-Headed SpyThree for Bedroom CKing CreoleJet Over the AtlanticVeronicaBest of the BadmenAmayaCuarto de hotelUnchainedEarth vs. the Flying SaucersThe Glory BrigadeRoberto el diabloNau BaharMonghitaTarzan's PerilDobuDevushka-dzhigitEskrimadorKumo no machiPor el mismo caminoEinmal ist keinmalBu nasil askEl Zorro pierde el peloFurther Up the CreekKaale BadalKermesseAntony and CleopatraThe Gorbals StorySiluri umaniThe Girl Is MineDieu a besoin des hommesI Love MelvinRendez-vous avec la chanceLe camerierePueblo, canto y esperanzaAlive and KickingSe vincessi cento milioniAnaDa er nu jingDie grosse ChanceNadareManina... La fille sans voileBhai BahenGeherayeHuan nan zhi jiaoThe Kangaroo KidI kafetzouDeburau...und abends in die ScalaIch bin kein CasanovaIn Time of PestilencePalasigMono gia mia nyhtaDarb al-mahabilDas tanzende HerzMark of the GorillaPagdating ng takip-silimShin kurama tengu daini wa: Azuma-dera no kettoDon't Knock the RockThe House on Telegraph HillGilbert Harding Speaking of MurderBaba AminLa tour de NesleDream WifeBeni safakta vurdularAfacerea ProtarPirates of TripoliJeg elsker digXiao qing renLernayin ltchi gaghtniqePeccato che sia una canagliaDen vita kattenTouhaSan ru yan wang dianHubertusjagdBirthrightThe Cockleshell HeroesDarna at ang Babaeng LawinA Beleza do DiaboSeptember AffairAashaShaolin wu da ji xuaAnkara ekspresiThere's No Business Like Show BusinessThe Fall of the House of UsherSerdtse byotsya vnovPenne nereLa alegre casadaAtto di accusaPassionMem SahibCrisisThe Long, Long TrailerWomen from HeadquartersVestire gli ignudiLa vendetta del corsaroBela Lugosi Meets a Brooklyn GorillaNevestaZuguo de huaduoSonnenschein und WolkenbruchPokolenieHuang Fei Hong nu tun shi er shiII-A in BerlinYa byl sputnikom solntsaLes amants du TageIl marito bello: Il nemico di mia moglieVesnaIlya MurometsEl enamoradoThe Lady Craved ExcitementDobri stari pianinoPot BouilleHong fen gan geLa mujer desnudaStrange IntruderNa ostrove dalnemLa estampidaThe Wind Cannot ReadBeale Street RevueStorm WarningCurtain UpLafayette EscadrilleFu shiAbsender unbekanntHua jieZastava v gorakhInvasion of the Animal PeopleDon Camillo e l'on. PepponeHet wonderlijke Leven van Willem ParelVeteraanin voittoFort DefianceCall Me MisterTwo Lost WorldsAmor a la vidaBo ming huaSolange Du da bistIl tettoElena et les hommesEl potro salvajeAunt ClaraPerfect StrangersLa p... sentimentaleKazabanaCry of the HuntedTraditaIsla bravaMeet Danny WilsonAthar ala alremalRot ist die LiebeLibre comidaAl diablo las mujeresDragon's GoldTarnishedEvlatlikThe Extra DayLazy sa pohliAbandonadoLa banda degli onestiLa cortigiana di BabiloniaDie UnbesiegbarenDilli Ka ThugGoonj Uthi ShehnaiMagiki polisNudist ParadiseShri Krishan LeelaKipparikvartettiThe Last PosseSaltanatSnake River DesperadoesOi ouranoi einai dikoi masDuchess of IdahoSaskatchewanThe AdventurersMingeaNazliShaytan al-SahraTreasure at the MillKaidan chibusa enokiSerenata a MariaTian jia erLet's Be HappyPaighamCapitan DemonioZhuravlinaya pesnyLe beau SergeDen pervyyKaren, Maren og MetteNaa IlluEl cenicientoCount Your BlessingsThe SystemLa prigioniera della torre di fuocoPartizanskaya iskraJa, ja die Liebe in TirolNiskavuoren naisetEl herejeThe Floating DutchmanWyoming MailIl votoAci yolM'sieur la CailleMetido a BacanaPatternsMadariParis ModelKontra-BidaThe Lone HandThe Wooden HorseNata di marzoMaksim PerepelitsaBatas ng alipinAci sevdaSatomi Hakken-den: Dai-yon-bu ketsumei hakkenshiYe zou luo to lingMademoiselle Strip-teaseL'envers du paradisThe Great St. Louis Bank RobberyLust for LifeSkandal in der BotschaftThe Outlaw StallionOnna no sonoGwo bou san neungRaising a RiotLa patrouille des sablesMohawkHeidi und PeterVaddante DabbuDer Hauptmann und sein HeldO Ilias tou 16ouMo gui tian tangHans Nielsen HaugeNepotii gornistuluiA los cuatro vientosSvoga tela gospodarGunfighters of AbileneHete septemberdagerHuhtikuu tuleeKorea PatrolBomba and the Jungle GirlLes enfants de l'amourLoser Takes AllDas Beil von WandsbekMan on the ProwlThe Notorious Mr. MonksThe Ship That Died of ShameInnocents in ParisYankee BuccaneerTo Paris with LoveHasratRicordamiHollywood Thrill-MakersWolne miastoMenores de edadEdge of EternityIntikam aleviNu'er xiangLas aventuras de Taxi KeyGuru GhantalThe Big LandMiracle in the RainThe Rising of the MoonPyaarSilver KingSotang BastosOni byli pervymiCha hua nuA Prize of GoldUrok zhizniThe Secret of Convict LakeGlory AlleyLa canzone del cuoreNuits andalousesEl ustaza FatmaBanditen der AutobahnHankaSenkan YamatoThe Jazz SingerBoksingeraThe Square PegLos hijos de nadie (Dos caminos)Taimtim na dalanginBack from EternityZairaStrictly ConfidentialLes truandsI kyra mas, i mammiSampoXiao mi qu shiThe World Was His JuryInsaeng daehak ilnyeonsaengThe Catered AffairThe Return of Jesse JamesThe Proud and ProfaneK. und k. FeldmarschallMister 880La edad peligrosaBehold the Man!ParchhaiyanLos platillos voladoresGeh mach dein Fensterl aufRoom in the HouseHis Majesty O'KeefeAbove Us the WavesHayatimi mahveden kadinBerdusNathalieThe Steel FistFangs of the WildJan HusKalinovaya roshchaThe Treasure of Pancho VillaThe Law vs. Billy the KidShe nu si fanI magliariGibier de potenceSinfonia CariocaLos televisionudosSarariman shussetai koki daiyonbuLuna de sangrePardesiLa reina del cieloEmergency CallIpinagbili ko ang aking anakChandiraniGiovane canagliaSoapbox DerbyThe Siege of PinchgutMga anak ng DiyosCaporale di giornataMi noche tristeFeng liu yuan jiaWhistling HillsOnna gokoroBoniface somnambuleChasy ostanovilis v polnochThe Hitch-HikerCerro GuanacoRitmo, sal y pimientaXin hun fu qiHar Har MahadevHimitsuThe LonghornHibari no hanagata tantei kassenBecause of YouUne parisienneZeinabIsang dakot na bigasSecrets of Monte CarloCattle EmpireThe Land UnknownNacida para amarVrijgezel met 40 kinderenMenschen im NetzI Was a Communist for the FBIFive Gates to HellSix-Five SpecialYou're Never Too YoungLos trampososEl mil amoresNeelachaley MahaprabhuMambo-dyamboAccording to Mrs. HoyleAng manyika ng Sta. MonicaRakas varkaaniHlavni vyhraThe Old WestBiffen och BananenThe TriangleHoch klingt der RadetzkymarschShe's Back on BroadwayPapiMientras el cuerpo aguanteAnacleto se divorciaLove Me MadlyThe Black SleepDer gestiefelte KaterNot as a StrangerRoyal WeddingDansei No. 1Czardas der HerzenCaptain KishoreUna muchachita de ValladolidRagazze d'oggiApril in ParisA Kiss Before DyingDas ideale BrautpaarLa vendetta dei TughsI moira grafei tin istoriaDouble DealLa ausenteYong bu xiao shi de dian boMaske in BlauGinintuang TinigCuando levanta la nieblaHalici kizPane, amore e.....The Supreme SecretGribedyretEight Iron MenDas Herz von St. PauliLe bon Dieu sans confessionShowdown at Boot HillYolculuk varContravidaAb Dilli Dur NahinSalka ValkaLa dudaShe diao ying xiong zhuanMaxieKronosPampanggenyaLa fuerza del deseoThe Tin StarMassagista de MadameDelo bylo v PenkoveDeekshaMikosch im GeheimdienstDai chat ho see geiLast Train from BombayKabe atsuki heyaThe Night the World ExplodedJattiReportaje en el infiernoUn po' di cieloThere Is Another SunSirtn e yergumFarmaishPaprikaThe Gene Krupa StoryL'aiguille rougeSonbaharIl segreto delle tre punteKekkon no subeteGiftasChatterley fujin wa nihon nimo itaThe Night We Dropped a ClangerNaya DaurHu die fu renWay of a GauchoFighting MadThe Helen Morgan StoryFernand cow-boyXie sa qing huaCode TwoNan zheng bei zhanO pyrgos ton ippotonDas Geheimnis vom BergseeAfrit SamaraLe avventure di MandrinIo sono il capatazKrisalisTaranaTaong PanikiHoljuki dungdungi nonsan honryeonsoe gadaAttanasio cavallo VanesioTolle NachtHeureuneun byeolGunsmokeIt Happened to JaneHuellas del pasadoZimowy zmierzchThe Gun That Won the WestMineraSome Came RunningMoselfahrt aus LiebeskummerEl muerto es un vivoClandestino a TriesteThe Brain EatersThe Secret PlaceJiang shan mei renWalk Softly, StrangerArrabaleraLe rouge et le noirPasarea furtuniiThe Barefoot MailmanKanske en gentlemanGazapkhuli SakenshiOutlaw WomenThe Flying MissileTo pontikakiCelui qui doit mourirGitarren der LiebeNeng yan niaoSergil chez les fillesAsphaltNightfallBai yue jiQing zeiUna donna liberaDes femmes disparaissentEl malvado CarabelXin cha hua nuIstanbul macerasiUn traje blancoTimeslipRodoraKorona at Pag-ibigCaptive GirlKokkina triantafyllaThe Last CommandSea WifeThe Desert RatsMan on a TightropeLe gorille vous salue bienLa favoritaTaxeidi me ton erota08/15 - Zweiter TeilThe Beat GenerationTie dao you ji duiSi fuera una cualquieraStranitsy bylogoRiver of No ReturnMission Over KoreaBarumbadoA tettes ismeretlenUn amore senza fineGanChristineLos gamberrosFighting QueenRaja HarishchandraFrauenseeO Cerro dos EnforcadosJeanne EagelsAng ating pag-ibigReifende JugendAt War with the ArmyDugong BughawCuba CabanaLuzes nas SombrasThe Dark ManLu chuang hong leiBrosta sto TheoMia nonna poliziottoShe DevilBel-Ami Der Frauenheld von ParisDalawang inaPawneeVedi Napoli e poi muoriThe Miracle of the HillsYuki no koiThe Last BlitzkriegSeven ThundersMaha PujaThunderstormFu yu ziThe Redmen and the RenegadesBad for Each OtherBarabbasLe bellissime gambe di SabrinaCircle of DangerDie Frau des BotschaftersMurder Without TearsGodzilla, King of the Monsters!Siete mujeresLa sospechosaHot CarsScarlet ThreadBhagwan Aur ShaitanCop HaterX the UnknownLuffaren och RasmusJoyuMadarKonjiki yashaDarling, How Could You!Phantom of the JungleDer Kampf der TertiaLa cama de piedraLa vena d'oroFlame of AfricaLes 90 JoursIna, Peter und die RasselbandeLiu yue xueKuroda sodoThe Importance of Being EarnestCaltiki il mostro immortaleEin Engel auf ErdenHuang Fei Hong yi gun fu san baFederal ManPin jian fu qi bai shi shuaiDrive a Crooked RoadShi lai yun daoBehind Southern LinesLe petit nuage/La chasse au nuage/Le nuage atomiqueLa barca sin pescadorJuan Tamad Goes to CongressO misogynisThe OracleThe Magic BoxDaisen qi anKono hiroi sora no dokoka niAlembongLe grand rendez-vousRhythm InnTengoku wa doko daDangerous When WetA Lady Without PassportLegenda o ledyanom serdtseSohn ohne HeimatVozvrashchenie Vasiliya BortnikovaLiu shui huan geThe Big Combo-30-Abbas yolcuPontianakThe Stolen AirlinerHiwaga ng pag-ibigCuori senza frontiereCarmen proibitaTaza, Son of CochiseUne manche et la belleHome Is the HeroBlood and SteelWalang kapantayDon Daredevil Rides AgainFireman Save My ChildOnmitsu ShichishokiYun niangTri cetrtine soncaGgumYuan yeGumrahHouseboatAccadde tra le sbarreSubotom uveceThe Law and Jake WadeThe Large RopeLe confident de ces damesShirosen himitsu chitaiThe Scarlet HourChongchun ssanggogseonHarimau TjampaKonna abekku mita koto naiJulius JanonisEnemigosXue zhong lianWatashi wa kai ni naritaiUn uomo facileBotschafter der MusikA sud niente di nuovo91 Karlsson rycker inLa ragazza di piazza San PietroThe Desert InnAngelos me heiropedesPasaje a VenezuelaThe Dalton GirlsDesert PursuitChhote BabuPedro, Pablo, Juan at JoseLa pandilla se divierteDeath Over My ShoulderSi Eva at si AdanBicharakI thysia tis manasDaughter of Dr. JekyllIl cappottoLe amicheGold FeverAh! Qu'il fait bon chez nousDet sjunde insegletNew Orleans After DarkBella Filipina...und nichts als die WahrheitCamino de GuanajuatoMeine Frau macht MusikBefore I WakePalahamakThe Naked HillsInvasion of the Saucer MenA Chao jie hunMadeleineDel brazo y por la calleGauharThe Dancing YearsJoe MacBethEinmal keine Sorgen habenAlam AraFinger ManI vitelloniLady of VengeanceL'arciere neroVirupakshuni Vichitra GuhaThe DisembodiedCore 'ngratoKamay ni CainAffair in TrinidadEl pasado te acusaBarba Giannis, o kanatasKaspers Reise um die WeltBanat el yomVi er allesammen tossedeEl pendienteArrangiateviHollywood VarietiesManchas de sangre en la lunaJahazi LuteraDer Kaplan von San LorenzoMad at the WorldVanaliyaParadies der MatrosenZagovor obrechyonnykhDragotsennyy podarokLive Fast, Die YoungFei xian xia da po mou ren si xia jiFrisco TornadoGore ot umaNattens ljusAbe HayatAskin acilariEgypt by Three...und die Liebe lacht dazuTikadambaazCent francs par secondeThe Unguarded MomentLittle Boy LostTri AneRider from TucsonMadame de...Fort WorthKhojHon dansade en sommarEl hombre y el monstruoAt Sword's PointAhretten gelen adamAankhenJail BustersJungle Jim in the Forbidden LandKriegsgerichtLes nuits de ParisYe huoDementiaPasaporte al infiernoLes amants mauditsNukso nang nuksoGrenzstation 58Zoku keisatsu nikkiSouth Sea SinnerEl gafeOtoko no kibaDavid at GoliathFan gong qing leiThe Sword and the RoseLyntogetDang fu qing chiO dromos me tis akakiesNous n'irons plus au boisHe Laughed LastSamonimUtah BlaineInsaniyatTread SoftlyTulisang pugotDas TotenschiffNo Place to LandZwei MenschenPayal Ki JhankarBloodhounds of BroadwayArmaanPigulki dla AureliiEpistrofi ap' to metopoToofani TirandazBandishUnknown WorldMoineaux de ParisCaballero a la medidaSkugganMausiSmoky CanyonLos muertos no hablanThat Certain FeelingLa fiammataAmartisa gia to paidi mouMaska PolishChijoMy Little KuwanYeoseongui jeokJulie la rousseCadet RousselleJust for YouIl bacio del sole (Don Vesuvio)DespatsadoraQian jin xiao jieLiebe ohne IllusionFighting Coast GuardGud fader och tattarenTan bueno el giro como el coloradoA Place in the SunLe passe-murailleTieflandUkkari fujin to chakkari fujinAsesinos, S.A.Corinna SchmidtCrash DriveSassiKaidan Honsho nanafushigiHastseatiroj voronumnereDavyMi wa jukushitariAmerican Guerrilla in the PhilippinesWinchester '73MarianelaEl inocenteShin kurama tengu daisanbuSuddenlyPempudu KodukuDer lustige Krieg des Hauptmann PedroI Believe in YouCuatro copasPervyy eshelonPyaasaDaniel Boone, Trail BlazerBrott i paradisetAlakh NiranjanKing Solomon's MinesAmaanatEl jefeThe Good Humor ManRainbow 'Round My ShoulderGoldtown Ghost RidersQian mian nu langIs Your Honeymoon Really Necessary?GypsyBackgroundGali Theke RajpathLet's DancePasbanLegend of the LostGrafeio synoikesionIl vendicatoreStefanieRajeshwariWaga ya wa tanoshiKabuliwalaIl conte di Matera (Il tiranno)Aa seishunFemmina senza cuoreI zavoliaraKartar SinghKuronekokan ni Kieta OtokoCinema d'altri tempiHoi chuong Thien MuVoodoo WomanOatari tanukigotenUna bruna indiavolata!Wir tanzen auf dem RegenbogenEngel im AbendkleidParnetarHoneychileKoibito-tachi no iru machiLa stradaDas Dorf unterm HimmelCain y AbelTierra de hombresAngelaBashi-AchukiCartouche, roi de ParisTokyo odoriNubes de veranoMiyamoto Musashi (II)Vrata ostaju otvorenaOsma vrata4D ManZhukovskySvet na kajzarjuPleito de sangreRevenge of the VirginsDer letzte MannMacheteCronaca di un delittoCover Girl KillerLa escuelita del relajoViva Zapata!Gli uomini, che mascalzoni!The Big BreakSilver LodeMoawad ma al hayatVipranarayanaQueen BeeRails Into LaramieMiss Sadie ThompsonRhubarbQue me toquen las golondrinasMadre queridaThe Silver BanditVain laulajapoikiaYo pecadorThe Raging TideMan of ConflictKorban FitnahSofya KovalevskayaYi hua jie muUn ettaro di cieloKronprinz Rudolfs letzte LiebeSluchay v taygePersonal AssistantBacha JamooraEl conde de MontecristoSomos DoisEin Tag, der nie zu Ende gehtApartado de correos 1001Ein Herz spielt falschEdge of the CityDas Geheimnis des Hohen FalkenHuang he fei duUn missionnaireGulnaarTres eran tresWenn die Conny mit dem Peter12 Angry MenAdam og EvaMala genteWild Is the WindGuest HouseMalavitaCheongshil hongshilApache TerritoryBellezze in moto-scooterShi zi jie touMontalan BrothersSimon syndarenDimitrovgradtsyBehind the HeadlinesProstaya veshchGuns Don't ArgueAlma de aceroPo chu mi xingThe Young LandSecond ChanceEl vestido de noviaSan AntoneDetective StoryRomansu musumeEl mensajeLakhon Mein EkChunhyangdyunVelikiy voin Albanii SkanderbegCrazy Over HorsesQing deng yuanRani HaarYu bu sa hua hua bu gongLes loups chassent la nuitDesert HellGinza 24 chouSuspiros de TrianaSahildeki kadinLa violeteraAi to nikushimi no kanata eKalpaklilarKill Her GentlyJack McCall, DesperadoPilipino kostum no touchFlame of StamboulSa dulo ng landasGao ge meng jingThe Golden BladeLaila MajnuHow Huang Fei-hong Conquered the Two Dragons with the Five SnakesCult of the CobraIl leone di AmalfiCicatrizQuai des illusionsDiwaniYoru no kibaSimiente humanaNo Name on the BulletHeimat, deine SternePiscatore 'e PusillecoState SecretTaming Sutton's GalHayat sokaklarindaLost LagoonMaweed maa maghoulGun GloryKiss Me DeadlyShonen tanteidan: Tetto no kaijinThe Forty-NinersWiegenliedFrauen, Filme, FernsehfunkEl fantasma de la casa rojaApat na aninoDansa, min docka...Baby DollKuripotJulius CaesarSiromashka radostTalismanEl JudasBratuku TheruvuLaterna, ftoheia kai garyfalloAufruhr im SchlaraffenlandThe MatchmakerHong Kong AffairPeriplanomenoi IoudaioiHerrscher ohne KroneDie DubarryIsn't Life Wonderful!ApacheActor's and SinEine Nacht in VenedigThe Sea HornetThe Colossus of New YorkHay un camino a la derechaBez vesti propavshiyGloryMon ami SainfoinKenkoySnahaThe Secret of the ForestBara en kypareSerpent IslandHalf AngelRosenmontagValley of EaglesThe Brave OneLa mujer, el torero y el toroTagailogThe Magnificent MatadorMissammaZavalli kizYildirim Beyazit ve TimurlenkParivarBitter SpringsEl puente de la pazApo ex meiname dyoRun for CoverThe Ride BackLost in AlaskaIndra LeelaLaos kai KolonakiSygnalyDashi pineun ggotLe notti di Lucrezia BorgiaUnmaskedExcuse My DustOld YellerO ziliarogatosAmor mioMr. H.C. AndersenCarry on SergeantThe Adventures of Hajji BabaYuhokui georiThe Green GloveDue soldi di speranzaWolf LarsenDeath TideDas seltsame Leben des Herrn BruggsPies de gatoMonsieur OctaveNyotai sanbashiBayram gecesiShap MochanAnoihti thalassaHaha naki koMontana BelleGod, Man and DevilMatira ang matibaySecret of Treasure MountainChain of CircumstanceTres hombres van a morirCon el dedo en el gatilloChoseolKein Auskommen mit dem EinkommenDios nos manda vivirEn la palma de tu manoJi gong huo foMeet Me in Las VegasKasariTit Coq1001 Arabian NightsThe Solid Gold CadillacSoldatskoye serdtseConquest of SpaceThe Lonely ManKong que dong nan feiMister Drake's DuckJour de peineThe River ChangesAdventures of Captain Africa, Mighty Jungle Avenger!2 x Adam, 1 x EvaLa culta damaMawad ma al saadaSkirts Ahoy!Aurat Teri Yehi KahaniApoorva SahodaraluCe soir on tueBruden fra DragstrupThe Killer Is LooseBel amourVendetta... sardaEin tolles HotelHe's a Cockeyed WonderDoksan dokuz MustafaDolina miruPeril for the GuyThe Man Who Cheated HimselfBuonanotte... avvocato!Trent's Last CaseDa lei yuHe di guang lingThe KeyGenghis KhanPura vidaSombreroBelle ma povereSiebenmal in der WocheApagogi stin KritiHam Sab Chor HainSome Where in DelhiAng sibatTrigger, Jr.Government Agents vs Phantom LegionMusikparadeDie Magd von HeiligenblutO Homem do DiaThe Gift of LoveRomanzo d'amoreAsiklar Kabesi Mevlana'nin HayatiVater macht KarriereUn marido de ida y vueltaThe Three OutlawsMagokoro sensei no makiOperation AmsterdamGhost of Dragstrip HollowRiihalan valtiasL'affaire des poisonsIstoria mias kalpikis lirasYatsu ga satsujinsha daFranziskaFei yue tian xianDu rififi chez les femmesPrizvaniyeHobson's ChoiceDas geheimnisvolle WrackDe carne somosEl cofre del pirataChikamatsu monogatariAll That Heaven AllowsIpinagbili kami ng aming tatayGuilty BystanderThe Naked VenusGolden SalamanderTrialHeidiArmyanskiy kontsertHappy Is the BrideDer falsche AdamAstikZhan dou li cheng zhangJourney to FreedomFather Makes GoodShuzenji monogatariNa podmostkakh stsenyTormentLe couteau sous la gorgeAccadde al commissariatoDokribhyeobhwiwa cheongnyeon Lee Seung-manYe lin yeDas gab's nur einmalAllahtan bulExperiment AlcatrazMehndiLe chanteur de MexicoKismetIl tesoro di RommelMiss HunterwaliBurden of TruthSha mo zhui fei jiKiinni on ja pysyyCuando se quiere se quiereRostros olvidadosHanggui ilyaGelinin muradiLet's RockBecause You're MineClose to My HeartMamma tar semesterBir insanlik meselesiThe HostageI Shot Billy the KidEast of SumatraEl secuestradorTampalasanMaya Bazaar (II)Taxi-KittyChun hui ren jianKardes kursunuDer Mann in der WanneOperation ManhuntChucho el remendadoGirls TownI'd Climb the Highest MountainSny na nedeliLakeerenA Blueprint for MurderSeagulls Over SorrentoJouons le jeuLas infielesNala DamayantiThe CongregationLes mains salesThe Kettles in the OzarksCome Back, Little ShebaIstanbul kan aglarkenSuprema confessioneRock All NightAttack of the Crab MonstersEl cielo en las manosLittle RoquefortKhabhaye talayiLa dama del marFair Wind to JavaAfsarThe Great Plane RobberyDouze heures d'horlogeTaigaUp the CreekDer dunkle SternThe Gilded CageHa desaparecido un pasajeroHoheit lassen bittenBangaru PapaHiawathaBuon viaggio, pover'uomo!Bhale BavaJonggakCry, the Beloved CountryDesert LegionKanto GirlNa malkiya ostrovSmoke SignalXin xi xiang jiPraterherzenLe joueurThe Bride and the BeastGuitarras de medianocheFlying RaniMia laterna, mia zoiDe mujer a mujerDa diInugami-ke no nazo: Akuma wa odoruPlus de vacances pour le Bon DieuDewey BoulevardA Face in the CrowdDeadline for DannyThe Kid from Left FieldCampo MamulaLiang sha da nao she ying changSins of JezebelKuningas kulkureittenBekenntnisse des Hochstaplers Felix KrullShavukaruKenar mahalleLa esperaSuor LetiziaVahsi bir kiz sevdimDavy Crockett: King of the Wild FrontierDesert MiceThe War of the WorldsPer salvarti ho peccatoWhite Witch DoctorLa roca TrinidadRose BerndThe WalletLe trou normandPatrulla norteNiagaraPortrait of ClareMa and Pa Kettle Go to TownPesen za chovekaYesterday and TodaySajher PradipHeiraten verbotenThe Stand at Apache RiverCrveni cvetAng Limpia Bota: The BootblackWat doen we met de liefde?Battle StationsMy Wife's LodgerThe Thundering TrailFashionDos caras tiene el destinoArajin siro yergeLa corona negraDarbarNie hai qing tianAwdat el hayatApache War SmokeCilali Ibo casuslar arasindaHunde, wollt ihr ewig lebenAppassionatamenteKyo no inochiUne vieL'agonie des aiglesToo Many CrooksThe Man with My FaceHidden HomicideThe RingCodiciaBolero inmortalTreasure IslandThe Shaggy Dog24 timerThe Man with a CloakTeenage Cave ManCinderellaTres lecciones de amorMax und MoritzCarnival RockBeklenen sarkiBratyaStagecoach to FuryMaria da PraiaElephant WalkTapahtui kaukanaKontra PartidoThe Lyons in ParisGli italiani sono mattiI doukissa tis Plakentias kai o listarhos BibisisShin Heike monogatariSengoku buraiJinanboNezabyvaemyy 1919 godWrong Number (II)The Blue GardeniaRaiders of Tomahawk CreekFlor de canelaNoose for a LadyKummituskievariTsukigata Hanpeita: Hana no maki; Arashi no maki50-50SentenciaIt's a Small WorldThe Wayward BusWait Till the Sun Shines, NellieGia to psomi kai ton erotaSecreto profesionalBring Your Smile AlongDalagang nayonEmergency HospitalSuhaganMr. ImperiumRagazzi del Juke-BoxBut TaraashThe SavageWie werde ich Filmstar?Xiao fu renSon geceCalle MayorForbidden IslandIo piaccioCharlie's HauntKnall und Fall als DetektiveJohnny on the RunHadisi WinishchayaLa chatteImmer die RadfahrerOnionheadMr. ArkadinSzkice weglemSous le ciel de ParisJara gospodaMusashino fujinOne Way Ticket to HellGervaiseIvan Groznyy. Skaz vtoroy: Boyarskiy zagovorThe Mole PeopleBai fa mo nu zhuan xia jiFang ZhenzhuThe Adventures of Hal 5Hard, Fast and BeautifulWarpathDaddy Long LegsTalihsizlerSauerbruch - Das war mein LebenAlong the Mohawk TrailI ladriCamino cortadoSon besteBudapesti tavaszHell Below ZeroRooneyHochzeit mit ErikaThe Shanghai StoryGula divisionenPrelude to FameGion bayashiIl ferroviereNunca debieron amarseUncle VanyaLa mafia del crimenDoji o numanaZhivoy trupViolent RoadBugs Bunny Cartoon RevueKhyber PatrolTorpedo AlleyThe Eddie Cantor StoryCronaca di un amoreSangue sul sagratoCantami buongiorno tristezzaAppu Chesi Pappu KooduLos tallos amargosThe GunfighterDopattaZai chun huaDikie lebediTreze CadeirasBondhuThe Inn of the Sixth HappinessJungle Drums of AfricaDoyoubi no tenshiLass mich am Sonntag nicht alleinTokyo File 212Kimi no na wa: Dai-ni-buNaataMy s vami gde-to vstrechalisMutinySa hirap at ginhawaMatomena HristougennaTo Hell and BackForever FemaleAsik GaripLa scimitarra del saracenoLes anciens de Saint-LoupAkatsuki no dassoNakhareSchneewittchen und die sieben ZwergeThe Las Vegas StoryLightning Strikes TwiceShtormHere Come the GirlsKalbimin sarkisiOi apahides ton AthinonGospodja ministarkaBai jin de renThe Titled TenderfootMa pommeBaguio FeverTirlittanKaunis Veera eli ballaadi SaimaaltaLife in DangerThe Faithful CityPanagimpanPaltikHadisi VivahayaLe feu dans la peauSeni unutamadimRun Silent Run DeepCun cao xinBonsoir ParisDe klucht van de brave moordenaarUnder My SkinArmored Car RobberyBarbaros Hayrettin PasaValgus KoordisSoldaterkammerater rykker udO grousouzisMa and Pa Kettle at WaikikiGuerrilla GirlMukeisatsuPusang itimHospital de urgenciaSabrinaEl heroico BonifacioWind Across the EvergladesLa brujaKing of the CongoUn homme marche dans la villeCarretera generalThe Steel CageTa tria paidia VoliotikaDon't Give Up the ShipAzafatas con permisoCanyon CrossroadsZum goldenen OchsenSolstikNamus kurbaniDie fidele TankstelleMarakat el hayatMuertos de miedoSiltalan pehtooriAyza atgawwezRunaway DaughtersLa estatua de carneAlexander the GreatErotas stous ammolofousHo scelto l'amoreCelulozaAkyaGunmen from LaredoSagarikaDudaktan kalbeMr. Belvedere Rings the BellRaznye sudbyI oraia tou PeranPanama SalMalliswariMasty eshqKoibumiNangoku Tosa o ato ni shiteEsposas infielesThe Power and the PrizeWar PaintWicked as They ComeI Killed Wild Bill HickokA Woman of DistinctionNanairo no hanaShishamHuling mandirigmaMurheenkryynin poikaDaichi no samuraiEl anessa HanafiVickyLord of the JungleGildaThis Other EdenThe Cariboo TrailTrudna miloscThe File on Thelma JordonBu yao li kai woDobrovoltsyNight Stage to GalvestonZalamuni el nassHistoria de un marido infielDelirio tropicalJeopardyTrail of Robin HoodThe Lady Is a SquareUntamed HeiressSasaki Kojiro KohenBayumi effendiLa verte moissonKelly and MeChhoti BahenMujeres encantadorasAghla min aynayaMa and Pa Kettle Back on the FarmThe Invisible AvengerAfrican TreasureEntre barracasMemis ile Ibis anaforcular kraliKatilSesto continenteChori ChoriMama no nikkiEs kommt ein TagMr. & Mrs.La vendetta di una pazzaPervyy parenLast HolidayGycklarnas aftonThe Last Stagecoach WestO Falso DetetiveBurnt EvidenceMoti MahalGun BrothersO Dinheiro dos PobresO agapitikos tis voskopoulasThe Steel HelmetEasy to LoveOttsy i detiTwice Upon a TimeHansel and GretelBombas para la pazGorio at TeklaDas FeuerzeugYellow FinTagebuch einer VerliebtenYangjileul chajaseoTouch of EvilZwei Bayern im HaremThe Green-Eyed BlondeUbiystvo na ulitse DantePrincezna se zlatou hvezdouLos margaritosThe Second Greatest SexYin hai xian ge chu chu wenPing jiAnother Man's PoisonCanzone appassionataParsifalTudo AzulShonen tanteidan: Kabutomushi no yokiCall Me MadamBegierdeEl toreroThe Five PenniesThe Great Missouri RaidThe Broken StarHu pan caoVorticeWho Done It?Trouble on the TrailMan AfraidPicnicEl caso de una adolescenteHakuja komachiMizuiro no waltzDestination MoonBuongiorno, elefante!Les assassins du dimancheNick Knattertons Abenteuer - Der Raub der Gloria NylonHigh TerraceTea and SympathyCantiga da RuaThe Big Tip OffKang zhuang da daoThe FlyPodhale w ogniuNorthern PatrolV stepnoy tishiLes mauvaises rencontresLes bijoutiers du clair de luneVerrat an DeutschlandCuatro vidasHuang Fei-hong gong chuan jian baWalang takotDiplomatic PassportThe Clouded YellowFei jian xia xie zhan Zhou gu zhuangGozonji kaiketsu kurozukin dai-ni-wa shinsengumi tsuigekiCharito, I Love YouEnas vlakas kai misosDer 20. JuliMourez, nous ferons le resteUran KhatolaAnuraagTop of the WorldMin kone er uskyldigMia nyhta ston ParadeisoEl brutoWenn am Sonntagabend die Dorfmusik spieltNora nekoMiss Robin HoodBlazing the Overland TrailHibarigaoka no taiketsuVacances explosives!Gambling HouseRomeo and JulietHibari torimonocho: Kanzashi kobanFather Is a BachelorHeute heiratet mein MannSinging IdolTaras ShevchenkoCha-Cha-Cha Boom!Father BrownYi nian zhi jiWeddings and BabiesMassacre en dentellesAmarasandesamAn qi erMy Sister EileenRosalinaPilpili SahebAh! Les belles bacchantesAlli gelinPiagolMatch contre la mortAt the Stroke of NineMule TrainPeter Voss, der MillionendiebStreet of DarknessHao nu erVi arme syndereThe Texan Meets Calamity JaneYu nu huai tai shi ba nianAssi alla ribaltaGeliebtes LebenHills of OklahomaMi maridoDeedarSiete muertes a plazo fijoDie MartinsklauseTam na konecneThe Boy from OklahomaI floga tis eleftheriasThe McConnell StoryNinniIl boia di Lilla - La vita avventurosa di MiladyThe Last of the Fast GunsJaguarBandoleroYi fan feng shunFuranki no sannin maeCharleys TanteSensation im SavoyRock You SinnersNiang reFrancis in the NavyLa indeseableOhileshwaraThe CobwebOutlaw TreasureKath' empodio gia kaloRide Clear of DiabloFeng chen xia quanLiving It UpSaison in SalzburgThe House Across the LakeLove Is a Many-Splendored ThingHatamoto taikutsuotoko: nazo no hebihime yashikiKonec strasidelEwa chce spacDeadly RecordThe Mating SeasonLa tumbaJhansi Ki RaniThe Chaplin RevueBitter CreekKasper gibt VollgasAuratBandido...wie einst Lili MarleenPocholo, Pichuca y yoVamos com CalmaLa venganzaEl superflacoAnna ThamuduLa donna che venne dal marePassage HomeAristokrataDva FyodoraTime LockNovio a la vistaAkash PariGorillaZhang fu de qing renKhmuroe utroAway All BoatsHakuja denDesperadoHabibi el asmarPovest o latyshskom strelkeFlight from ViennaAn Inspector CallsPessi ja IllusiaMoney, Women and GunsOrgulloZolotyye yablokiSommarflickanKorosareta suchuwadesu: shiro ka kuro kaLe clochard milliardaireHistoria de un amorOld Overland TrailAmor con amor se pagaAri no machi no MariaPlan 9 from Outer SpaceBao dao mei renDay the World EndedEl joven del carritoKulog sa tag-arawL'eau viveAdventures of Captain FabianBi yun tianTrail of the RustlersIndian UprisingTo koritsi tis amartiasLos maridos no cenan en casaDie Drei von der TankstelleNu er xinGli amori di Manon LescautInsaf Kahan HainStock CarSterren Stralen OveralWanda, la peccatriceSenza bandieraShi hangAndrocles and the LionAus dem Tagebuch eines FrauenarztesDwarikadheeshFlat TopBao lian dengO ahristos tis koinoniasLa loterie du bonheurNahnu basharEl zorro escarlata en diligencia fantasmaSawanRome ExpressMi hun quThe BigamistL'angelo delle AlpiAy... Calypso no te rajes!LizzieMon mari est merveilleuxDuan chang feng yue13 East StreetCani e gattiVirgileLa joyeuse prisonVanyaOcchi senza luceO DiamanteGasparoneGogaereul neomeumyeonWagon MasterMeine Tante, deine TanteCattle TownJohnny RoccoDertli gelin SirvanKuchizukeRyadom s namiAccadde di notteImitation of LifeCarson CityThe Big BoodleBijuterii de familieMiss Coca ColaEin Amerikaner in SalzburgPabo RealBorn YesterdayParineetaRen jie ren yuanPardesi DholaFlesh & BloodSpring and WinterTopo TopoWhen the Redskins RodeLes nouvelles aventures de SikituTough GuyVersuchungNour el lailNaghma E SaharaChhaiBaghiLa gitana blancaSpartacoMy World Dies ScreamingPaid in FullFebbre di vivereBonjour ToubibA Day to RememberThe Toast of New OrleansLa famiglia PassaguaiBlack WidowOri okeanis saidumloebaJunges Herz voll LiebeEl bandido generosoTop of the FormComin' Round the MountainThe Heart Is a RebelMilanesi a NapoliI ragazzi dei ParioliMurder at 3amYan zhi huDiyuan chunxin hua dujuanViolenza sul lagoNi pobres ni ricosSai da FrenteZimbo KI BetiProfileLiang Shanba yu Zhu YingtaiFar til fireO adam kimLes lettres de mon moulinThe Sleepy FamilyNorth of the Great DivideDesert PassageDortoir des grandesThe MagnetHahabul-habolRiders to the StarsLa calle del pecadoApache DrumsShishunkiSebastian KneippL'auberge en folieMemis Haydutlar ArasindaAnd Now TomorrowDer JungfrauenkriegShi bianThe Last FrontierIt's a Big Country: An American AnthologyRavinaTokyo no ekuboCattle Queen of MontanaTempo di villeggiaturaAyer fue primaveraRatavartijan kaunis InkeriDestination MilanUn giglio infrantoMystery on Bird IslandChun qing leiThe Red BeretDiez fusiles esperanThe Human JungleLa esfinge maragataGumasta (II)Sheriff TeddyTrstPiatka z ulicy BarskiejDu zhang fuThe Long ArmLe roi des camelotsEsa pareja felizBaadbaanBednieri shekhvedraAtoll KCadena de mentirasBujeon jajeonAglayan kayaLa virgen gitanaTrzy opowiesciThe CyclopsThe Fuller Brush GirlThe ActressYuki fujin ezuRue des PrairiesStrano appuntamentoLa soif des hommesThe Heart of a ManThe Man BetweenHochstaplerin der LiebeEl gran circo ChamorroOn demande un banditOnce a ThiefKoko ni izumi ariBarrio bajoChingariHu xue zhui zongUrvakannere heranum en lerneritsMa femme est formidableKiller SharkLong John SilverPiantadinoMonsieur Scrupule gangsterChikwembo!Brave WarriorVtoroye tsveteniyeJupiter's DarlingRokunin no ansatsushaPod gwiazda frygijskaAbenteuer in BamsdorfUnderwater!Amanecer en Puerta OscuraDrei KavalierePasionariaAin't Misbehavin'ZenicaTian tang qing leiO tzitzikas ki o mermigasTarde de torosIl diavolo neroInspanDie HalbstarkenA Cool Sound from HellDiego CorrientesProcesso contro ignotiThe Second MateCarola Lamberti - Eine vom ZirkusBinan-joGhar SansarAbezaraLa belote de Ture BloemkuulCento piccole mammeSaqiEinmal eine grosse Dame seinSanta ClausMakeraremasen katsumadewaWaga aiEl rebozo de SoledadRose Tattoo ng buhay koZalogaKaidan Kagami-ga-fuchiWitness for the ProsecutionMamma mia, che impressione!ShamusCurvas peligrosasPatvi hamarAmor prohibidoBeau JamesThe Naked RoadOn the BeachDer Schatten des Herrn MonitorKvavili tovlzeThe Feminine TouchThe Steel BayonetDer Stern von Santa ClaraMeine Kinder und ichEin Lied geht um die WeltThe Saga of the Viking Women and Their Voyage to the Waters of the Great Sea SerpentThree Men in a BoatHorizons sans finRechukkaBa Mei ZhuangyuanTe odio y te quieroAnastasiaUp FrontAuguri e figli maschi!Alias John PrestonBank ManagerLahn al khouloudGunfight at the O.K. CorralDangerous ExileFeng chun you wuO kapetan SorokadasJukeomiui sangjaKarli dagdaki askIl moschettiere fantasmaDas kann jedem passierenDescendez, on vous demandeLa liga de las muchachasGuan bu zhuIl segreto della Sierra DoradaSkovridergaardenYavrularimin katiliAfricaDo RotiUndercover GirlLe grand bluffPrivate Hell 36The Master of BallantraeBertong BalutanVom Himmel gefallenKatiaMlodosc ChopinaLo que no se puede perdonar!..Servicio en la marMan of a Thousand FacesChu hai yun xiaEl siete machosSanga-sangang pusoDivisione FolgoreNagasaki No Uta Wa WasurejiProtevousianikes peripeteiesDos caminosSumpa at pangakoLove Me TenderSazae-san no seishunThe Lady Wants MinkJai MahadevTormentoAnarkaliNatalia LimerivnaYanzi xian lai yanzi jianDieses Lied bleibt bei DirThe Voice of MerrillXiao fu qiLa novia de Juan LuceroParash PatharThe Gamma PeopleDevil on HorsebackWhat the Butler SawBut Not for MeOver the BorderStranger from VenusDzhambulLittle Red MonkeyOur Girl FridayChetveroWoman They Almost LynchedMis secretarias privadasSerenata amaraPosledniy dyuymTalpaCall of the KlondikeHorizontes de piedraCuidado con las mujeresMarry Me AgainCharana DaasiDe Madrid al cieloNu zi gong yuPoisson d'avrilEl diario de mi madreYou're in the Navy NowEl tesoro de Isla de PinosSeda SulangO Batedor de CarteirasLa meilleure partEnigma de mujerKali Topi Lal RumalCrimen y castigoGeliebte BestieTennessee ChampHuntedVioletas imperialesUn novio para LauraThe PalominoHondoThe Long Dark HallHouse of BlackmailBahala naYoung and DangerousNi lu feng yunThe Opposite SexMulataDomenica d'agostoDie Ehe des Dr. med. DanwitzFollow a StarPeyton PlaceZoku Take-chan shachoDeszczowy lipiecThree Violent PeopleL'amour descend du cielBride of the MonsterBetween Midnight and DawnCasa grandeDisc JockeyMariliYeongwonhan nae salangThe Narcotics StoryStar of TexasQuantrill's RaidersMatandang dalagaNaag PadmaniBadal Aur BijliThe Story of Robin Hood and His Merrie MenBulaklak sa parangNiedaleko WarszawyArmy BoundWah Rahe ZamaneMalditaOnu affettimIfugaoThe Belle of New YorkThe Groom Wore SpursCeylan EmineI sette nani alla riscossaRadio PatrullaDe Pernas Pro ArCartas de amorDan jia mei gao huang diAbout Mrs. LeslieFaddija - La legge della vendettaLuan shi yao jiEl vampiroScandal SheetThe MountainJudgment DeferredBlue BloodChinitaTorrepartidaThe Naked DawnAmore e sangueArd el salamViolent MomentUn vago sin oficioHab' ich nur deine LiebeThe Seven Little FoysSwiss TourArzooPoeten og LillemorO giannos ki i PagonaThe ShiraleeDelo PyostrykhThe Headless GhostThe Man Behind the GunBall der NationenAl-hawa maluush dawaInterludeEnsayo finalKikoEunmyeongui sonMan of AfricaJack and the BeanstalkKibris'in belasi kizil EOKAHot BloodVertigoJalpariBuongiorno primo amore!Besos prohibidosMezarimi tastan oyunKorsanHell SquadBo li xieMon pote le gitanCounty FairPeter og Mie i KinaLove IslandThe Long WaitSihirli boruThe Black ScorpionAvventura nell'arcipelagoIron Mountain TrailNew Faces52 Wochen sind ein JahrLa chair et le diableSpy in the Sky!Two of a KindLa mujer que tu quieresShunkin monogatariPastLos dineros del diabloOdorikoLa reine MargotEl lunar de la familiaThe River's EdgeI tre corsariThe Duel at Silver CreekQalis tvirtiMon oncleNiskavuoren AarneI vagabondi delle stelleMlechnyy PutJoe Palooka Meets HumphreyLyanaSpion 503The Good BeginningBeyoglu esrari36 HoursThe IntruderTeen-Age Crime WaveWar ArrowFrau HolleJagritiAjantrikGang BustersAgguato a TangeriFemmine tre volteIntriga en el escenarioEn carne vivaHold Back the NightSam yeoseongMi vida por la tuyaPepe El ToroMarguerite de la nuitHuan xi yuan jiaToda a Vida em Quinze MinutosDesiderio 'e soleThe ShowdownIl nido di falascoCiulinii BaraganuluiAddio Napoli!Hwaryo chunmongCarnival StoryWetterleuchten am DachsteinDarling koOn the WaterfrontThe Runaway BusDedecek automobilFakir kizin kismetiNew Orleans UncensoredLe bourgeois gentilhommeJohnny You're WantedFrom the Earth to the MoonJonny rettet NebradorKara sevdali yarimWestward Ho, the Wagons!Una aventura de Gil BlasThe Space ChildrenStellaJet PilotPing yuan you ji duiLing Guixing san da Liang TianlaiLupang kayumanggiCompanions in CrimeWochenend im ParadiesChibusa yo eien nareLes amants de minuitWu long jiang junThe Guy Who Came BackYi ye feng liuElPainting the Clouds with SunshineThe Yellow BalloonPastori JussilainenLove in the AfternoonSuperman and the Jungle DevilEverybody's Dancin'Il prigioniero del reHei shou taoLes aristocratesLain mukaanJiang hu qi xiaIl mostro dell'isolaKhazanchiHoney degli uomini perdutiCi troviamo in galleriaAglarsa anam aglarThe Surgeon's KnifeXue ran xiang si guVaftistikosCity Beneath the SeaCofradiaTubig na hinugasanLibelPepito y los robachicosShinelAltid balladeDrakula Istanbul'daSobre las olasLong xiang feng wuHer yerde tehlikePod zolotym orlomThe 13th LetterUnsterbliche GeliebteChun se wu bianKranes konditoriA Luz Vem do AltoSecretaria particularVarudu KavaliFuerza de los humildesIvan (il figlio del diavolo bianco)Kaidan 'Chidori-ga-fuchi'La vierge du RhinLaging May umagaBurlesque in HarlemTimber FuryMrs. O'Malley and Mr. MaloneNo Sad Songs for MeCennet yolculariMala JoleWang fu shan xiaDer Cornet - Die Weise von Liebe und TodEl derecho a la vidaBallerinaOne Way StreetGod Is My PartnerGodini za lyubovIch und meine FrauAyyam wa layaliGli angeli del quartiereJack Slade3 Ring CircusWo shi yi ge nu renLitet boMo gong yao houShohratThe Girl in the Red Velvet SwingGun BeltYukon ManhuntBoryokuNasaan Ka IrogCanyon RaidersRoman einer jungen EheGgotpineun shijeolBlue Grass of KentuckyOni vstretilis v putiFamilie SchimekJohnny GunmanGiovanna d'Arco al rogoDas Wirtshaus im SpessartMulheres, Cheguei!The RookieMannequins de ParisGirdle of GoldLa corda d'acciaioAffair with a StrangerAltyd in My DromeAshizuri misakiTorna!El sittat maarfoush yiktibuJiaDas verurteilte DorfRasare soareleMalish hadLittle FugitiveRaiders of the RiverValentinoNacht am Mont-BlancLos sobrinos del ZorroThe Camp on Blood IslandTen Thousand BedroomsSoygunKalam Maari PochuBrigada criminalKaibyo Gojusan-tsugiFiend Without a FaceOnkel Bill fra New YorkEl hijo del crackLes 3 font la paireBaril o araro?Hikage no musumeI've Lived BeforeGromadaA EstradaThe Outlaw's DaughterYorokobi mo kanashimi mo ikutoshitsukiSantiagoMalafemmenaNapoletani a MilanoThe Gambler and the LadyHandang matodasUit hetzelfde nestGhost of the China SeaGiovanni dalle bande nereSala de guardiaEs geschehen noch WunderHaqeeqatCanto para tiSagradoWalking My Baby Back HomeBerdugo ng mga anghelWakai hitoFootlight VarietiesHam meyvaNew DelhiSmall Town StoryOutcasts of Black MesaToward the UnknownPadre nuestroThe Horse's MouthCem SultanUnternehmen SchlafsackHuan le nian nianBal TabarinSection des disparusDel can-can al mamboRolling RockersLa nonna SabellaC'est la faute d'AdamDon JuanOi kavgatzidesAkdeniz korsanlariMarshal of HeldoradoPanduranga MahatyamCow TownLa odalisca No. 13Kogan no misshiNo soy monedita de oroHa cha chaO magoufisYi ban zhi gePrimero soy mexicanoShaneMiao ying piao ling jiEugenia GrandetSaturOi, muistatkos...Man in the ShadowKing DinosaurMaksimkaSalt Lake RaidersOvodRing of FearPandora and the Flying DutchmanUnion StationThunder Over the PlainsEs geht nicht ohne GiselaDalwang PanataHeidemelodieNo Safety AheadKirik plakMy Son JohnIn the Wake of a StrangerLucky MeEl asesino XEl mariachi desconocidoEl secreto de Pancho VillaJisne Tera Naam LiyaAnnibaleThe MiracleTight SpotPadelekTrue as a TurtleOdds Against TomorrowTen Wanted MenPanther Girl of the KongoVolca nocPehli JhalakSarangadharaThe Lawless RiderPesma sa KumbareInside Straight99 River StreetFranz SchubertThe A-B-C's of LoveKlettermaxeLocura musicalAdmiral UshakovConvictedPlenniki Barsova ushchelyaI vampiriJasoosOlet mennyt minun vereeniLalo kitang mahalThe EmbezzlerKiss Me BabyBlue Murder at St. Trinian'sInside the MafiaThe Pace That ThrillsBhanu Pelo LotteryThe Defiant OnesYi jia qinRumpelstilzchenLa sombra de Cruz DiabloThe Great Adventures of Captain KiddTen u pirsaTipinLa leggenda di FaustPilyong KubradorMia Italida stin ElladaGuardie e ladriLittle Big HornSombra verdeEl cuarto cerradoCuando el alba llegueSiamo ricchi e poveriRegementets rosFantasmi e ladriMag-asawa'y Di BiroRose MarieNanbanji no semushi-otokoZvezdy na krylyakhI Accuse!The Benny Goodman StoryAll Mine to GiveTag til marked i FjordbyNiskavuoren HetaRose of CimarronAnna na sheeMen Against the SunBroadway JungleSon of Ali BabaKunnioittaenMogamboKhul Ja Sim SimMujer de medianocheWer die Heimat liebtXiang ru fei feiThe Limping ManAu coeur de la CasbahThe Best Things in Life Are FreeKaidan Saga yashikiTokyo beran me-e musumeBattle CircusLa familia VilaGabrielleTo mistenkelige personerOkefenokeeCasta divaRiding HighThe Blue AngelSon of Belle StarrBataktaki kizHey Boy! Hey Girl!Copper CanyonPintor kulapolCuore di mammaManolo guardia urbanoSi tous les gars du monde...Das letzte AufgebotNapoli milionariaOn the Threshold of SpaceThe Du Pont StoryCzarci zlebXing hua xi zhi lianGui ye kuDie Geschichte vom kleinen MuckThe Wasp WomanNasreddin Hoca ve TimurlenkAbenteuer in WienBlood OrangeThe Adventure of the Good Soldier SchweikBror min och jagMurder at Site 3Farlig ungdomStorm Over the NileAssafir el jannaSong of ParisFils d'ImanaThe Admirable CrichtonAmor y torosDas vierte GebotDie Vier im JeepAgua BenditaEl candidatoMiss Toofan MailAmici per la pelleSOS PacificEr ba jia renFlicka och hyacinterEncoreMy Man GodfreyMy Man and IOtoko ariteBrandy for the ParsonNo Trees in the StreetSaltimbancosKanchanaUkikusa nikkiRobbery Under ArmsPandanggo ni NenengChildren GaloreThe Man Who Died TwiceConfidence GirlKvinnens plassLa fe en DiosZwei in einem AnzugAll AshoreLa forasteraFeng liu tian ziSissi - Schicksalsjahre einer KaiserinUnwed MotherC'est la vie parisienneV tvoikh rukakh zhiznDuniya Gol HaiAngelo tra la follaDie Schuld des Dr. HommaLo sparviero del NiloBos besikTarhataPane, amore e fantasiaMan in the DarkAlbelaParivartanaRen gui lianMustang!BarkhaThe Bloody BroodKaviShama ParwanaSomething Money Can't BuyDas kalte HerzSette canzoni per sette sorelleShiosaiRoma, ore 1120,000 Leagues Under the SeaTake a PowderTamannaAsk Any GirlThe Lawless EightiesKleren maken de manAll That I HaveDanao Guang ChanglongThe Treasure of San TeresaHua hao yue yuanFaustinaTo stavrodromi tou pepromenouBattle of the V-1The Girl on the PierThe TahitianThe Kid from TexasCaptain Carey, U.S.A.The House of the Seven HawksNever Look BackThe Baby and the BattleshipMan-EaterAngel FaceThe Weak and the WickedTo teleftaio psemaMammyOverland PacificHill StationKing of the BullwhipPeddamanushuluZi mei quJun'ai monogatariLa sombra vengadora vs. La mano negraHra o zivotLes dents longuesOre wa yojinboRetorno al quinto patioBattle TaxiShotgunLes tripes au soleilThe Giant Gila MonsterKya Baat HainMaternidad imposibleMonster from the Ocean FloorLa finestra sul luna parkNaya SansarAnak sa panalanginGuwapoBorn RecklessMusik im BlutAlif-LailaDwoje z wielkiej rzekiSuche MotiThe Prisoner of ZendaDangerous CargoSha ren hua zhu yeEl tren expresoUtamaro wo meguru gonin no onnaMujeres en sombraThe DeerslayerHot Summer NightArakureAddio, figlio mio!Lacrime di sposaMilitary Academy with That Tenth Avenue GangJiu dian qing sha anEspadang UmaangilRadar Men from the MoonMa'aseh B'MonitFric-frac en dentellesManicomioKath PutliPannaIndranath Srikanta O AnnadadidiTian tang mei nuLal NishanTreasure HuntMimizukuAnak ng espadaAnarkaliAnak dalitaKin no tamago: Golden girlFilomena MarturanoI dur och skurWonder ValleyPitong MariaYou for MeBeyond This PlaceOi treis detectivesTurn the Key SoftlyNagareruThe Atomic SubmarineBop Girl Goes CalypsoPecado de ser pobreOdongoThe Immoral Mr. TeasThe BurglarDarby O'Gill and the Little PeopleThe Diamond QueenThe VanquishedEl hermoso BrummelBlue Canadian RockiesTangshan A'saoKanli NigarGaripler sokagiTin Tin TinYoung Wives' TaleDeadly NightshadeDona XepaHigh TreasonSuperman in Scotland YardThe Spanish GardenerThief in SilkAmor hoi!Northwest TerritorySocietyGunfire at Indian GapHai shang sheng yingThe Man UpstairsRoad to BaliAnakku SazaliThe Crooked WebCivan AliThe Big BeatCharadeFor Heaven's SakeUnang halikEl kommissariate el fatenateNechte to na mneThe Man Without a BodyConde de amorBasaguleraQuai de GrenelleFlight to Hong KongDevushka bez adresaMoglie e buoi...Fridolf sticker opp!Curse of the Faceless ManMurder Is My BeatLadro lui, ladra leiThe Book of Acts SeriesDer Mann im StromSaata Janmachi SobtiAbenteuer im SchlossRiver BeatAve MariaBob le flambeurAko ang maysala!Rendez-vous in het paradijsDoctor at SeaEk-SaalO CapangaA Perilous JourneyMod og mandshjerteHurricane SmithTres muskiterasThe Day of the TrumpetHeiratskandidatenBakya mo NenengThokarMei guHas Anybody Seen My GalDaleko ot MoskvyMakrya ap' ton kosmoZwei blaue AugenForbidden JungleTrial Without JurySherooLiang di xiang siDie TreppeSassi PannuZhen jia mei ren xinI Was a Teenage FrankensteinLa fille de feuThe First LegionGold RaidersSmugglerKommen Sie am ErstenLes impuresLa donna del giornoThe Stolen PlansFortunellaTeniente RamirezSube y bajaYetim yavrularOutlaw's SonL'amore nasce a RomaVigilante TerrorMacaoThe 30 Foot Bride of Candy RockGu yuan you feng chunThe Snow CreatureDaglarin kizi RuhsarGuereroRekavaThe Girl on the BridgeCapitan FuocoSomething in the CityVivillo desde chiquilloEmil und die DetektiveTriple TroubleWindfallGangster StorySouvenir d'ItalieMystery LakePuti i sudbyKalabog en BosyoBajrang BaliFeng huo jia renVolki i ovtsyA Lion Is in the StreetsHell's IslandEhei theio to koritsiUngarische RhapsodieKaibyo Karakuri TenjoThe Cosmic ManPiasame tin kaliLe fricNeoplachennyy dolgAnak PontianakEmbajadores en el infiernoWicked WomanMittsu no aiXin Tang Bohu dian QiuxiangMalharUnter Palmen am blauen MeerFu zhi guoEl hombre del paraguas blancoChandrakantaHannah Lee: An American PrimitiveLa puerta abiertaLa mestizaSeminole UprisingNaba BidhanRote Rosen, rote Lippen, roter WeinLe signorine dello 04Borets i klounDer Mann, der zweimal leben wollteBhartiPretty BoyFu nu chun qiuBozkurt obasiUrsula - Flickan i FinnskogarnaPrawdziwy koniec wielkiej wojnyVahsi arzuEndstation LiebeAlo? Ati gresit numarulTime Is My EnemyUn trou dans le murWu Song xue jian shi zi louThe Glass WallJie xin niangLong feng hua zhuWabash AvenueThe Naked SpurAlinaYou're Only Young TwiceMystery in the MineDragnetDanssalongenLey fugaLovers and LollipopsNaginaJiang hou en chouTrzy kobietyThe King's ThiefBellezze in biciclettaThe Lusty MenFrancis Goes to West PointLumpazivagabundusSono yoru no himegotoThe Girls of Pleasure IslandRebeccaDie Bremer StadtmusikantenDick Barton at BayTinalikdang dambanaNight Without StarsJaalFurisode taiheikiSpoilers of the PlainsPrivate EyesHuwag ka ng magtampoRakastin sinua, HildeVirgin SacrificeIl medico dei pazziCaptain ScarfaceKronans glada gossarHouse of SecretsRe mizeraburu: kami to akumaAppointment with a ShadowTrabalhou Bem, GenivalMister ScoutmasterThe UndeadAs the Sea RagesMan with a GunThe WellVenganza en el circoThe Proud RebelUng sommarTsukigata HanpeitaEs begann um MitternachtThe Light in the ForestJago Hua SaveraLa spada e la croceRebro AdamovoInvasion of the Body SnatchersCloak Without DaggerHaar JeetTrail GuideLelong mong panotAnak ng kidlatVor SonnenuntergangChamak ChandniBoy on a DolphinTsuki wa noborinuA Sombra da OutraSiren of BagdadPhantom from SpaceKasserer JensenTenali Ramakrishna (II)Insurance InvestigatorTaxi, roulotte et corridaAn jedem Finger zehnSon of PalefaceJust Across the StreetMain Street to BroadwayThe Long Gray LineNasreddin HocaThe I Don't Care GirlIkari no machiAar-PaarMysterious IslandDorothea AngermannJonube shahrBimHerzen im SturmSohrab at RustumLa anamPecadora ImaculadaChempion miraShahenshahThe Black TentMahiru no ankokuThe Vanishing OutpostDalawang pag-ibig711 Ocean DriveJin sang ziCarnavalNingen gyorai shutsugekisuMukhdaDirectorBruce Lee: An Orphan's TragedyStreets of Ghost TownDou fu xi shiBarn av solenWakare-gumoVita da caniAnte KavaliKhab va khialIl sole negli occhiLe diciottenniLa cruz de mayoLagrimas: Anak ng LuhaLa sombra vengadoraLa mujer XDonde las dan las tomanCarolina CannonballSha mo li de zhan douOperation SecretMilord l'ArsouilleDer EtappenhaseOpriEl hinchaLos aventurerosSanta LuciaRevolt at Fort LaramieBig Jim McLainShinshokoku monogatari benikujaku 3: Tsuki no hakkotsu shiroThe Sad SackGitaa o motta wataridoriMamluqiBhai-BhaiAgence matrimonialeEl rey de la carreteraBlackbeard, the PirateNoi peccatoriTexas Bad ManThe Saint's ReturnLa noche es nuestraThe End of the RoadKaze to onna to tabigarasuRumble on the DocksMiracle in SohoMother IndiaObyknovennyy chelovekWolf DogChang hen geTeufel in SeideEl SalvadorReturn from the SeaMy Forbidden PastVirgin IslandThe Golden Hawk'Las viudas del cha-cha-cha'Depois Eu ContoDa fu zhi jiaPark Plaza 605Washington StoryHuk!Susanna tutta pannaAna hurraDas Nachtlokal zum SilbermondVi tre debuteraEs war die erste LiebeWatch the BirdieEtsi esvyse i zoi mouDetective MaturamAndhare AloRide the Man DownIl bivioHinter den sieben GleisenZtracenciBehind the High WallThe Belles of St. Trinian'sIl tenente GiorgioZakonat na moretoLas tres ElenasMr. Walkie TalkiePatrouille de chocBetween Heaven and HellDas Lied der Hohen TauernHistorias de la radioYegor Bulychyov i drugiyeTi ho sempre amato!Machine-Gun KellyCargo to CapetownMadragoaThe Unknown ManVivir un instanteNight Was Our FriendLa torre de marfilNagkita si Kerubin at si Tulisang PugotSan lun che fu zhi lianMangalaDosa tak berampunCircus QueenLa campana nuevaLa loca de la casaExpresso BongoMuttsuri Umon torimonochoIsinumpaTormento d'amorePervye radostiArashiI Was a ShoplifterLa Gerusalemme liberataZhu men yuanBes hasta varZu Befehl, Frau FeldwebelDarah dan DoaNo EscapeKalagi TuraKrishna LeelaluGamugamong Naging LawinBasta IkawBanga ni zimadarBlackhawk: Fearless Champion of FreedomSarawakChalti Ka Naam GaadiBehind the MaskHamletDunjaDesert SandsXing dao fang zongDorteGui qiO CangaceiroThe Blue ParrotBakasyon grandeA CarneUng fluktThe Pickwick PapersBright LeafIn DespairAventuras de la pandillaZde jsou lviEscape from Fort BravoBored Hatamoto: Acrobats of DeathKanli feryatThe Sleeping TigerEl caso de la mujer asesinaditaHigh School HellcatsLucy's Really Lost MomentsHusarenmanoeverBiyaya ng lupaDie Stadt ist voller GeheimnisseQuiero ser artistaJupiterLa rondeShadow in the SkyForever, DarlingNerazluchnye druzyaChaubees GhanteMakasalanang banalWeh dem, der liebt!El ataba el khadraNaya DaurLa scogliera del peccatoAlibaba and 40 ThievesShori-shaHiwaga ng tulay na batoRadio tekee murronWang lao wu zhi lianAfsanaAccused of MurderAmori di mezzo secoloBesos de arenaThis Angry AgeEl indioIl moralistaCerca de la ciudadThree Cases of MurderOhtori-jo hanayomeAmud Ha'EshThe Ghost of Crossbones CanyonEl hombre que viajaba despacitoAlmas en peligroZaczarowany rowerLos enredos de una gallegaThe Cruel SeaDyesebelEl farol de la ventanaPost Box 999The Atomic KidParuparong bukidWehe wenn sie losgelassen...Rocketship X-MLe infedeliTipu SultanMotor PatrolThe True Story of Jesse JamesLay That Rifle DownUnutulmayan askThe Big ChanceEscuela para suegrasThe Counterfeit PlanBinibining kalogSumpah orang minyakUna piedra en el zapatoWild StallionTian ci huang jinXiao feng xianRamsbottom Rides AgainKenpei to barabara shibijinMalaire...und ewig bleibt die LiebeBlackoutA Case for PC 49Liane: Die Weisse SklavinCairo RoadArt. 519 codice penaleLast of the DesperadosVasiliy SurikovYesterday's EnemyDie liebe FamilieArizona ManhuntDon JuanNicomedesPacific DestinyOi klironomoi tou KaraboubounaAru kengo no shogaiEto nachinalos tak...SandinoMiddle of the NightThe Titfield ThunderboltEscapadeLa feria de San MarcosRires de ParisZhang fu ri jiDalawang prinsipeng kambalThe Eternal SeaLas dos huerfanitasYellowstone KellyKaitei kara kita onnaAsk ve kumarTroll i ordI Want YouBis wir uns wiedersehnPar ordre du tsarUna gira A.T.M.The Road to DenverSekirei no kyokuOtra primaveraThe Yellow Cab ManAkasen kichiAgioupa, to koritsi tou kampouOutrageBorn to the SaddleMonkey BusinessLa sonrisa de la VirgenHier's Ons Weer!TudiA King in New YorkI ftoheia thelei kaloperasiLaan mig din koneIch suche dichLum and Abner AbroadMashookaBullwhipThe Sound BarrierSaath LaakhSugar Ray Robinson vs. Carmen BasilioThe Brothers KaramazovBienvenido Mister MarshallMikhaylo LomonosovMoya dochHuang Fei-hong xie ran Furong guSing Along with MePrima di seraCuatro en la fronteraRyysyrannan JooseppiThe Colditz StoryA Serra da AventuraFushi shan zhi lianMi adorado salvajeEteris simgeraRue de l'EstrapadeTre piger fra JyllandExecutive SuiteThe WAC from Walla WallaAahL'ederaShati el zekriatXian hua can leiTaeyangui georiDo Ankhen Barah HaathDavy Crockett and the River PiratesChun-hieFu fu zhi jianHong KongLa quintralaLiebe kann wie Gift seinLa morochaHot RodThe Scarlet SpearInvitation to the DanceRobbers' RoostThe Matchmaking MarshalThe Skipper Surprised His WifeLa peau de l'oursTenyente Carlos BlancoA Question of AdulteryBroken LanceThe Traveling SaleswomanChacha ZindabadGreen Grow the RushesPerriKronjuwelenEl manzel rakam tletashLos hermanos DiabloI limni ton stenagmonThe BrigandThe King and I08/15 - In der HeimatYoshida to Sanpei monogatari: Ohanake no sekaiThe Secret ManKoelThe Glass CageOklahoma AnnieLes femmes sont follesIndian panaRomeiki kardiaShen xia jin luo han Xu jiK novomu bereguMade in GermanyJinjuneun cheonrigilTu hijo debe nacerRear WindowSanta de Um LoucoKochubeyOedo go-nin otokoDer SchinderhannesTa' Pelle medKynigontas ton erotaSaison in OberbayernAltri tempi - Zibaldone n. 1Ohne Mutter geht es nichtPalaboyEbediyete kadarAnjo do LodoSorok pervyyKanchanRojulu MarayiC'era una volta Angelo MuscoBogatyr idyot v MartoJeddaSerpent of the NileRegineSi muero antes de despertarMeus Amores no RioWoman's WorldBagdad After MidniteShree Shree Mahalaxmi PujaSuor MariaJan PahchanRausch einer NachtEl roboLe temps des oeufs dursAdventures of DI-13Ride a Violent MileGolubaya strelaThe People Against O'HaraStolen FaceFreddy, die Gitarre und das MeerLa morte viene dallo spazioDer Tag vor der HochzeitFast and LooseSluga dvukh gospodSierra BaronLe meravigliose avventure di Guerrin MeschinoPohwasokui shibjagaKikenna onnaEmei fei jian xiaPrinsesa GusgusinHanayome-san wa sekai-ichiRebeldeQuiero vivirHighly DangerousOsso, Amor e PapagaioNunmulThe Lady with a LampPehla Pehla PyarDu hui jiao xiang quYi ming san xiong shouYurei otokoKaatil KaunShark RiverMi preferidaThe Wonderful CountryAshi ni sawatta onnaInazuma kotenguIl capitano neroOrkisthika ekdikisiWarisZhen jin bu pa hong lu huoThe HighwaymanJeunes filles d'aujourd'huiThe Big OperatorQuinto patioLui, lei e il nonnoGirls on the LoosePier 5, HavanaLa trovatella di MilanoLorenzaccioMusikong bumbongJin hun jiWhite ChristmasLe rossignol et les clochesErotikes istoriesGlory at DawnThe Legend of the Lone RangerSalzburger GeschichtenArpagi tis PersefonisThe Return of DraculaSecond FiddleTo parastratima mias athoasNagula ChavitiStump RunChamp for a DaySaradamaEu Sou o TalCharley MoonThe Badge of Marshal BrennanPepito y el monstruoIl bidoneThe Royal African RiflesZivot pro Jana KasparaYu wangHeng dao duo aiA Dog of FlandersBruder MartinOmbre su TriesteMy Outlaw BrotherGayarreBabamin intikamiMademoiselle de ParisPrabhu Ki MayaKata lathos babasPiya MilanDe Tequila, su mezcalSea TigerDie Zwillinge vom ZillertalSi me viera don PorfirioTinieblasBandit QueenGeheimnis einer EheHaroumenoi alitesSkhvisi shvilebiGynaikes dihos antresTimbuktuDatsugokuFear and DesirePhir Subha HogiHokuspokusSanti-VinaVendettaLos peloterosAwantura o BasieTen North FrederickMillion Dollar MermaidVod-a-vilHome Before DarkO peirasmosDial M for MurderLet's Do It AgainMonster from Green HellKanaillenBoevenprinsesLa jeune folleTiao tiao da luGinto sa lusakThe Killer That Stalked New YorkTake Me to TownMakabuhayNakhlebnikLaraaySabita naifuBir kadin ugrunaVatan ve Namik KemalThe Gold ExpressMalvalocaA Hill in KoreaFusetsu 20 nenNo Questions AskedAventureraVenenoSois belle et tais-toiSultana DakuVeer RajputaniWang Bao ChuanThe True Story of Lynn StuartIt Came from Beneath the SeaLeave It to the MarinesKomppanian neropatitGe maHell Is Sold OutSudba chelovekaSugar Ray Robinson vs. Rocky CastellaniAbbott and Costello in the Foreign LegionJohnny TremainIt's a Grand LifeShonen tanteidan: Tomei kaijinCalifornia PassagePecado mortalBarbed WireAli ile VeliLa chica del barrioLa revoltosaLaivaston monnit maissaIdiotGokigen musumeOh, Men! Oh, Women!The Dark LightEverlastingDiakopes stin AiginaBlonde BaitA Gift for HeidiQing tian gu yanBand of AngelsAng prinsesa at ang PulubiNaajiPadri e figliA Outra Face do HomemChuanjin baoshanSo Young So BadThe Flying EyeHold fingrene fra morFaithfulJe suis un mouchardUmikko yamakko20 Million Miles to EarthCandabaUp in SmokeOtan to misos kyvernaTodu DongaluOdetteKasaysayan ni Dr. Ramon SelgaAngels One FiveEl amor no es negocioEl gaucho y el diabloOur Very OwnIl sacco di RomaDarpachurnaOnna to kaizokuChain of EvidenceStolen AssignmentWhile the City SleepsThe Steel JungleUna cita de amorNinnoTian fan di fuWienerinnenThe WeaponLes amants de MontparnasseYeosajangThe Silver ChaliceLonelyheartsYu hai yi hengPolice DogVenetian BirdState PenitentiaryHuowang fangong shisi nianAgnes psyhesFerry to Hong KongKind LadyDeath of a ScoundrelThe Girl from San LorenzoWar DrumsSorrisi e canzoniSamsaramMercado de abasto...ja Helena soittaaAzaadEnvoi de fleursNieuwe avonturen van Dik TromShalimarPiesni nad WislaHuang Fei Hong fu er huSkandal in IschlCerca del cieloBolshaya semyaHua hao yue yuanLa vie est belleBeyond the Purple HillsGureumeun heulleogadoAventuras de un nuevo ricoHafenmelodieTegnapDongbaek ggotLa grande cacciaOhne dich wird es NachtKull daqqa fi qalbiResa i nattenThe Secret FuryHis Darkest HourLos peores del barrioBijo to ekitai ningenGutei kenkeiThree Coins in the FountainToscaSima XiangruSatan's SatellitesUomini ombraThe Naked JungleUna gallega baila mamboCiske - Ein Kind braucht LiebeSeven Waves AwayLa notte del grande assaltoTeenage ZombiesCarib GoldCount Three and PrayEl ojo de cristalDie letzte HeuerLa sombra del otroYo no creo en los hombresValkoinen peuraYoung Man with a HornMan in the Shadow (II)In Old AmarilloMalikBhola ShikarOsobyy podkhodPrigionieri del maleThe Sign of ZorroSea DevilsRamadalMuntinglupaKambal tukoHijas casaderasAnkoku no ryokenThe Desperate HoursQueen for a DayRirikaZoku chakkiri kintaLetyat zhuravliThe ThiefEl amoEl jugadorToute la ville accuseRafles sur la villeSpacewaysThe BuccaneerOnore e sangueTrzy startyReturn to ParadiseMontecarloLal E YamanReach for the SkyGiant from the UnknownKarnavalnaya nochThe Female AnimalThe RackTo fintanakiLydia BaileyI agnostosRosalba, la fanciulla di PompeiCaptain PirateDeloJocelynXiang ji erSaginaw TrailThe Story of MankindA Day of FuryLa sierra del terrorMontanaLihim ng kumpisalanUlillang BituinDen lille pige med svovlstikkerneIncognitoPorte d'orientKnockBuzdilPilyaMitsuyu-senL'oro di NapoliKahramanaLahn el wafaaThe Night RunnerDer Himmel ist nie ausverkauftFei xian xia da po mou ren si shang jiHvad vil De ha'?BankaDendam PontianakO babas ekpaidevetaiMathabhedayaThe Big FishermanRailway PlatformVerlorene MelodieYoung and WildPepeng KaliweteOre mo otoko saXin hun di yi yeL'auberge rougeThe Joe Louis StoryBlood AlleyThe Sheriff of Fractured JawLajwantiOperation HayliftZeynebin intikamiKalaTale of Three WomenHot SpellNorth by NorthwestTalanty i poklonnikiReventa de esclavasO Canto do MarMuerte de un ciclistaWanted: Dead or AliveO Noivo da GirafaEl fantasma se enamoraHerculesHarriet CraigCaptain ScarlettCi sposeremo a CapriPovest o lesnom velikaneVerboten!I picchiatelliThe Silken AffairThe Model and the Marriage BrokerGou hun yan quThe White TrapPecadoBetrayedKasintahan sa pangarapHilfe - sie liebt michCivitas DeiA Woman PossessedI oraia ton AthinonBeit al ashbahKuang feng zhi yeUnter den tausend LaternenDuel in the JungleRivalen der ManegeHangman's KnotGrip of the StranglerTilki LemanHaram alekBreakawayParis Follies of 1956Jin shui lou taiJin Feng gu niangPickpocketDet gamle guldKortikLa mujer de dos carasLesBaikunther WillAlarm im ZirkusYotsuya kaidanThe Cimarron KidAccount RenderedSayonaraI Agni tou limaniouLa fortuna di essere donnaMa femme et moiOre wa matteru zeDie ganze Welt singt nur AmoreLa locura del rock and rollSky HighEl alcalde de ZalameaSamboTank BattalionEl crimen de OribeThe Incredible Shrinking ManMutter sein dagegen sehrThe Quiet WomanNa Senda do CrimeAdamkhorTime, Gentlemen, Please!Murada erecegizFrom Hell It CameGai qi jie hunCalifornia ConquestKalin orelatLa tercera palabraDie Jungfrau auf dem DachSierra StrangerEl lobo solitarioWenn der Vater mit dem SohneThree Sailors and a GirlTexas CitySomething of ValuePeggyRed SundownDie Freundin meines MannesThe Decks Ran RedBon VoyageMaria Went to TownThe Golden DiscBlood ArrowLa prima notteArrivano i dollari!Creature from the Black LagoonIdol on ParadeGolpe de gulatLyubov YarovayaThe Raiders'Mal de amores' (Rogaciano el huapanguero)ErgastoloDaleko je sunceFelicidadThe Young StrangerJubilej gospodina IklaThe Rose TattooKid Monk BaroniHombres a precioMaria PentagiotissaAbout FaceXue Ping Gui yu Wang Bao ChuanMara MaruMaria 38Ratha KanneerSul ponte dei sospiriIsshin Tasuke - Tenka no ichidaijiHe huan shan shangKele HandaReyna bandidaHiroshima mon amourNueva ChistelandiaHyotan suzumeLe comte de Monte-CristoWith These HandsAng bomberoSummer StockQuo VadisNow and ForeverDes gens sans importanceLa tua donnaGeu yeojaui joiga anidaBella, la salvajeThe Lone ClimberL'impossible Monsieur PipeletUntamed MistressAawitan kitaTanzende SterneLa p... respectueuseDie Blume von HawaiiThe Flying SaucerParola di ladroThe Rawhide TrailColumn SouthLi'l AbnerThe Stars Are SingingUnzere KinderAmor a primera vistaWu xian en qing wu xian henHappy AnniversaryPatala BhairaviPolicarpo 'ufficiale di scrittura'DevadasMaya NagriDer tolle BombergThe Desert HawkThe Beast with a Million EyesDon't Say DieThe Rough, Tough WestMedovyy mesyatsMy Pal GusBarricadeCanzoni di mezzo secoloAmanti del passatoRide, Vaquero!Cupido pierde a PaquitaGwageoreul mudji maseyoKandilang bakalLa maison BonnadieuQiu HaitangLuan shi en chouKal Kya HogaJonan ittoryuThe Jayhawkers!Jiang shi fu chouSeven Cities of GoldAnnushkaRecuerdoCasa de vecindadMatomeno iliovasilemmaAssignment AbroadSledite ostavatA Hole in the HeadDokufu Takahashi OdenMutekiNe sihirdir ne kerametThe Best of EverythingNong jia leNosotros dosSobresalienteTaiyo no nai machiSie fanden eine HeimatPulgarcitoKrovavyy rassvetGeu yeojaui ilsaengForbidden CargoA Dupla do BarulhoDas fremde LebenSunjeongui muneul yeoleolaWatashi no subete oDa nao fen zhuang louTiger by the TailDer Haus-TyrannFace of FireRaaginiAu diable la vertuThe Long KnifeChoppu senseiVenezia, la luna e tuBarrio FiestaSolitaryoSo Long at the FairLa duquesa del TepetateDie Lindenwirtin vom DonaustrandLes hussardsOutlaw GoldStellaSay One for MeThe Golden IdolCattle QueenEl sol sale para todosDie Fischerin vom BodenseeRigoletto e la sua tragediaL'amante di ParideRemains to Be SeenYim si ngonAh Q zheng zhuanForce of ArmsSintu - SintoPedagogicheskaya poemaHerra SotaministeriXian luo zhongYanginKihlausDer Stern von AfrikaBila sam jacaZhui yuYou Pay Your MoneySudba barabanshchikaOfrendaDevil Girl from MarsNa Zha nao dong haiAmbush at Tomahawk GapSolamente una vezThe Wild HeartHarold Lloyd's Laugh ParadeLa valse du gorilleThe ClownSusan Slept HereThe Perfect FurloughJamaica RunUn minuto de bondadEvening of HappinessApat na PulubiGirls at SeaMatar ou CorrerBir kadin tuzagiWeek-End with FatherVesna v MoskveHalf Human: The Story of the Abominable SnowmanI misteri di ParigiOpsadaO thisavros tou makaritiJamaeui hwawonDie Tochter der KompanieFaibles femmesSaaligirahGefangene der LiebeKiss of FirePobre huerfanitaPrairie RoundupBadlands of MontanaCanavar kadinJ'avais sept fillesShehri BabuDang de nu erDoku-ganryu MasamuneSharia el hubKansas PacificHold Back TomorrowHadaka no taiyoManhunt in the JungleHeart of the RockiesHoliday for LoversNaya AndazSurcos en el marAutumn LeavesMargaritaPawBoots MaloneChandrasenaLa mujer ajenaNau Do GyarahThe GazeboYu nu jing hunUkigusa no yadoMedan staden soverThe Giant ClawMujer en condominioThe EnforcerDer Pfarrer von St. MichaelWarum sind sie gegen uns?Hanno rubato un tramThe Deadly MantisBlondie Biffen och BananenZarakDas Licht der LiebeThe Birthday PresentEl hombre sin rostroPrisoners of the CasbahDeti partizanaThe TinglerSabiraInsaanNo HighwayDaitoa senso to kokusai saibanKay ganda mo NenengChest tovarishchaLa bella di RomaLes mains nettesHong bai mudan huaThe MansterPotragaIl bandolero stancoLa casa chicaIsland of Lost WomenChaimiteEl vengadorRogues of Sherwood ForestThe Last Time I Saw ParisTeresaHei tian tangEdge of HellGone to EarthDer Page vom Palast-HotelPork Chop HillNa dneThe Ten CommandmentsDie Venus vom TivoliIl viale della speranzaFeng xiao xiaoTokyo yoitokoDie Kreuzlschreiber999 Hai tan ming anGoleta australThe Enemy BelowConfessionThe Time of His LifeA Bullet Is WaitingThree for Jamie DawnGabyXiao ge nuPeregrinaSanyuhaCarta al cieloLa bestia debe morirRekrut 67, PetersenRetour de manivelleThe Black WhipYi bang san zhuang yuanAppassionataIt Grows on TreesLucky JimRammanVali SugrivaLa bandera negraThe DelinquentsHuang Feihong yu jiu Haichuang si xia jiKun on tunteetSalamangkeroHiwaga sa Balete DriveJennyKiller's KissLa PalomaBelovedOrient ExpressLa vendetta di Aquila NeraLa tempestaWu shan meng huiActorBlood of the VampireAsteroHuang Fei Hong zhuan si ji: Liang Kuan gui tianUng frue forsvunnetSOS GletscherpilotLa trappola di fuocoCai feng xi shuang longBodas de fuegoDust in the SunYu shou qin xiongThe Golden Gloves StoryCuando Buenos Aires se adormeceKispusChandni ChowkLa virtud desnudaCuatro contra el imperioCrime in the StreetsThe Planter's WifeThe Harder They FallVeealused karidAnal Ko...!El aventureroAutuas everstiThe LawlessBalarrasaNon scherzare con le donneMaya BazaarRostro al marGood-bye, My LadyPop Cira i pop SpiraVilla!!All I DesireDamn CitizenSix Bridges to CrossLa redDakota IncidentSoy del tiempo de GardelSazishAsakusa no yoruThere's Always TomorrowAndrieshAkasen chitaiPadeniye BerlinaRockin' the Cha-ChaCusta Pouco a FelicidadeSweethearts on ParadeBayouYou nu huai chunLyubovyu nado dorozhitSouth of CalienteCalling HomicideColorado SundownOn the Isle of SamoaNash korrespondentNa dorogakh voynySommerliebe am BodenseeU tikhoi pristaniToto and the PoachersUp PeriscopeMei gui mei gui wo ai niThe Court JesterAdieu ParisThe Story of Will RogersThe FearmakersBright RoadOfukuroQing chun songSon buseKogda payut solovyMakkhee ChoosPas de week-end pour notre amourEceline susamislarMerry MirthquakesAsintadoNa zisoun ta ftohopaidaAbbiamo vinto!El infierno de los pobresThe GoddessLes femmes sont des angesWoman ObsessedThree Brave MenPakka Inti AmmayiRoar of the Iron Horse - Rail-Blazer of the Apache TrailBreak in the CircleKyatsu o nigasunaAnders als du und ichA Handful of GrainThe Go-GetterVernye druz'yaFutari no kyujitsuA Lust to KillAadhi RaatDe espaldas a la puertaMeine Frau macht DummheitenDrei Birken auf der HeideThe VikingsAuferstehungAuf Wiedersehn am BodenseeEran trecento... (La spigolatrice di Sapri)Qiang xin langSatsujinhan Nanatsu no KaoNuevo amanecerManghyangKyriakatiko xypnimaKashima ariOrlyonokBattle FlameAlias Jesse JamesEl diablo desapareceGomathiyin KaadalanProcesado 1040Black Hills AmbushHelen of TroyEsrarli kadinLe crime des justesArimunding-mundingLa femme et le pantinPia de' TolomeiJangmaruchonui ibalsaWaadaCry MurderLa hija del ministroJaalsaazThe Quatermass XperimentLe cas du docteur GalloySamarat Prithviraj ChauvanWomen of TwilightLos solteronesStagecoach DriverZwerg NaseWalang hangganSvadba s pridanymAnna KareninaKill the UmpireGriff nach den SternenVerdens rigeste pigeCity of ShadowsYoung BessThe Naked EarthThe Rose Bowl StoryNavy BoundFort OsagePholay KhanMalulosGinza SanshiroSanta Lucia (II)Hour of DecisionHanranBhowani JunctionI'm All Right JackHeimweh nach dirQuem Roubou Meu Samba?The WerewolfShirin FarhadIl cocco di mammaGeliebte CorinnaLure of the SwampTa manavakiaThe Man in the RoadSherlock de AraqueGas-oilIstanbulEl canto del galloNobiEl billeteroSanta Fe PassageLes miracles n'ont lieu qu'une foisGli innamoratiFratse in die VlootSt. Benny the DipAdomas nori buti zmogumiZehn kleine NegerleinHeute blau und morgen blauMeet Mr. MalcolmWink of an EyeMirza GhalibNel blu dipinto di bluSindbad the SailorSupersonic SaucerKillers of KilimanjaroGo, Johnny, Go!Cave of OutlawsWhen You're SmilingKuchizukeThe Marshal's DaughterGending sriwidjajaLa jungle en folieLa rue sans loiThe SecretI tre ladriUna mujer decenteHong deng longBindiyaChrdili gzazeNaqabFather's Wild GameMatwalaHerrn Josefs letzte LiebeLlegaron siete muchachasRechter ThomasNoi siamo due evasiRevolt in the Big HouseUntamed FrontierHuang Fei Hong da po jin zhong zhaoEl bello durmienteRyu ni makaseroVenga a bailar el rockNaughty New YorkO CraqueBaap BetiIrham demouiStep Down to TerrorThe President's LadyFixed Bayonets!Man or GunDer BettelstudentKatkaLa ciudad sagradaEl mensaje de la muerte...Smena nachinayetsya v shestPlease Turn OverDum-BomSaudaminiKind der DonauThe Mark of the RenegadeJawabdariDie Trapp-Familie in AmerikaGhost ChasersTalk of a MillionThe French LineVera CruzCherokee Uprising'Jees, olympialaiset', sanoi RyhmyRazziaSpace Master X-7Shake, Rattle & Rock!Anna di BrooklynKundiman ng pusoWorld Without EndSeongbulsaDer Teufel mit den drei goldenen HaarenMenVsego dorozheThe House in the WoodsPassing StrangerIroes tis gafasDurgesh NandiniTerror in a Texas TownUkradennoe schastePuchinaSe solicitan modelosOkinawaSerenata en AcapulcoLeylaklar altindaCavalleria rusticanaAttestat zrelostiFrankenstein's DaughterWhirlpoolLicenza premioLa Pointe-CourteNotre-Dame de ParisLunetaThe Whistle at Eaton FallsCasque d'orWang shi si xiaAnother Time, Another PlaceDer ZarewitschObcan BrychBaazigarCounterspy Meets Scotland YardMarcelinoThe Glass WebGumnamAlerte au sudLe roi PandoreThe Hound of the BaskervillesNekri politeiaMask of the AvengerNianchanLa leggeMa petite folieDie verpfuschte HochzeitsnachtQuand sonnera midiLes amants de Bras-MortExpres z NorimberkaShah JiPlaygirlHot NewsUn fantasma llamado amorJeewan JyotiThe Sound and the FuryMahal mo ba ako?El pecado de quererteBend of the RiverJohnny on the SpotPitong gatangAdak TepeAdhikarHere Come the MarinesPalasyong pawidGoing SteadyLes anges sont parmi nousLettre ouverteBrevi amori a Palma di MajorcaYe du Yuan Yang jiangTodo es posible en GranadaSiamo tutti MilanesiRoom to LetBuenos Aires a la vistaMaaWadaa' fi elfagrLailaRakkaus kahleissaLas tres pelonasMuchachas en vacacionesMaigret et l'affaire Saint-FiacreLos chiflados del rock and rollDuas CausasAvalancheWahiba malikat al-ghagarFang Shiyu rou bo Hong XiguanAnokha JungleFor Men OnlyLa mano que aprietaVacanze d'invernoSamAmbushMata au hi madeDer WeibsteufelCien muchachasEmei fei xia wu chuang feng huo daoRu yi ji xiangMusafirkhanaBorn to Be LovedNo Down PaymentSmall Town GirlBright VictoryJongens zoals wijPony ExpressRoom at the TopBel Ami1 2 3TulsidasBernardineDaouni aishHans-die-SkipperKentucky JubileeEl boxeadorPaulaMerhametParatroop CommandJuhaOutlaws of TexasEscuela de periodismoTarzan and the Lost SafariXin bu xin you niI grandi peccatori (L'eterna catena)The World, the Flesh and the DevilSamrat ChandraguptLa sceriffaThe Man from the AlamoArrabaleraHa-FugaJust My LuckTenya wanyaUmi no hanabiFoot PathYa tenemos cocheThe Devil's DiscipleLiebeserwachenMoonfleetBacklashTarzan's Hidden JungleSavage DrumsEsmeraldaSensuikan I-57 kofuku sezuHai wang ziDer unsterbliche LumpMelodie immortali - MascagniThe MobOne Just ManBundfaldBuen viaje, PabloModelo 19Wo Du hin gehst...Jin tian wo xiu xiContraband SpainPadroeira do BrasilFierecillaThe Battle of the River PlateFather's Little DividendSatellite in the SkyThe Brain from Planet ArousThe Oklahoma WomanBaap Re BaapYouxin Wapa ChiCross ChannelVivir a todo darBuruubaLes compagnes de la nuitI girovaghiZamachSogno di una notte di mezza sborniaPenny Points to ParadiseKastilaloyWest of SuezJohnny-WalkerTobias Knopp, Abenteuer eines JunggesellenHuang jiang nu xia da po wu gong zhenRunning TargetEl brazo fuerteTamu AgungChina DollNeokonchennaya povestUn principe de la iglesiaBomba and the Hidden CityGuerra ao SambaZwei Bayern in St. PauliLa doncella de piedraQuando o Mar Galgou a TerraLes copains du dimancheThe Body Is a ShellThe Young GunsDobroe utroRed Skies of MontanaTumsa Nahin DekhaBawre NainShadow of a ManSieIl mondo dei miracoliO Thymios takane thalassaLa jument verteThe Dakota KidEkeines pou den prepei n' agapoun...Alishan feng yunThe Kid from Broken GunJeep, periptero ki agapiSkrattbombenHatamoto taikutsu otokoThe Big MoneyThe Man Who Watched Trains Go BySi meyor namanBaghi SardarEl Zorro escarlata en la venganza del ahorcadoUn gallo en corral ajenoLian yinEl Zorro EscarlataThe MaverickMarie des IslesLaughter in ParadiseIrasshaimaseCarmen la de RondaMargherita da CortonaCurra VeletaKristiane af MarstalBhedi LuteraEl jineteT-Bird GangSavage FuryKiss Her GoodbyeTototarzanDie Dritte von rechtsHi no toriZhan ShanghaiSin familiaBasag na ManikaThe Desert SongThe Girl Most LikelyPublic Pigeon No. OneLa battaglia di MaratonaTrack the Man DownLes diaboliquesSuivez-moi jeune hommeEl 7 leguasLes belles de nuitNaked GunThe HangmanFury in ParadiseOna vas lyubitThe TravellersHochzeit im HeuThree Stripes in the SunLa poisonVoennaya taynaLeuchtfeuerFrontier OutpostMin of meerAng magpapawidIbo kyoudaiXi ling menBlack Patch'Ferry'Los jueves, milagroThe Stranger Came HomeBesuch aus heiterem HimmelParis HolidayWest of ZanzibarParai ZameenSpionageNacha RegulesSi yo fuera diputadoRi cuGeheimakten SolvayDen opvakte jomfruDet sande ansigtTom ThumbIron ManThe Woman for JoeNorihei no daigakuStormy CrossingSandra, la mujer de fuegoWar of the SatellitesDyo agapes, dyo kosmoiTocaiaDeliOn the RunGirls in PrisonMa che fu zhi lianIspytanie vernostiLa vida en bromaShan huL'ultimo amanteUomini e lupiThe Angry Red PlanetShri Krishna TulabharamPurple Heart DiaryBurlesque in HawaiiThere's Always a ThursdayThe Miracle of Our Lady of FatimaLa portatrice di paneSoldiers ThreeJiokhwaPatto col diavoloMaalaala mo kaya?Xian mu danKapicinin kiziHell Ship MutinyDrei Tage MittelarrestDei svarte hestaneFanfaren der EheAbdulla the GreatRock Rock Rock!La ley de la sierraLockende GefahrSino ang maysalaO methystakasMing FengIl cavaliere senza terraThe Iron GloveUczta BaltazaraChangez KhanThe Bachelor PartyPrince CharmingPutnici sa SplendidaTull-BomLe sergeant-major avait une filleCrosswindsEine seltene GeliebteDer ZigeunerbaronAnema e coreMiriamBir firtina gecesiViva il cinema!Das Tor zum FriedenTaas tapaamme Suomisen perheenBotostrojThe Lady Takes a FlyerCuentos de la AlhambraTo mystiko tou pateraHao yuan jiaKomHell's OutpostBao feng yu zhong de xiong yingLe gendarme de ChampignolIl cavaliere dalla spada neraFourteen HoursHanna AmonThe All AmericanZa vlast SovetovGunslingerLa Diana cazadoraOperation PetticoatUmaga ng NenengBuccaneer's GirlLos agentes del quinto grupoXin hun jiThe Lost MissileZemyaViisi vekkuliaAffair in HavanaThe Painted HillsAnatomy of a MurderIt's Never Too LateRobinson CrusoeEriko to tomoni - Dai ichi-buAoiro kakumeiSchwarze AugenYollarimiz ayriliyorWoman in the DarkThe Monster of Piedras BlancasThe Vanishing AmericanCet homme est dangereuxAggi RamuduThe Come OnBomeikiDestinazione PiovaroloScuola elementareBattles of Chief PontiacSkandal um DodoCarrington V.C.No Road BackLa duchessa di Santa LuciaHound-Dog ManThe RiverRoshanaraI Cover the UnderworldFrucht ohne LiebeEnam Djam Di DjogjaThe Phantom from 10,000 LeaguesBaaziLa tienda de la esquinaI dipsaNepovtorimaya vesnaThree Bad SistersPoseyali devushki lyonLa escondidaLove in PawnThe GunmanXin guaCielo negroCom o Diabo no CorpoSurcos de sangreDie Stimme der SehnsuchtKaagaz Ke PhoolSteel TownGui lianUna cruz en el infiernoLa leona de CastillaLalu-UstadEn la ardiente oscuridadSummer LoveLa maison dans la duneLos tres alegres compadresVachanNight PassageKumander 13Savage FrontierShowdown at AbileneNegro es mi colorUnder Mexicali StarsKabanata sa buhay koSergente d'ispezioneYe hua xiangMawad gharamOberarzt Dr. SolmEscuela de campeonesPrimo amoreIsmail Yasseen fi mostashfet al-maganinHilda CranePas de coup dur pour JohnnyJu zi gu niangElvedaAdalatDamen i svartScandal at ScourieGift HorseLettera napoletanaFrente al pecado de ayerTo nisi tis siopisQing chun leFlor de sangreMr. Qartoon M. A.Paris PlayboysHindi binyaganLady PanameEncrucijadaAlle lieben PeterDistant TrumpetUp for the CupPrisoner of GolcondaTingu RangaGelin aysemThe Texas RangersThe Mark of the HawkUmi no G-menI'm a StrangerChain GangGohyangui nolaeDouble ConfessionLe dossier noirSharadaOutlaw QueenBird of ParadiseWakai hitotachiShinshokoku monogatari benikujaku 2: Noroi no matekiThe Living IdolPan Anatol szuka milionaChernomorochkaThe Old Man and the SeaThe Devil's PassMacabreThe Bridal PathYi fu zi xia jiO Noivo de Minha MulherSt. Louis BluesTop Floor GirlCalypsoPapa, maman, ma femme et moi...La vida no vale nadaNihon no higekiMariang sinukuanTanga-TikaFang Shi Yu xue zhan Yin Yang DongMehfilSan lianFuriosoTeenage MonsterFloods of FearIl peccato di AnnaLa bestia humanaEl osta HassanHihintayin kitaKuro-obi sangokushiMei gui yanBugles in the AfternoonEl plagiarioPassport to ShameRomeo y JulitaVallatud kurvidSabalerosThe Gelignite GangLes clandestinesShang gan lingDie wilde AugusteMis StonVoice in the MirrorTong xin shuDaughter of SindbadTiya LolengKaderJaktenAbilene TrailHochzeit auf ImmenhofPo putyovke LeninaMutya ng PasigStranger at My DoorGeratziteSeul dans ParisJayabheriIl prigioniero della montagnaAm Tag als der Regen kamHuis-closEvlat hasretiBannerlineOtryad Trubachyova srazhayetsyaSweetheartsUranium BoomDakota 308Riot in Juvenile PrisonLa Venere di CheroneaTimberjackUlitsa molodostiDambanang putikVoulez-vous danser avec moiHerrojen EevaRogue RiverSprawa pilota MareszaDans la vie tout s'arrangePutkinotkoFort Savage RaidersBadman's CountryThis Island EarthThe Red Badge of CourageThe Art of BurlesqueGunplayCarosello di canzoniParvarishTime Without PityFrancis Covers the Big TownIskateliDay of the BadmanHot IceThunder in the SunHong waHouse of BambooZuriko da MurikoErcole e la regina di LidiaBansari BalaMi Klalah L'BrahahGloria MairenaGawaiyaCordulaMapuputing kamayLas joyas del pecadoThe Night Holds TerrorApoy na ginatunganGli zitelloniD.O.A.The MummyOregon PassageGou xiong shouNo te ofendas, BeatrizSpotkaniaGui laiDenver and Rio GrandeMy Blue HeavenLutong makawKadin severseSheikh ChilliIl seduttoreUn grand patronNo Place to HidePierwszy startNo abras nunca esa puertaSed de amorUltimatumExzurHataThe Thing That Couldn't DieSterneHigh Tide at NoonTreasure of the Golden CondorLos santos reyesPobre pero honradoCaptain Video, Master of the StratosphereSilja - nuorena nukkunutEl hermaneThe Gunfight at Dodge CityThe GenieThe Delavine AffairMoment of IndiscretionYaya MariaGun FeverOh... Rosalinda!!Ne okreci se sineAl CaponeMiss TilapiaThe Story on Page OneSalakuljettajan lauluScorching FuryMa and Pa Kettle at HomeO Mimikos kai i MarySanskarSkandal um Dr. VlimmenThe Whip HandNishijin no shimaiDer MaulkorbThe 'Maggie'Ren hai wan hua tongJulie de CarneilhanSiklab sa BatangasPuro utos, puro utosNathalie, agent secretTsuma no kokoroVagabundaLa notte bravaJailorHarikomiThe Lady from TexasVraiment soeursNochnoy patrulIshq-E-LailaBeware of BlondieAs Young as You FeelBadalMinuit... Quai de BercyHome and AwaySugar Ray Robinson vs. Charley FusariGenesungWoman in HidingMaria du bout du mondeVrnil se bomThe Great RupertAsi evlatYou Know What Sailors AreHell's CrossroadsCavalcadeTegami o kakeruPoema o lyubviFritz und FriederikeCorreo del reyMi influyente mujerDokuritsu gurentaiMorgengrauenBarrio GrisGli eroi della domenicaLebedinoe ozeroSeksing-Seksi (Mapang-halina)Shield for MurderThe Spaniard's CursePalace HotelLa rue des bouches peintesDer StruwwelpeterAmir el antikamNaag PanchamiVerlobung am WolfgangseeDisi canavarEast of EdenJiggs and Maggie Out WestTante Wanda aus UgandaAmbiciosaLast Train from Gun HillThe Great CarusoDas zweite LebenCyrano de BergeracOnnagokoro dare ka shiruDate with DeathGemmaA Modern MarriageLouisiana TerritoryStepnye zoriTrudnoe schasteJoe Palooka in The Squared CircleFour Guns to the BorderMan CrazyThe Brave BullsAyn OmryHantikDonatoDiplomatic CourierDjamilahMelbaShe Didn't Say No!KangsaKhanabadoshDort in der WachauMurder by ProxyCaptura recomendadaSargamTexans Never CryLaw of the PanhandleThe EgyptianIsang milyong kasalananThe Man Who Understood WomenLa dama del albaSadan miekan miesAddio sogni di gloriaThe Man Who Loved RedheadsShamaThe Barefoot ContessaUn maledetto imbroglioTreis manges sto parthenagogeioPoil de carotteEternallyDer Rest ist SchweigenEine Frau, die weiss, was sie willMontana TerritoryLittle Big ShotThe Sad HorseO Homem Dos PapagaiosNo Love for JudyDobro morjeCarmenSierraSabungeraCarica eroicaHotel AdlonBain el atlalThe Sea Shall Not Have ThemIntent to KillSilent FearThe Shield of FaithHua luo hong louTungkod ni MoisesToyaSasha vstupayet v zhiznHi-JackedShin kurama tengu daiichi wa: Tengu shutsugenShizukanaru otokoDva kapitanaDomino KidThe Savage HordeChuan Dao Fang ZiDouble JeopardyAsl dostTres desgraciados con suerteBizimanaNaega naheun geomdungiChen xin ru yiAi xia jiJin mei renMaravillaHindle WakesLa nuit des suspectesWhen Gangland StrikesWhite GoddessThe Carringford School MysteryLe costaud des BatignollesLaban sa lahatRahma minal samaaNel gorgo del peccatoEl amor nunca muereYetimUn divorcioShuo huang shi jieKalapaniMatros s KometyAbbott and Costello Meet Dr. Jekyll and Mr. HydePaydosCanzone di primaveraHuo feng huangMonster on the Campus800 leguas por el Amazonas o (La jangada)Ridin' the Outlaw TrailRancho TexasJoe DakotaL'ultima sentenzaGhost of ZorroMy Wife's Best FriendLa guerra empieza en CubaKatia tarikEvlat acisiXin hu bu gui08/15The Naked and the DeadRoop KumariDvenadtsat mesyatsevBibi FricotinDonnez-moi ma chanceSergeant HassanSalem AleikumChelkashShadow on the WallSarakatsanissaPiccola postaLa marca del zorrilloSignori, in carrozza!Un acte d'amourNe imey 100 rubley...KerubinThe Second Mrs. TanquerayGeld Soos BossiesSeven Men from NowThe HoodlumChicago ConfidentialLa simuladoraEl misterio del carro expressDeath of an AngelYetimler ahi10th Batallion Sa 38th Parallel, KoreaMga liham kay Tiya DelyAnatahanLes vignes du seigneurKubanskie kazakiA Slight Case of LarcenyThree Young TexansShahi BazarDer schwarze BlitzThree Steps NorthYoung at HeartLa leggenda di GenoveffaDe Roof van Hop-MariannekeHazar PariyanDamn Yankees!JigokumonAtaman KodrBirakin yasayalimHoyoEx tenebris?Kono hata ni chikauHatsuwarai kaneigozen jiaiGaliniAnak ni WarayKings Go ForthThe Yellow Haired KidIl gridoPerfide ma... belleEr nu qing shenIl medico e lo stregoneDer Fuchs von ParisHere Comes the GroomKafedoThe Great ManChristinaNel segno di RomaSkid KidsUna movida chuecaThunder Over SangolandRoman eines FrauenarztesThe RacersZoo BabyBombers B-52The Sword of Monte CristoA Man Called PeterBetrayed WomenAna al maadiEl hinchaThe Man Who Liked FuneralsGreat DiscoveryPersonal AffairTonkaTropicanaLas aguas bajan turbiasKaminiCat GirlYotsuya kaidanReform School GirlUn hecho violentoOld Mother Riley Meets the VampireLas interesadasA Woman's TemptationNever So FewDe bruid zonder bedDis Lekker om te LeweHombres sin almaDeti solntsaDer ObersteigerThe Bridge on the River KwaiUgler i mosenLeyla'nin kaderiEn carne vivaAng Bombero (Kaaway ng Apoy)PrologOrgullo de mujerDie FiakermilliCattle DriveJan ZizkaDai san no shikakuFanfareLa carovana del peccatoBulgar SadikThe Night Won't TalkDramma nella KasbahSurrenderLos hermanos corsosChandirani (II)Pickup on South Street5 Against the HouseMarujaTom Brown's SchooldaysSarumbaWenn die Bombe platztBellissimaSuperman and the Mole-MenKachian KalianDar sokaklarBadjaoLaw and OrderDas tapfere SchneiderleinGestehen Sie, Dr. CordaDharma PathniAmari Gann JhiaThe NebraskanLygos, o leventisQuem Matou Anabela?The Lieutenant Wore SkirtsTopazeZarinaTsarsuli zapkhuliThree Cornered FateDama Juana GangSitaron Ki DuniyaMan ist nur zweimal jungRaiders of Old CaliforniaZvyozdnyy malchikTong ren wu tong mingLes mousquetaires du roiKing Richard and the CrusadersDie gestohlene HoseO Kokkovios protevousianosWala kang pakiFrontier RangersO agapitikos tis voskopoulas (II)Doorway to SuspicionQiu chang feng boThe Mating GameAmo un assassinoLe dritteThree HusbandsSher-E-BaghdadJennyBerdjumpa kembaliIl cavaliere del castello maledettoHuling konsiyertoThe Key ManEbedi istirahatLa provincialeSavage MutinyWu long hun yinHabaneraSaykopatikYuunagiTange Sazen: Kenun no makiEl final de una leyendaRaftarVice SquadDeadly Is the FemaleThe Black LashThe Heart of the MatterHatsuharu tanuki gotenNaghma-E-DilFolly to Be WiseGul-E-BakavaliA Ray of Sunshine: An Irresponsible Medley of Song and DanceXiang cheng xiong yingWiener WalzerCongreso en SevillaSuvarna Sundari (II)Kara yaziThe Trial of RizalSiraa Fil-WadiHoppsan!Krantiveer Vasudev BalwantThe Restless YearsAnsiedadAndrine og KjellLos gavilanesTehuantepecFingerprints Don't LieAoi chibusaWetbacksHeimlich, still und leiseThese Dangerous YearsHell Canyon OutlawsMuhoksen MimmiI'll Get ByYukiguniHong chenBorrasca en las almasKrvava kosuljaTo koritsi tis geitoniasThe Blue VeilJanken musumeIt Conquered the WorldPort of HellYonatan VeTaliTinkoBaza ludzi umarlychChaowa-PawaLian zhi huoHouse No. 44CamillaQuando a Noite AcabaNije bilo uzaludSunset Blvd.The TraitorEscape by NightGunman's WalkCarne de horcaDu mein stilles TalHana no ByakkotaiEspaldas mojadasThe Lone RangerThe Steel LadyKuriton sukupolviAcross the BadlandsThree Steps to the GallowsBattle of the Coral Sea47 morto che parlaAmwal el yatamaMe gustan todasMam'zelle NitoucheGaneun bom oneun bomStage to Blue RiverFrontier GamblerSabar UpareyThe Good CompanionsKaidan dochuTraumrevueDas Hirtenlied vom KaisertalLe chevalier de la nuitV dobryy chas!Cast a Dark ShadowProblem GirlsCuento de hadasCreature with the Atom BrainSaengmyeongSailor BewareUne fille dans le soleilPlanet OutlawsQing shan cui guMake Me an OfferAwishwasayaJalsagharReto a la vidaNikodem DyzmaLuz ApagadaRichard IIIHadashi no seishunVijaygarLissyNihonbashiMano Na ManoSubharatriO anemos tou misousDangerous CrossingSalaam E MohabbatAscoltamiSaathiHarana sa karagatanAzahares para tu bodaMuchachas de UniformeFuji ni tatsu kageUmaalong GintoUn marito per Anna ZaccheoTall HeadlinesNunca es demasiado tardeNoi due soliCountry Music HolidayHaring Solomon at Reyna ShebaThe Hot AngelKnock on WoodWoman on the RunUndercover GirlGarotas e SambaThe Leather SaintTexas CarnivalThe Beggar's OperaTukkata JaaDie unentschuldigte StundeUne balle dans le canonFlood TideYaban kizTsiskaraGolemanovJungle Moon MenOcherednoy reysThe Beast of Hollow MountainVento di primaveraDie PassionMan tang hongThe Iron PetticoatPod igotoJohnny ConchoAdolf i toppformChhumantarMask of the DragonBell Book and CandleHua shen xiong diThe Wild DakotasEl zoja el azraaPoonamEl zarcoLe triporteurFemale JungleStenataJin feng huangNeel Akasher NeecheyTres huchas para OrienteUwasa no onnaKatadikasmeni ki ap' to paidi tisOperation MurderLe chemin de la drogueHeungbuwa NolbuZonk!Garden of EdenAldrig i livetSamra sinaEl gendarme de la esquinaToprakNever Let Me GoJiken kishaBunco SquadDie HalbzarteOi trakadoroi tis AthinasUmberto D.Santa FeIl conte di Sant'ElmoIdeale Frau gesuchtBabae, babae, at babae paGui fang leUtamatsuri kanzashi matoiMogacho AnvddoMadame et son autoLaw of the BadlandsElokuuSledy na sneguValley of Head HuntersIch habe es nicht gewolltRiding with Buffalo BillNo TraceSurcosFoma GordeevBlack Horse CanyonOff LimitsHell's Five HoursLa isla de las mujeresTorna piccina mia!Sevdaya kosanlarMein Herz darfst du nicht fragenThe LineupSanda WongSihirli defineMNChabukwaliSegodnya uvolneniya ne budetTime LimitTonight We SingGeordieLa mujer que se vendioDestino em ApurosKiuchi yasutoVernye serdtsaBlackmailerCrash LandingComendo de ColherLe circuit de minuitQiu baNowhere to GoA Stranger in My ArmsConchita und der IngenieurAladdin and His LampStranger at My DoorChina GateMi desconocida esposaSkadeskuttTrader Tom of the China SeasEl mal amorThe RaidYu ye huaMonptiChina VentureEstergon KalesiPassion de femmesLove That BruteVlak bez voznog redaOrdetBig ShotKahariang batoThe Man with the Golden ArmSea FuryTop SecretStop That CabAmor de lejosCrainquebilleOri okeanis saidumloeba (2-seria)Estranho EncontroL'homme de joieI theia apo to ChicagoDrei Tage AngstDavy Crockett, Indian ScoutLilli MarleneZavtrak u predvoditelyaKamandagVor Gott und den MenschenMacumba na AltaMarujo Por AcasoAwara ShehzadiWheel of FateLe pain vivantHigh JumpDreamboatCong ci xiao lang mo lu renCilali Ibo yildizlar arasindaO.S.S. 117 n'est pas mortA Certain SmileCody of the Pony ExpressMaria JohannaBonzo Goes to CollegeSommarlekUkjent mannPhilippine NavyCome te movi, te fulmino!Ask kurbanlariThe Harassed HeroNo Time for FlowersJungle Man-EatersKhalid ibn el WalidLa ciudad perdidaLa cobardeThe Man Who Turned to StoneOberstadtgassDuello senza onoreJin xiu ren shengB'Ein MoledetStorm Over TibetPoveri milionariShe Gods of Shark ReefDas Herz einer FrauSsora v LukashakhLegion of the DoomedClara de MontargisS.O.S. NoronhaCan shengThe Vagabond KingShuk RambhaMarmayogiLes tricheursEl tesoro de Pancho VillaSomebody Loves MeYukcheui kilIl mondo le condannaV sest rano na letistiGranitzaQianSai de BaixoDublin NightmareGul-E-Begum BadshahPunainen viivaPakiusapDa xia huo huaVagabundo y millonarioNazariaTian tian mi miRodeoMin zhu qing nian jin xing quSipahsalarYks' tavallinen VirtanenDay of the OutlawOriental EvilFrom Hell to TexasCow CountryThe StarSo ein AffentheaterOchazuke no ajiRio FantasiaAlt HeidelbergXu Qiuying an jianLe couturier de ces damesShinshokoku monogatari: Nanatsu no chikai kurosuisen no makiThe Wild OneKawakiS.O.S., abuelitaWoman of the North CountryFamilie BenthinLet's Make It LegalFlucht ins SchilfCharles TanteScaramoucheCast a Long ShadowDakilang pagpapakasakitPennkulathin PonnvillakkuCarosello napoletanoPimpernel SvenssonCuando Mexico cantaL'homme qui revient de loinLa valigia dei sogniSnegurochkaNot of This EarthEscapadeMurder in the CathedralFort TiEl crucifijo de piedraBhagwat MahimaDeux de l'escadrilleSo BigPorta un bacione a FirenzeFrancis in the Haunted HouseNinoAnjaamCamino del malApat na alasMatTuloy ang ligayaParis canailleCha mou ai chi cuMenzogna5 Steps to DangerHarihar BhaktiTininti del barrioMan from TangierZar und ZimmermannDer Mann, der sich selber suchtCamino al crimenLost, Lonely and ViciousJosei SOSEk Sal OpstaanBaap Ka GunahRafal u neboBang! You're DeadSolange du lebstKaunis KaarinaTrail of the ArrowDer Elefant im PorzellanladenL'amant de lady ChatterleyKulkurin masurkkaBonjour KathrinVulcanoThe RobeDuniya Na ManeShui xianAaravalliThe ProwlerTrioPhantom StallionCuatro contra el mundoSecrets of BeautySaazMananaAtha Okinti KodaleHula-Hopp, ConnyL'eroe sono io!Just This OnceBewafaPoleskaya legendaThe Silver WhipL'amore di NormaDolina sinikh skalGanyan ka palaWest of the BrazosThe Man Who Wouldn't TalkDer keusche JosefThe Duke Wore JeansKukonlaulusta kukonlauluunMusta rakkausDholakLe ragazze di Piazza di SpagnaPhantom CaravanBar kiziO ContrabandoHwang Jin-yiEight O'Clock WalkLa barranca de la muerteAm Brunnen vor dem ToreBai fa mo nu zhuan san ji da jie juMein LeopoldNai RaahenRakas lurjusEl rajul el thaniKamal Ke PhoolDue selvaggi a corteDer Vetter aus DingsdaArriva la bandaBedevilledRosaura a las 10El valor de vivirLo scapoloBy the Light of the Silvery MoonHoje o Galo Sou EuLost Planet AirmenEra uma Vez um VagabundoKunlun san jian xiaDe hemel op aardeDos corazones y un cieloEl maestroLin tou jiePecos RiverThe Birds and the BeesMercado prohibidoMaalesh ya zaharCarovana di canzoniPayalGuardatele ma non toccateleShri Krishna MayaTamr hennaTo paidi tou dromouFear Strikes OutLa paura fa 90La grande guerraTwilight for the GodsGenji monogatariKing's RhapsodyWei cheng jian dieYi dai mo shuai.RamuntchoVeronika, die MagdJeolmeun geudeulChiranjeevuluFeudin' FoolsClipped WingsRogue CopMonte de piedadHum LogSabudareli chabukiTuan jie qi lai dao ming tianGekko kamen - kaiju KonguPitchi PullaiahMorning DepartureThe Houston StoryThunder in the EastRoogie's BumpThe ConquerorKala Chor91:an Karlssons bravaderKol nevelu...FrosinaCuide a su maridoAnhoneeWenn eine Wienerin Walzer tanztNazar StodolyaSeis meses de vidaDevochka i krokodilI Piombi di VeneziaWhispering Smith Hits LondonThe Young LionsYu nu huai chunLady and the TrampHochzeitsnacht im ParadiesPort AfriqueThe Toy TigerRedwood Forest TrailToo Much, Too SoonMort en fraudeDas NachtgespenstHeimat, deine LiederAshita kuru hitoYo fui una callejeraMi esposa y la otraCaminhos LongosPony SoldierBengaziLa entregaMumtaz MahalThe 5,000 Fingers of Dr. T.ArpanAi margini della metropoliLatin LoversThe Angel with the TrumpetTinig ng TagumpayThe Treasure of Lost CanyonPorca miseriaIl principe dalla maschera rossaEverything I Have Is YoursI Married a Monster from Outer SpaceDalagita't binatilyoA Sina do AventureiroCasa RicordiQueen of Outer SpaceHua hua shi jieNa ge bu duo qingBorder RangersPaying GuestBaazTokyo da you okkasanDon KikhotHarukanari haha no kuniNi livHu buguiAkbal el bakariL'homme de ma vieGizli yaraJie hong dengMing nu ren bie zhuanDeep in My HeartAnnapurnar MandirIt's a Wonderful WorldHuahua GongziHuimieYi fu ziLaxdale HallFigaro, il barbiere di SivigliaTres ojosAlladin Ka BetaBowery BattalionThe Holly and the IvyBangikuIeri, oggi, domaniPrisoner of WarRosanaGreat Van RobberyFrontier GunRide the High IronThe JugglerAeropuertoEnsayo de un crimenTvoi knizhkiTaqdeerSheikh ChilliPiume al ventoBlondin i faraEna nero, kyra VangelioThe Damned Don't CryReifender SommerTeen SardarMorena ClaraJazu musume ni eiko areEverybody's GirlJourney to the Center of the EarthXiang dao mei ren yuMaftayach HazahavQing chun huan xiang quThe Revenge of FrankensteinTerritorio verdeFakirlerWar and PeaceMisteriyosoOne Minute to ZeroBir dilim ekmekNogiku no gotoki kimi narikiGuardia, ladro e camerieraNez de cuirKimi no na wa: Dai-san-buYalis, la vergine del roncadorIsland of AllahThe Student PrinceKto smeyotsya poslednimGentlemen Marry BrunettesRed SnowHuang jin mei renTout chante autour de moiSkaly a ludiaHaengbokui jogeonCompulsionKomediantiLimelightVesna na Zarechnoy ulitseThree Hours to KillColorado AmbushShui shi xiong shouDie Rosel vom SchwarzwaldCe coquin d'AnatoleTis tyhis ta grammena999 ming anYalancinin mumuWhen in RomeFour Girls in TownWeg ohne UmkehrSangue di zingaraThe Lady Pays OffAnariMolokai, la isla malditaDecision at SundownArson for HireTorkwataPasos de angustiaThe Gay DogLa caraque blondeThe Restless BreedWagon TeamAbbott and Costello Meet the Invisible ManTres muskiterosV dni oktyabryaA Strange AdventureWild HeritageMogli pericoloseAssignment: ParisUn caballero andaluzArrivederci RomaMarie-Antoinette reine de FranceObsessionMiedoEl monstruo resucitadoThe Angry HillsKimLa edad del amorDevil's BaitCirkus budeThe Blonde BanditRam BhaktiRevizorChain LightningBadman's GoldYo quiero ser malaInnocent MeetingLos troperosVarsovan lauluBabette s'en va-t-en guerreA Cry in the NightDezerterWang ge Liu geKill or Be KilledEstate violentaThe Girl Who Couldn't QuiteJohnny GuitarBu vatan bizimdirMakapiliSaint JoanLa Bigorne, caporal de FranceVuur, liefde en vitaminenHouse by the RiverMiss MaryDue notti con CleopatraFlame and the FleshDa dong guaKrutye stupeniMavri giAng kanyang kamahalanIgnotas grizo namoHeights of DangerTak rozhdaetsya pesnyaDebutanteAbbott and Costello Meet the MummyThe Lawless BreedStars in Your EyesThe Far CountryTong lin niaoSportivnaya chestMontgomery Speaks His MindBizim mahalleTikhiy DonRun for the HillsTip on a Dead JockeyAu revoir M. GrockThe SearchersMelodie des SchicksalsForever YoursBathalumanCass el azabRupkathaForces' SweetheartSom sendt fra himlenRevenue AgentQuitte ou doubleLast of the BadmenFrenchieFrancis Goes to the RacesDekh Kabira RoyaBai mao nuBelinskiyAfter the BallUne enfant dans la tourmenteJagajyothi BasaveshwaraLe rideau rougeNiang Re yu Ke KeLas medias de sedaMesu inuEl conde de Monte CarloThe Silent EnemyKrizovatkySmelye lyudiOrzelCameliaI quattro del getto tonanteSa Libis ng NayonThe BossEine LiebesgeschichteDiakopes stin KolopetinitsaZavalli yavrucakThe Rabbit TrapO gynaikasUn grito en la nocheOld Mother Riley's Jungle TreasureThird Man on the MountainMad About MenBuchanan Rides AloneFrau im besten MannesalterLove's a LuxuryChaque jour a son secretLa vida es maravillosaPaul Temple's TriumphI figli non si vendonoLas mil y una nochesThe Fat ManEl redentorDie spanische FliegePod stuk kolyosNight of the DemonNaneun neoleul shirheohandaUnruhige NachtPoteryannaya fotografiyaMor skal giftesOperation DiplomatI, the JuryLa passeggiataShaonian youWan jie qing yuanFlying ManDie ToteninselDos novias para un toreroAmar PyarH-Line GangLocuras, tiros y mambosPyaasBehave Yourself!BayanihanLos tres bohemiosShe qing guiEl barro humanoLa schiava del peccatoLluvia rojaSelskiy vrachSecretaria peligrosaTobor the GreatZhu ying zhao hun fuAbid el malSijn el azaraThe Cruel TowerUp to His NeckDarbar-E-HabibZaporozhets za DunayemMy Death Is a MockeryJuliette ou La clef des songesKezbanThe Turning PointManon des sourcesCorreccionalSon mektupLeft Right and CentreDial 999The Big Fight: Jack Sharkey vs. Primo CarneraOgMeine Schwester und ichPoyut zhavoronkiSitting BullSaeta rubiaEl milagro de salGurbetEn cas de malheurDrei Mann auf einem PferdFlickan i regnetVeterZelyonyy furgonLian feng he mingOtchiy domRasskaz moey materiWang Kui yu Gui YingBaby Face NelsonManuelaThe Magic CarpetTo xypolyto tagmaDer keusche AdamMustasukkaisuusDebatraGojiraDrums of TahitiSecret VentureOri odjakhiLille Fridolf och jagThe Big HeatCareerBlind SpotCaz sazL'inspecteur aime la bagarreThe CommandTausend MelodienDuelo de pasionesAlitet ukhodit v goryKulla-GullaOne Wild OatBadi PanthuluJunction CityAbhishaptaPane, amore e gelosiaWhere's Charley?To minutter for sentThe Outcasts of Poker FlatThe Wild PartyLes violentsKaybolan yillarQiuThey Never LearnO Olmasin, Bu OlsunSara no hana no togeBreakthroughMagica blancaEine Frau mit HerzThese Wilder YearsHwanghon yeolchaWer fuhr den grauen Ford?Blind Man's BluffTangewaliGente feliceSchneeweisschen und RosenrotBasant BaharAmanecer en el PichinchaExpo en avant!Los amantes del desiertoSag ja, MuttiSantanamJuliettaBrandedFidelioSuperman in ExileGabriel, tule takaisinBabulDouble DynamiteEdo no meibutsuotoko: Isshin TasukeEin PolterabendShabistanProfessor NachtfalterBademeister SpargelSharmsarChun chaoKumpanyaHiroshimaIl raccomandato di ferroDer eingebildete KrankeMein Schatz komm mit ans blaue MeerGulshanDie Sonne von St. MoritzPaco, el eleganteDo AnsooSalute the ToffHoliday for SinnersThe Hanging TreeShiawase wa ano hoshi no shita niVarvaryEvaMeines Vaters Pferde, 2. Teil: Seine dritte FrauMelpoIbratDoble caraPrince ValiantJinriui bamJongmal eobtneun bigeukRough ShootAlong the Great DivideCita imposibleQing chun de yuan diYo... el aventureroGlen or GlendaBufereNew MexicoGeisha GirlThe Kid from AmarilloSeoului hyuilPals of the Golden WestEl vividorDu jiang tan xianAng biyenang hindi tumatawaCaptive of Billy the KidBorn to Be BadWo der Wildbach rauschtFollow the SunArashi no naka o tsuppashireYevgeni OneginSugarfootAk altinBorder SaddlematesDe ranchero a empresarioHeerIreum-eobsneun byeoldeulHaskovy povidky ze stareho mocnarstviTere BaghairKuranggaMabilis pa sa lintikShirley, My DarlingO agapitikos tis voskopoulasVinayaka ChavitiDr. Crippen lebtC.I.D.Les liaisons dangereusesSally's Irish RogueRaintree CountyPeppino e la vecchia signoraO fataoulasLian wo liang qingSininen viikkoPoveri ma belliThe D.I.Laging ikawKarieraBlack TuesdayColonel March InvestigatesMy Wife's FamilyWildwest in OberbayernLa signora senza camelieTopekaTarzan, the Ape ManMutya ng paaralanEine alte LiebeDie Beine von DoloresThe Deep SixTe nociMr. Denning Drives NorthSalabusabMarine DriveFu ma yan shiInsaeng bokdeokbangMeyhane koseleriAlam AraHoneymoonRaton PassDonatellaReyna sirkeraAnikina vremenaDos vidasHet licht der bergenRishtaDie DeutschmeisterAiDongallo DoraOnni etsii asuntoaPadre contra hijoHere Come the NelsonsThe Bank RaidersCliviaSati SavitriSoy un golfoO Rei do SambaThe Smart AleckSaddle the WindIstanbul geceleriCalypso Heat WaveEomeoniui kilPozegnanie z diablemLa macchina ammazzacattiviRhapsodyRapsodia de sangreJoutukThe Moon Is BlueSubida al cieloAssassin for HireProibitoThe Crowning TouchThe Man from LaramieLas zapatillas verdesViolent SaturdayMe tulemme taasThe LadykillersFlame of ArabySudba MarinyLa noche avanzaThey Who DareSeishun jazu musumeDaddy-OPor la puerta falsaInmaculadaBeneath the 12-Mile ReefHallo TaxiPueblo quietoLa pattuglia dell'Amba AlagiViaje al infinitoLa plus belle des viesThe TrapSasameyukiFury at ShowdownDer PaukerPata de paloLullaby of BroadwayPal JoeyEvlat KatiliRacconti romaniLa rose rougeApache WomanCondenadosSudba pojetaBaitJoe, o tromerosThe FlawDas DonkosakenliedMissing WomenThe Man Who Never WasDestination Big HouseStromboliBonjour jeunesseDer Herrgottschnitzer von AmmergauThe 7th Voyage of SinbadGirls' SchoolBengal BrigadeShvedskaya spichkaPanayirdaki cinayetTian zuo zhi heIs My GuyInaamThe FuriesDramma sul TevereDouble ExposureYankee PashaEojeggajina geudaemaneulThe Purple GangRingo taikaraRobot MonsterCyclone FuryVragiThe Fast and the FuriousNatlogi betaltRio Grande PatrolKrasa nenaglyadnayaLachkabinettOrlando e i Paladini di FranciaHang TuahThe Rebel SetHawai chindochuDom, v kotorom ya zhivuThe Salvage GangAmong tunayHamara HajKing of the CarnivalCarry on NurseThe Great Sioux UprisingReturn to Treasure IslandRockets GaloreApril LoveAwa ng birhen sa BaclaranDu bist die RichtigeO. Henry's Full HouseSati SakkubaiThandi SadakK - Das Haus des SchweigensA Night to RememberAlbeliLala RukhAmor vendidoPlume au ventSafari DrumsNiliCovered Wagon RaidRidere! Ridere! Ridere!Jeste svatba nebylaPort of EscapePos pernoun oi pantremenoiXiao wu niangLi ShizhenManoula, thelo na ziseisKavi KalidasFort YumaTraficantes do CrimeAu p'tit zouaveDeportedEl otro caminoBattle HymnSaram palja al su eobtdaHeideschulmeister Uwe KarstenPedro PendukoMuhomatsu no issho3 SistersJungle GentsChi xin jingSeptemvriytziThe Snows of KilimanjaroKofuku-sanBandits of the WestOpou ftoheia kai filotimoYa Halawaat al-HubbIsabelle a peur des hommesDer Weg zu DirHoppla, jetzt kommt EddieIt's a Dog's LifeEl gharima waal ikabEighteen and AnxiousSangre en el barrioA fil di spadaCasta de robleNachtschwester IngeborgCinci HocaYellowneckTunisi top secretNu lan wu haoDioguinhoSoho ConspiracyThe Naked MajaDeadline - U.S.A.Fu rong xian ziTangier IncidentEl Lazarillo de TormesCoastal NavigationBackfireDrakoulas & SiaDer Tiger von EschnapurKanyasulkamVergine modernaPravdaSalomePoprygunyaRandevou me ton erotaToi... le veninHatsuwarai sokonuke tabi nikkiEl enmascarado de plataOnce pares de botasRasskazy o LenineLos pobres siempre van al cieloEs geschah am 20. JuliDie Gefangene des MaharadschaThe Monolith MonstersAparajitoSwashurbariLa strada finisce sul fiumeMesa of Lost WomenConfidentially ConnieBambalinasCarmen JonesThree Crooked MenDecision Before DawnHeneral PauaSouthwest PassageMan in the VaultPehli MulaqatHamari BetiThe Miniver StoryCrime & Punishment, USAMimi PinsonThe Private War of Major BensonTenka taiheiPrisionera del recuerdoLiliomfiEl encuentroPatio andaluzGuttaperchevyy malchikJezeroNerone e MessalinaThe Million Pound NoteMangalya BalamHistorien om HjortholmTaxi el gharamDaigaku wa detakeredoCounterplotUp in the WorldJamboree!Anak ni palarisGenbaku no koDon CamilloLa ladronaDanger ZoneKefi, glenti kai figouraGaribin askiSenba zuruThunder in God's CountryXin ju zhang dao lai zhi qianSan SalvatorePickupJin zhi yu yeEl grito de la muerteEl pecado de ser mujerWatashi wa Shiberia no horyo dattaLimang dalanginVor 100 Jahren fing es anThe Beast of BudapestDemetrius and the GladiatorsLokum SultanSpy ChasersCronache di poveri amantiPermata di perlimbahanLes espionsArd el ahlamMadama ButterflyRi chuThe Mystery of the Snakeskin BeltCantando nace el amorO drakosThe Young PhiladelphiansL'atomique Monsieur PlacidoBe My LoveAnak ng bulkanSur le bancLes premiers outragesHeera MotiLa huella de unos labiosEl gran mentirosoOperation Mad BallTommy the ToreadorJolanda la figlia del corsaro neroBaby FaceSangre toreraKuwentong bahay-bahayanYu nu si qingMilujemeTaborMa-inLinks of JusticeVo vlasti zolotaThe Brain MachineVuelve Pancho VillaSonatasLe cas du Docteur LaurentSilent RaidersThe WitnessSa kabila ng bukasSummertimeThe Phantom StockmanThe FireballLe due orfanelleMeine Tochter PatriciaMusic LandOutside the LawZi chai jiKirli elNuno sa punsoThe Crimson PiratePan po nongDer LoibnerbauerBu kadin benimdirGai zao tai taiA Kid for Two FarthingsHow to Marry a MillionaireSouth Seas AdventureInvasion, U.S.A.Pancho Villa ReturnsRoop BasantVetar je stao pred zoruMaboroshi no umaAmor perdidoAnasi gibiA Streetcar Named DesireTuchi pokidayut neboBodas de oroBujang lapokRetorno a la verdadEva und der FrauenarztGendai-jinPack TrainIl mago per forzaTalipandasJagte RahoXanagyrise, agapi mouChiyari FujiThe Missouri TravelerLove Me or Leave MeZi shu nuChveni ezoMartes 13El piyayoInspirasiyonElle et moiIl generale Della RovereHub wa idamNebo zovyotHesokuri shacho to wanman shacho: Hesokuri shacho kanto suKottaisan yori: Nyotai wa kanashikuGorilla at LargeOh, diese lieben VerwandtenKocatepenin bes atlisiYanik KezbanEden no umiPaisa Hi PaisaDaagGiovani maritiSimpatico mascalzoneDallasHell on Devil's IslandCuatro noches contigoSmuggler's GoldDamenwahl125 rue MontmartreKrylyaSquare Dance KatyLes nuits de MontmartreThe Desperate WomenThe Strip Tease Murder CaseThe Spirit of St. LouisSynKelian nuGesprengte GitterCrime WaveApur SansarSahilThe Heart WithinDer Engel mit dem FlammenschwertVia Padova 46Oklahoma!Peter schiesst den Vogel abJohn and JulieCaterina Sforza, la leonessa di RomagnaLa cenicienta y ErnestoLa congiura dei BorgiaLi jin jian xin yi fu renEl padre PitilloMohar'B' Girl RhapsodyUkelele BoyInnocent SinnersLa roueUna mujer sin amorKaragiozis, o adikimenos tis zoisMoi, un noirMister CoryTouchez pas au grisbiSaigonPusuI sogni nel cassettoRob Roy: The Highland RogueSon sarkiGood Morning, Miss DoveEnglen i sortThose Redheads from SeattleDeewanaVengeance ValleyShartRocky Marciano vs. Rex LayneHell's Half AcreFor the First TimeHeute nacht passiert'sRebel in TownPillars of the SkySamundarAau seung hanAas PaasZolnierz zwyciestwaThe Kettles on Old MacDonald's FarmDeath in Small DosesThe Black DakotasPrigionieri delle tenebreCuban FireballBedard Zamana Kya JaneNasha zemyaDas doppelte LottchenShe Shall Have MurderThe AmericanoHostile CountryQuebecThe Lonely SexWhere No Vultures FlyYoung Man with IdeasLa cieca di SorrentoVolnitsaShree 420Wakai kemonoEl hombre inquietoEl jinete solitarioSeestanThe Two Gun TeacherMikolka-parovozMi esposa me comprendeEvakkoGirl in the WoodsI Lili kai o mourdarisLa strada buiaAmor de locuraSalginLas tres perfectas casadasO Tera Kya KahnaAna bariaLa danseuse nueThe Blue PeterThe Girl He Left BehindEl domadorErkrord karavanYi ming jing renLa hija de la otraZiemiaFin de mesHaring tulisanThe StoogeThe CaptureAng Lo'Waist Gang at si Og sa MindoroIspravlennomu veritThat Kind of WomanWarszawska syrenaRobinsonkaGahim ul-ghayraBuddenbrooks - 1. TeilCaptain John Smith and PocahontasThe TwonkyAmour de pocheRosita NoblesHuan xi yuan jiaWhere Danger LivesIl terrore dei barbariDai lao Tian dingLa mejor del colegioTarzan and the Slave GirlTeenage RebelNight PeopleCity Without NightsGelen aglar giden aglarKalosze szczesciaHer Favourite HusbandEl PuenteKlasskamraterValentinaKibris sehitleriMr. LambuPasiya ng LangitShonen tanteidan: Kubinashi-otokoTexas LawmenZafraIl tesoro del BengalaThe OutridersWei lou chun xiaoFace to FaceLa miel se fue de la lunaFeng ye qingDastkeshe sefidSo angelt man keinen MannLas manos suciasMei hua fei jian xiaSpringfield RifleCo rekne zena?Der veruntreute HimmelRio BravoCandinhoPan Qiaoyun qing tiao dan XiuYuan yang puFeind im BlutOne Way OutGunfighters of the NorthwestBeauty on ParadeIllegalEl Cristo de los FarolesDhool Ka PhoolLeningradskaya simfoniyaHitokui amaNapoli, sole mio!Duo qing heHollywood StoryDe spotvogelChilam BalamIl vetturale del MoncenisioDas gestohlene JahrLan hua huaThe Trouble with HarryBride of the GorillaKubilayForbidden JourneyFire Down BelowSiempre tuyaFriends and NeighboursDo RahaO Gigante de PedraRomeo at JulietaSweet Smell of SuccessEscapade in JapanLewat Djam MalamHong lou xin mengThe High Cost of LovingKiss Tomorrow GoodbyeMadh Bhare NainNadando em DinheiroCheaper by the DozenLe grand cirqueLa rage au corpsThe Bottom of the BottleGhost TownKostervalsenHere Come the JetsNaganaMenarikamXiang xi gan shi jiThe GoldbergsMe vitkvi simartlesEmei fei jian xia da po qing luo guCasei-me com um XavanteRaat Ke RahiCanzone proibitaPrzygoda na MariensztacieSudden FearVuelo 971Decak MitaBasahang gintoMeoto zenzaiQue idiotas son los hombresHidden FearTaynata vecherya na sedmatziteBeyaz sehirLa principessa delle CanarieShack Out on 101Silk StockingsVores lille byTumbalik na daigdigVed Kongelunden...The Astounding She-MonsterLe grand jeuNebieriThe Way to the GoldTo agorokoritsoThe Monster That Challenged the WorldOka wa hanazakariZle pareThis Earth Is MineHaroumeno xekinimaIl corsaro della mezzalunaLian geEk JhalakEl duende de JerezIl segno di VenereShitamachiTrouble Along the WayBanat el lailAag Ka DariyaOutcast of the IslandsRitrovarsi all'albaShoot-Out at Medicine BendKruhWaldwinterLas dos y media y... venenoCert nespiMariana de Jesus, Azucena de QuitoDalavereciler KraliGuai ai vintiAvvaiyyarAmori e veleniO golgothas mias orfanisKvinnohusetThe Seventh SinSpeed CrazyMisericordiaMan Without a StarYolandaWanted: HusbandMagic FireYi wan mei yue ban han qinStage FrightTop GunNi vu, ni connuThe Basketball FixUna di quelleKompozitor GlinkaRun of the ArrowMagkumpareng PutikMuuan sulhasmiesKansas City ConfidentialDer MustergatteNichiren to moko daishuraiStreet-FighterAll for MaryDoctor at LargeTsumaShi xiong diEoneu yeodaesaengui gobaekThe CaddyLe viconte de BragelonneThe Tender TrapZwischen uns die BergeCh. P. - Chrezvychainoe proisshestvieDie Trapp-FamilieZ is for ZebraThat's My BoyShijibganeun nalSix Gun MesaHot Car GirlQi gai yu yi daKoi-geshoOnryo sakura dai-sodoSayedat el kasrThe Tall TAl son del mamboSon of Geronimo: Apache AvengerI Married a WomanNagarikAntonio di PadovaI figli di nessunoThe White SquawZha dian na fuRebel CityBenzincinin askiTripoliU nikh est RodinaModell BiankaKaiserballThe HuntersKaikkien naisten monniLockvogel der NachtApat na tagaGiuditta e OloferneVesenniye golosaLe plus heureux des hommesAhora soy ricoThe Young CaptivesNa perelomeDie Unschuld vom LandeDeath of a SalesmanSchwarzwaldmelodieUn heredero en apurosThe BravadosLes intrigantesPlunder RoadJochukkoIl vedovoBehind the HeadlinesCheng feng po langNever Love a StrangerPorte des LilasPiyaaTrooper HookO Homem do SputnikI misteri della giungla neraMoutarde van SonaanseeThe Mad MagicianDie Christel von der PostNuits de PigalleSmileyLost ContinentHanggang sa dulo ng daigdigTales of Robin HoodCurucu, Beast of the AmazonMe and the ColonelLoida: Ang Aking Pag-ibigDushmanStage to TucsonImmer wenn der Tag beginntPirates of the High SeasBatong Buhay (sa Sentral Lusan)A Killer WalksDamanMe traes de un' alaBatas ng daigdigQuel fantasma di mio maritoVieras miesLa sexta carreraDate at MidnightWeg in die VergangenheitSan zi meiAbbott and Costello Go to MarsPardonnez nos offensesNo Resting PlaceDer SchandfleckShi ge fei nu jia shou langBaltiyskaya slavaGenevievePara siempreTire au flancKundukkiliLast of the Pony RidersJe suis un sentimentalKid TabacoEscort WestChong chong wei kunIvan FrankoLiebeskrieg nach NotenMusoduroHell DriversXi lu xiangRittmeister WronskiThe Saracen BladeSpring ReunionAalu MagaluLa nuit des espionsLupi nell'abissoKekkon koshinkyokuLa loi des ruesThe Littlest OutlawTake Me to ParisLa cabeza de Pancho VillaNinjutsu gozen-jiaiSakviris shemdegI soliti ignotiThe Last MileGeheimaktion Schwarze KapellePillow TalkThe Fuzzy Pink NightgownCarnaval em CaxiasAnna LucastaHjemme hos oss. Husmorfilmen 1957.Ren zhi ChuBiryeonui seomViaje a la lunaKiss Me KateSolva SaalInvaders from MarsNon cantare... baciami!Jumping for JoyThe Far HorizonsAn Annapolis StoryJunger Mann, der alles kannOre 10: lezione di cantoWei da de qi dianLal KunwarIl coraggioRiders of the RangeIl falco d'oroLuna rossaDeep Jweley JaiToofan Aur DeeyaPerils of the WildernessSjors van de RebellenclubReunion in RenoAlvaro piuttosto corsaroD-Day the Sixth of JuneThe MoonrakerCento serenateLola TorbellinoZhi qu HuashanTraigo mi 45Oiltown, U.S.A.Ashita wa ashita no kaze ga fukuMera SalaamPrimanerinnenThe Wreck of the Mary Deare1918Pen huo nu langPonnavayalLa petite Aurore l'enfant martyreLes cousinsHellcats of the NavyBuckaroo Sheriff of TexasSinging GunsBernardo CarpioThe Wild Women of WongoKasaysayan ni Rudy ConcepcionNight FreightNos veremos en el cieloThe Square RingPygmy IslandSu seguro servidorEm-Nar, la ciudad de fuegoL'amour est quelque partMein Schatz ist aus TirolThe Dam BustersThe Captive CityHuman DesireKapelusz pana AnatolaBasin Street RevueRikollinen nainenMarcelino pan y vinoStars in My CrownSyghorese me, paidi mouCity That Never SleepsSans familleFather of the BrideBad BoyThe Black RoseHuan le ren jianBhale RamuduSerenate per 16 biondeSonny BoyMiss Robin CrusoeZhujiang leiThe Thing from Another WorldCui gu zhong shengHao men ye yanMia zoi tin ehoumeEl zuhur el fatinaXiao sheng lei yingAkash Ar MatiSociety GirlThe Woman's AngleCabellera blancaHuo shu yin hua xiang ying hongOnna SanshiroMitsu-kubi-touRajlakshmi O SrikantaEn VeeduThe Old FrontierShokhiyanWatusiUli, der KnechtThe Band WagonKimLovely to Look AtBattling MarshalAidaTokyo KidCrooked RiverQiu JinDas ewige SpielRaggare!The Ways of LoveMiss Tulip Stays the NightSleeping BeautyWhat Price GloryCome Back PeterLes suspectsTim Driscoll's DonkeyPeter Voss, der Held des TagesI Reali di FranciaThe ScarfGideon's DayTomahawk TrailWu hu duan hunParamanandayya Shishyula KathaTomorrow Is Another DaySasaki KojiroUnderwater WarriorThe Merry WidowRio 40 GrausWhite LightningNattbarnMahiru no sangekiFarlig frihetCat and MouseO theios apo ton KanadaEl AlameinSenyorita de kampanilyaThat LadySimbaEl pisitoOpowiesc atlantyckaThe MaraudersUn eroe dei nostri tempiKriminalsagen Tove AndersenAmore a prima vistaI colpevoliChunNishi Ginza ekimaeWater LilyMassacre CanyonThe One That Got AwayYou Can't Run Away from ItKein Mann zum HeiratenPablo y CarolinaCuori sul mareThe Frontier PhantomShuang xiong dou zhiFlying Disc Man from MarsHua kai yan zi guiSemmelweisHanmalpungungwa minchung jeongongMarchandes d'illusionsNooranThe Strange AwakeningThe Indian FighterIrena do domu!Noc poslubnaBabaluA Lady MislaidOur Man in HavanaPavel KorchaginMorning CallMissile MonstersDown Laredo WayWaldasBayan o pag-ibigGageola seulpeumiyeoSajniTischlein, deck dich (II)Bailout at 43,000RedenzioneUma Vida para DoisSaturday's HeroThought to KillDie Familie HesselbachSincerely YoursIl mantello rossoPalletoori PillaA Tale of Five CitiesIt Came from Outer SpaceRosen-ResliA Touch of the SunJuan shi huaDongshimchoTerza liceoSora yukabaThe Horse SoldiersDas SonntagskindCuidado con el amorDer Mann, der nicht nein sagen konnteEsposa o amanteFelices pascuasKore'den geliyorumCasa MananaThe Lost HoursNingen no kabeMina de VanghelLe avventure di CartoucheOld Mother Riley, HeadmistressClosed VisionLes deux gaminesEl malak el zalemAn Affair to RememberHuang Fei Hong yi jiu long mu miaoGutierritosThe Boy and the BridgeLu tian e ye zong huiEl desalmadoTrois femmesVier jongens en een JeepTigang na lupaFlucht in die TropennachtWo die Lerche singtUlila ng BataanNek KhatoonHuang Fei Hong yong jiu mai yu canShi san ling shui ku chang xiang quIkiruBan xia liu she huiTea for TwoNo Money No HoneyHan chan quShkola muzhestvaBorder RiverWie ein SturmwindIl Cristo proibitoAnkh Ka NashaLe notti biancheThe Battle at Apache PassKanli pinarPetlaIl matrimonioClash by NightThe West Point StoryPuppy LoveIhtiras kurbanlariStranger on HorsebackKurt MustafaFinders KeepersHo sognato il paradisoUnder the GunHighway 301Chakravarthi ThirumagalLes jeux dangereuxThe Wayward GirlAshaHujan panasPanyolitong bughawSanjusan go sha otonashiLaterna, ftoheia kai filotimoThe Toughest Man AliveThe Rains of RanchipurHellgateThe Big LiftChaperonThe LootersUlisseThe Pathfinder and the MohicanBronco BusterJanam Janam Ke Phere: Alias Sati AnapurnaViele kamen vorbeiMonsieur FabreWacoFatalidadeHer Twelve MenBolo raz priatelstvoShahi ChorTao hua jiangThe Devil's JestKlotz am BeinPoyedinokThree for the ShowWith a Song in My HeartThe NetTuntematon sotilasThe Ugly DucklingMusorgskiySeven Days to NoonGlasbergetEpilog: Das Geheimnis der OrplidThe Rainbow JacketSaturday IslandThunder BayGorod na zareHao hua shi jiaFanciulle di lussoHeaven Knows, Mr. AllisonAthenaShobhaRock Around the ClockThe Four Skulls of Jonathan DrakeKabhi Andhera Kabhi UjalaDie kleine Stadt will schlafen gehenVilla AlegreSanta ChiquitaA Woman's DevotionBarkadaYi dui yan zhi maSilver RaidersThe Party CrashersSchatten der NachtNo niego mi pasadoHot ShotsRaja BetaApasionadaYou yuan jin mengBilinmeyen askA dos grados del ecuadorTennessee's PartnerThe Winning TeamLos clarines del miedoChibideka monogatariAventuras y desventuras de EduardiniAll in Good FunCe soir les jupons volentHalakuDestination MurderSaadiaNeveraKono ten no nijiKasvot kuvastimessaMiss 58Annemi ariyorumThe Mississippi GamblerBobbyThe Careless YearsUomini e nobiluominiThis Happy FeelingHiganbanaFrou-FrouShort GrassMarchands de fillesBeginning of the EndHanagasa wakashuPociagGou hun shi zheLes deux Monsieur de MadameAi yu zuiPuck - heter jagImitation GeneralPerils of the JungleDangerous VoyageFace of a FugitiveTant d'amour perduCuando me vayaTres hombres en mi vidaDil-E-NadanKindan no sunaPather PanchaliAppointment with VenusAishaSpanish AffairThe King and Four QueensThem!La tiranaThe Beast from 20,000 FathomsDumagitThe Scarlet CoatKara talihNjih dvojicaBlackboard JungleThe Galloping MajorDrei, von denen man sprichtBig TimberAna kucagiOasisLa grande strada azzurraO-Tora-san no homu ranLooking for DangerLa muerte enamoradaHochzeit auf ReisenThe Happy RoadMeine Nichte SusanneGreen FireBroken ArrowSweet BeatLa madone des sleepingsInspectorParque de MadridThunder Over ArizonaIngiliz Kemal Lawrense karsiJack and JillDomek z kartShou ju qing shengHistorias de MadridTres valientes camaradasAyni bi-triffShahzadaIzu no odorikoDorp aan de rivierMan on FirePrisoners in PetticoatsMga reyna ng VicksMystery StreetKalyanam Panniyum BrahmachariL'amour est en jeuWagons WestTempi duri per i vampiriBrumas da VidaQivitoqLebbra biancaSprawa do zalatwieniaUndersea GirlCatskill HoneymoonMurder Without CrimeThe Diary of Anne FrankCroquemitoufleDrillinge an BordSparring PartnerNujum pak belalangHuang Feihong yu jiu Haichuang si shang jiHouse on Haunted HillUkiyo buroShinshokoku monogatari: Fuefuki douji dai-ichi-bu dokuro no hataRustlers on HorsebackLa venenosaHui min zhi duiIch und DuXiao xing jiang di qiuSkola otcuTime BombI cadetti di GuascognaAng tangi kong pag-ibigFlyg-BomGu ling jing guaiThe SniperPier 23AtchaRoadblockOver-ExposedRight CrossIl figlio del corsaro rossoKiku to IsamuNow and ForeverEl hijo de la nocheBlues BustersNenneko shachoFinal ColumnKenka gasaOshaberi okusanI Am a CameraBobby Ware Is MissingFrontier WomanThe Girl Next DoorPlus de whisky pour Callaghan!Smuggler's IslandDie Goddelose StadMagdanas lurjaChampakaliLe vacanze del sor ClementeAgua sangrientaMagokoroSehtiDisonorata - Senza colpaBildnis einer UnbekanntenYo soy gallo dondequiera!..Je plaide non coupableBowery to BagdadMotivo in mascheraTen Days to TularaEtt dockhemThe Girl Who Had EverythingThe StowawayQi chong tianSoldier of FortuneDyo kothonia sto Naftiko!Pyar Ki RahenThe JungleBarbaroThe Flying FontainesBen-HurVeera KankanamVerganzaThe Golden LinkTorpedo RunDie goldene PestGuardia, guardia scelta, brigadiere e marescialloYanik efeTenka no igagoe: akatsuki no kessenAccadde al penitenziarioAngels in the OutfieldMeet Me After the ShowSoratobu enban kyofu no shugekiDevadasuObujaEfelerin efesiAndy Hardy Comes HomeQing chun de jiao buSolomon and ShebaLe bonheur est sous mon toitMulher do DiaboThe Cool and the CrazyThat Woman OppositeDa po tong wang zhenRide a Crooked TrailEl namrudHell and High WaterSiamo donneRomansa sa nayonTong jun jiao lianLa gataDu rififi chez les hommesMahallenin namusuEin Herz kehrt heimNo Time to Be YoungTown on TrialFort BowiePenarik BecaKiri no otoLaki sa layawYo quiero ser tontaZagubione uczuciaTakyaAnkokugai no bijoHong mei guiSi qian jinShri Lakshmamma KathaEscuela de raterosPassage WestPungunui gungjeonViolent PlaygroundYeonggwangui chimshil48 orasLa momia aztecaMga kuwento ni Lola BasyangDance HallThe Cat GangTrevogaShuai qi piao piaoAll About EveThe End of the LinePro pantos... psyhraimiaThe MazeHai jiao fang hunCrazylegsSarfaroshSaranno uominiHotarubiAbuso de confianzaBarbe-BleueDiamond SafariAround the World in Eighty DaysTian chang di jiuAgi Murad il diavolo biancoIbn el halalMonkey on My BackReyna ElenaThe Big TreesAlageyikAttack of the Giant LeechesAe Desh Tomar AmarEl Vizconde de MontecristoMr. & Mrs. '55Alt dette og Island medHiyasminBioneun nalui ohu seshiThe MenChalachalElias rekefiskerThree's CompanyMan in the SaddleRen tou qi anSpuk mit Max und MoritzReluctant HeroesThe Men of Sherwood ForestGreve SvenssonFei cui huIstiklal ugrundaLa laguna negraPort SaidGalawgawLe ragazze di San FredianoEl seductorL'appel du destinRantasalmen sulttaaniWhen Worlds CollideThe Happy TimeHarano SurEl bolero de RaquelVeer ArjunWhite CorridorsEl rayo justicieroAugust der HalbstarkePark RowGentlemen Prefer Blondes2 sundalong kaninLa belle et le tziganePostlagernd TurteltaubeShetlandsgjengenThe Adventures of Corporal KochetkovDavid Harding, CounterspyTeresaCuando las mujeres mandanBoot PolishVi gifter ossSusanaMis padres se divorcianScreaming EaglesPoliceThe Incredible Petrified WorldThe Reluctant WidowMast QalandarValurile DunariiGyakushu orochimaruMaia TskneteliLondra chiama Polo NordDicen que soy comunistaThe Diary of a High School BrideDas blaue Meer und DuShu nu tuFedakar kaptanNovye pokhozhdeniya Kota v SapogakhNaginKirschen in Nachbars GartenBaludCavalry ScoutThe Golden MistressShinshokoku monogatari: Nanatsu no chikai doreisen no makiThe Flame BarrierBeautiful StrangerSlaves of BabylonStolen IdentityFrankenstein 1970Tante Tut fra ParisCurcunaAllah maanaBoum sur ParisThe Tijuana StoryAviso aos NavegantesLe long des trottoirsKanhaiyaThe Lemon Drop KidGift im ZooMademoiselle et son gangI lykainaJivaroDelirioPara vestir santosPora tayozhnogo podsnezhnikaLes naufrageursEl gato sin botasRummelplatz der LiebeNuregami sandogasaThe Body Said No!Haus des LebensJohn WesleyBlack CatJanghwa HeungryeonjeonI Was Monty's DoubleBouboulinaMasura o hashutsu fukai: Otoko nari akosoEl tigre enmascaradoRaya wa SekinaAmbrosiaCrisol de hombresGintong pangarapA Life of Her OwnSon baskinTo koritsi tis tavernasSisang tabakLa ji qian jinFrancesco, giullare di DioKundiman ng lahiLa villa Sans-SouciThe Magnificent YankeeEl organilleroThe High and the MightyElla, Lucifer y yoLa intrusaKongjwi PatjwiJi Gong shao Piba jingMegaloi dromoiPhummanEasy ka lang, padre!El pumaLa flecha envenenadaBatang bangkusayEr nu ying xiong chuanGanyan lang ang buhayRascel marineCarry on AdmiralMapait na lihimAutobus odjezdza 6.20La voce del silenzioWill Any Gentleman...?Robinson soll nicht sterbenBessmertnyy garnizonRunning WildAasVassa ZheleznovaStop the Merry-Go-RoundTomahawkDonne e soldatiLa rosa blancaLe retour de Don CamilloThey Were Not DividedWu tou anVuelve el loboCarbine WilliamsSon of Ali BabaThe Man Is ArmedIl cammino della speranzaLei yuThe Tales of HoffmannBal de nuitAbbott and Costello Meet Captain KiddXu Huang Fei Hong zhuanSnow DogRogue's YarnZoku Sazae-sanJailhouse RockEla sto theio...Futari dake no hashiDestination GobiBituing marikitI Was an American SpyLa vida por delanteYun he qi yuanIwashigumoEl jinete sin cabezaPrehistoric WomenGesetz ohne GnadeBorder FenceThe Last HurrahOi paranomoiCrin blanc: Le cheval sauvageWhite FeatherJennifer...At sa wakasAgenzia matrimonialeScreaming MimiIhr erstes RendezvousThe Three Faces of EveAs You WereThe Left Hand of GodFather's Doing FineWho Goes There!So Little TimeCaribbeanCry Terror!Wenn die Glocken hell erklingenLady Godiva Rides AgainLife Begins at 17Le mariage de FigaroHit the DeckEscuela de veranoHis ExcellencyNavrangFrom Here to EternityTroe vyshli iz lesaKaibyo koshinuke daisodoTripoli, bel suol d'amoreThe Black RiderEt Kazadi devint sergentBen kahpe degilimBetiVihaan sinua - rakasThe Blazing SunNo me olvides nuncaOb etom zabyvat nelzyaFBI GirlHandle with CareMalvaCharge of the LancersViolatedStadtparkNight RaidersChacun son tourThe Eddy Duchin StoryKolmas laukausVigilante HideoutThe Bad SeedTukkijoellaAlipin ng paladEl dinero no es la vidaNo Time for TearsDragstrip RiotMillones de SemillitaTrack of the CatTemnoEl jinete negroArdhangiThe Flesh MerchantThe Fastest Gun AliveThe SwanThe PathfinderDer WallnerbubThe Scarlet WebAmar BouShadow of the EagleAmor se dice cantandoAvanzi di galeraThe Marrying KindGuan shan xingGunsight RidgeTake a Giant StepDer fidele BauerKlarar Bananen Biffen?Come Dance with MeGuzaaraSaban-Karamanin koyunuThe Green ManStriporamaKundiman ng luhaNippon G-menKoenigsmarkTarao Bannai senritsu no nanakamenIlk ve sonNochnoy gostTall Man RidingChhabilaMilagre de AmorLazzarellaStyridsatstyriPortrait of AlisonKuwentong kutseroCat-Women of the MoonXingdao HongchuanChung mot dong songOkaasanThe Wrong WidgetKalibre .45Yeoseong jeonseonThe Treasure of Gen. YamashitaThe Story of Three LovesDaeraThe Promise of Barty O'BrienUnd das am MontagmorgenAbu DahabDry RotDas indische GrabmalDie Prinzessin von St. WolfgangThe Fighting LawmanBack at the FrontMayurpankhThe Blazing ForestPistoleiro Bossa NovaVier Rakkers en een oude jeepZydrasis HorizontasSawan muedDuanchang Muzi XinNigarZui e suo lian shang jiGunfireGrubstakeEdge of DoomGhaltet habibiGogCondannatelo!Old Oklahoma PlainsLing yanShonen tanteidan: Nijumenso no fukushuDon Juan TenorioDawn of AmericaCongo CrossingHon kom som en vindBeau BrummellI MobsterSee How They RunLove NestKatawang lupaSenior PromFeyrouz hanemNeutinamu itneun eondeokShababHome at SevenDen kloge mandShiinomi gakuenLa grande speranzaIl conte MaxPagtutuusApache WarriorAudace colpo dei soliti ignotiLapu-LapuLos hijos de Rancho GrandeNunca me hagan esoNaurisStorm CenterZafra (I)Simon and LauraHeimatglockenFour Boys and a GunYou Never Can TellThe Lion HuntersThe Law and the LadyMagnificent ObsessionCom Jeito VaiDonde nacen los pobresSchlag auf SchlagComo la tierraThe Delicate DelinquentRaj KanyaAvitsennaLa muta di PorticiArctic FlightShi zu henVadertjie LangbeenSymphonie in GoldTacos jovenVon allen geliebtFamilie Hesselbach im UrlaubSong shi jieShui bai yi zhi lianWe're Not Married!Alladdin Ka ChiragSven TuuvaUna parigina a RomaAnkokugai no kaoyakuMga bituin ng kinabukasanCienIntezarFilous et compagnieSolajaSvengaliMoglie per una notteIn a Lonely PlaceFu qi jingZombies of Mora TauThe Mouse That RoaredAllah kerimDelo N. 306BlaubartMaine Jeena Seekh LiyaKill Me TomorrowDaigaku no nijuhachinHa fatto 13Night Without SleepNaukariRafflesMin syster och jagEl Paso StampedePozegnaniaFuteki na otokoChristophSri JagannathDisi yilanDer FrontgockelHallin JanneSeven Brides for Seven BrothersShabab emraaFemale on the BeachPrepei na ta pantrepsoumeGuinguetteBaghdad Ka JaduSamundari DakuThe Kid from Gower GulchThe Black CastlePosle shtormaPorgy and BessThe Abominable SnowmanShab-neshini dar jahannamAffet beni allahimLes GirlsDaoluan QiankunDragstrip GirlUm Beijo RoubadoThe Tommy Steele StoryPretty BabyTo trellokoritsoPor ellas aunque mal paguenShirasagiSo This Is LoveHappy Go LovelyIhr 106. GeburtstagDoroga pravdySouth of AlgiersSa isang sulyap mo TitaSeparate TablesMia xeni peraseTe bie kuai cheGe ge he mei meiYojaso no maouDao xia mei ren hunHu dan ying hunDisperato addioMala hembraNichibei Hanayome Hanamuko Irekae Torikae GassenNovia para dosNecesito dineroAufruhr im ParadiesTrapezeFive Clues to FortuneEsa voz es una minaPattanThe Navy LarkThe Intimate StrangerHora y media de balazosThe Knockout ParadeSissiShatie el asrarKuroi kawaSailaabZolotoy eshelonDe magische ringLa calle de los amoresThe HypnotistXiao feng xian xu jiEglima sto KolonakiThe San Francisco StoryNinaBig LeaguerTorreaniSuperman Flies AgainHa'penny BreezeMis tres viudas alegresFort DobbsGelosiaPellegrini d'amoreChandraharamSensation in San RemoTous peuvent me tuerNavy WifeMoulin RougeSword of VenusFoyer perduUna donna ha uccisoThe Twinkle in God's EyeThe Littlest HoboThe Captain's ParadiseLekeli soyInterrupted MelodyRodeo King and the SenoritaRecoilThe Sound of FuryKatie Did ItFurias desatadasBedara KannappaMio figlio NeroneTri koraka u praznoHanbeoman bwajuseyoRoaring CitySarvadhikariTa kothonia tou SyntagmatosStojan MutikasaA Baronesa TransviadaLa mentiraThe MediumVildmarkssommarBian zai feng huoChampagne for CaesarHalls of MontezumaDonde comienzan los pantanosEs geschah am hellichten TagDie Gans von SedanThe Girl RushThe JourneyOkashi-na yatsuGuendalinaSabotageHave Rocket -- Will TravelEl sindicato del crimenPotrazi Vandu KosRadar Secret ServiceFlyboy baksa sodongDrum BeatChanduLa ragazza del palioNoch pered RozhdestvomThe Bounty HunterEl casto SusanoN'harak saidZhao FeiyanRetorno a la juventudKashmirIl est minuit, docteur SchweitzerThe Pennywhistle BluesA Woman of MysteryCuentan de una mujerSisaFrancisIstanbul canavariLa barriera della leggeBeatrice CenciLa venganza de los VillalobosKagenaki koeRoter MohnDie Letzten werden die Ersten seinMit siebzehn beginnt das LebenUna viuda casi alegreI cavalieri del diavoloThe Jackie Robinson StoryKoniec nocyRebel Without a CauseYassamossaPu-sanAffair in RenoMay isang tsuper ng taksiThe Flaming TeenageGli inesorabiliDa xia qing sha anSchicksal am BergGarota EnxutaTian chang di jiuTriunfa la pandillaAdaaThe Vanishing WesternerWindom's WaySha san shao qing sha Tan A RenUhaw na pag-ibigTuristaThunder PassMujeres de fuegoVerliebte LeuteLass die Sonne wieder scheinenThe Bamboo PrisonUn hombre cualquieraPeking ExpressDecameron NightsMelodie und RhythmusDer letzte WalzerSex GangKahbe kursunThunder RoadVon der Liebe besiegtThe Tall StrangerDe rode beekLa gota de sangrePeppino e ViolettaMin datter NellyLocura pasionalChief Crazy HorseBaloThe Remarkable Mr. PennypackerPusong gintoDouleies me fountesNoci i jutraThe HomesteadersValley of SongSamo ljudiXin er lu ying xiong zhuanHorizons WestNie yuanAs Young as We AreNan dao feng yunDahejLockende SterneCircumstantial EvidenceAsk istiraptirCover GirlLast of the ComanchesU olujiSelosong baloVater braucht eine FrauArrivano i nostriNan wei le ba baAwaaraI battellieri del VolgaMijn man doet dat nietLoose in LondonLonely Heart BanditsEros, ftoheia kai kobines0 Uhr 15, Zimmer 9Wild Horse AmbushMore studyonoyeEdge of FurySecurity RiskMarihuanaTrista let tomu...AnaeO.K. NeroneUn jour avec vousTri rasskaza ChekhovaJohannisnachtGehanu GetaMoney from HomeFumihazushita haruIstanbul'un FethiMitrata Ki YatraOka Talli PillaluIsland in the SunUna cita con la vidaLes motardsFuego en la sangreConquest of CochiseFjols til fjellsDer Fall RabanserMtsvervalta dampkrobniDer schweigende EngelL'uomo di pagliaGirl on the RunThe Light TouchLa rossaStarliftEl aguila negra en 'El vengador solitario'Man nennt es LiebeV pogone za slavoyAsphalteThe Creature Walks Among UsEt eventyr om treNor the Moon by NightGodziny nadzieiLone TexanImpulseZvejnieka delsFloyd Patterson vs. Don GrantAaramThe Tattered DressBhakt PralhadBlonde DynamiteDie fidelen DetektiveTam tam mayumbeTrotacallesLa marca del cuervoCriminal LawyerEl hombre virgenNaked in the SunSotto a chi toccaKahapon lamangGoonjPlease Believe MeCinq millions comptantThe Man in the SkySta. Rita de Casia (Patrona ng imposible)Xiao bai caiSe alkoi sateessaScarlet AngelCanasta de cuentos mexicanosWaman AvtarLe schiave di CartagineLiebe auf EisVesely soubojDr. ZDel suelo no pasoLa cucarachaInsan Jaag UthaNu da shi ba bianDve pobediReturn of the TexanCerf-volant du bout du mondeZa lebedinoy staey oblakovLa figlia del mendicanteMinisterTokyo 1960Vendetta en CamargueFutures vedettesPlymouth AdventureOi papatzidesDon't Bother to KnockPlazos traicionerosBai jia zaiLe vrai coupableRokonokThe AbductorsSuspended AlibiMeeuwen sterven in de havenDangerous MissionGene Autry and The MountiesWidaan ya gharamiWarszawska premieraNongaeLand of the PharaohsBadshahJawab26th JanuarySong of AfricaTandao JiarenTaisei shakuson (Kohen)Mucho DineroKendini kurtaran sehirThe Purple PlainLa noche y el albaCombo FestivalEl hombre que quiso ser pobreAan BaanGli amanti di RavelloWilhelm TellDie verschleierte MajaHans Christian AndersenThe Long HaulJin lan zi meiDynamite PassHilfe, ich bin unsichtbarI'll Get You for ThisTwo on the TilesThe Woman in QuestionDon't Go Near the WaterHighway 54Il maritoPapatyaTarzan's Savage FuryZendehbad khalehEl regreso del monstruoDer Onkel aus AmerikaNon perdiamo la testaLo que nunca muereZvezdaLa peccatrice del desertoDaigaku no samurai tachiDil Deke DekhoYan mei er1984Die verschwundene MiniaturLiana, a PecadoraStudent CanteenApache AmbushRicordati di NapoliInside the Walls of Folsom PrisonThree Little WordsEntre abogados te veasJai Vaishno DeviOpinione pubblicaSenni ja Savon sulttaaniGun FuryOperation StogieBustenskjoldStrategic Air CommandLa reina moraQuand tu liras cette lettreDistant DrumsDrums Across the RiverFuzileiro do AmorNian wan qianMusume no naka no musumeGaaluni mujrimanThe Power of the ResurrectionEl hombre que me gustaThe Company She KeepsCamarote de lujoThe Pride and the PassionFeng qiu huangTem Boi na LinhaJazzgossenThe Desert Fox: The Story of RommelChun gui he chuGracielaHallo DienstmannThe Magnetic MonsterHigh SocietyLa bella mugnaiaNight ClubDie Nacht ohne MoralMan ting fangThe PeacemakerBotchanPhantom of the Rue MorgueDen store gavtyvThe Iron SheriffStern von RioKadinin fendiLe dernier Robin des BoisGobs and GalsDil Mein TuJedini izlazSangamEt par ici la sortieOnnellisetDesperadoes of the WestTa tria moraThe NevadanRintamalottaMukhraKike wadatsumi no koe: Nippon senbotsu gakusei shukiDet var paa RundetaarnHeimatlandStazione TerminiKalyeheraOla gia to paidi tisSabhash RamuduDer Arzt von StalingradThree Desperate MenThe Big ParadeHadairo no tsukiLa mujer de las cameliasHindi basta bastaOmar KhayyamPod sumnjomLas coronelasLes oeufs de l'autrucheHerren og hans tjenereDer Frosch mit der MaskeAllegro squadroneTerror from the Year 5000Ouvert contre XYahudi Ki BetiLemkes sel. WitweSouthside 1-1000Musik, Musik und nur MusikQing dou chu kaiValerieCosas de mujerDai Tokyo tanjo - Oedo no kaneSasameyukiFriederike von BarringDaataAtsukama-shi to Oyakama-shiHub fil zalamLe furetThe Redhead and the CowboyAng Asawa Kong AmericanaEl abueloKomanda s nashey ulitsyAladdin Aur Jadui ChiragI'll See You in My DreamsGoryachee serdtseSemerah padiThe 39 StepsCity of Bad MenCode of the Silver SageCiske de RatQing shan bi xueArenaAyyamine el helwaOhaemaseyoDaglari bekliyen kizHit and RunThe Girl Can't Help ItLa danseuse de MarrakechYesli by kamni govorili...Rodrigo de Villa (II)Ti fang xiao shouIch warte auf dichThe Family SecretPat and MikeVeliki i maliAddio mia bella signoraUntil They SailDonker AfrikaUna mujer sin destinoYou Lucky PeoplePrincess SabaGraziellaThe Captain's TableNepoddayushchiyesyaCheonyeo byeolHindi Kita AnakAndzamb tchanachum emMake Haste to LiveJaan-E-BahaarAn Alligator Named DaisyLotnaThe Astonished HeartSiamo tutti inquiliniBrelan d'asJazz on Parade 1954 nen: Tokyo Cinderella musumeSea of Lost ShipsGolden GirlEk-Hi-RastaLe carrosse d'orIl figlio di d'ArtagnanTochka parvaPak DamanFighting TroubleA sablazo limpioHowrah BridgeKoreaThe Whole TruthDe Vento em PopaThe Halliday BrandZit kardesler polis hafiyesiSing Boy SingAdorabili e bugiardeSontha OoruJugniGrounds for MarriageDaiva VipakayaKamelyali kadinHero No. 1Calypso JoeThe DiamondShadow of the PastThe White TowerFelaket yoluJia jiaoDoa al karawanIl sentiero dell'odioFlicka utan namnSimal yildiziJungle HellCage of GoldPolikuschkaIl magistratoThe Kid from CanadaL'ambitieuseLos hijos del divorcioThe Seven Year ItchThe Flaming UrgeVerlobte LeuteJungle ManhuntHammer the ToffGun GirlsRani RupmatiLa peccatrice dell'isolaFlor de mayo (Topolobampo)Captain Kidd and the Slave GirlNi de ming zi jiu shi aiCount Five and DieWhen Hell Broke LooseYue er wan wan zhao jiu zhouKidlat... ngayon!Die Diebin von BagdadNorth West FrontierLavendelYou qing renAreias ArdentesKrushenie emirataYes Sir, Mr. BonesBandiDon GiovanniMariposaThe Invisible MonsterLong xu gouFederal Agent at LargeKagero ezuKanna TalliWang hun guLadlaThe Joker Is WildOrders to KillSeido no KirisutoFu zhi xin lingBari Theke PaliyeEscape RouteLos tres mosqueteros y medioVerklungenes WienConflict of WingsStar Dokusatsu JikenSatomi Hakken-den: Kanketsu-hen akatsuki no kachidokiEl chismoso de la ventanaA Cry from the StreetsMatrimonio y mortajaNot So DustyOjosan shachoDas Schweigen im WaldeMadame XReportajeGiuseppe VerdiSecret PeopleBharosaTimber Country TroubleYahudiAnything GoesLiebe auf krummen BeinenSmiley Gets a GunDown Three Dark StreetsTakarazuka fujinGadano BelLa spada imbattibileLa zia d'America va a sciareTarget ZeroLe avventure dei tre moschettieriTiger BayIl romanzo di un giovane poveroIm Banne der MadonnaPhagunBabaeng hampaslupaKiss Them for MeTo paidi mou prepei na zisiRacket GirlsRaju-PedaThe Flanagan BoyL'amour d'une femmeZhuang yuan tan fu maAccidenti alle tasse!!La tratta delle biancheOperation PacificLa mujer marcadaCaptain ChinaAllah korkusuEnas iros me padouflesPocket MaarTierra bajaLa hermana San SulpicioWu hai ye hangDas haut einen Seemann doch nicht umThanasakis, o politevomenosDadao Wang Wu Yuxue Jinchou JiThe Saga of Hemp BrownMi mujer necesita maridoEl camino de la vidaZwei in einem AutoBorder City RustlersLe rendez-vous des quaisGhost ShipThe Angel Who Pawned Her HarpMumuCaptain ThunderboltVickiYing du yan jiThe White OrchidThe Lion and the HorseBabes in BagdadFake's ProgressQing chang ru zhan changEl plebeyoBondyingHeadline HuntersSally and Saint AnneThe Magic FaceNosotras las sirvientasThe Wild NorthThe Greatest Show on EarthGli uomini non guardano il cieloGhost DiverLa rivolta dei gladiatoriSangramKenraalin morsianArab Ka SaudagarAru onnaMamboSabre JetEwiger WalzerZwervers in het land der dromenDonzokoSazae-san: Nodojiman uta-gassenShikwaZorro Rides AgainA Man AloneSista ringenJing hun jiRally 'Round the Flag, Boys!KhubsuratThe Tragedy of Othello: The Moor of VeniceGe nu Gong LingyanChamas no cafezalIranganieWu hu duan hun qiangGu xing xue leiWan zi qian hong zong shi chunAisai monogatariKey to the CityEl gran autorIl bigamoRaj TilakBhagam BhagOn Moonlight BayBack from the DeadNa Zha da zhan Hong Hai ErLo sceicco biancoVadina Gari GajuluAmberLaadlaKaidan Kasane-ga-fuchiMonte Carlo BabyJatakaphalamEscalier de serviceCircus ki SundariThe Veils of BagdadLa calle junto a la lunaOnna hitori daichi o yukuDuel on the MississippiLove MarriageThe Last WagonAlaalang banalKiller LeopardPyar Ki BaatenCarlos TreceCzlowiek na torzeThe DepravedKahpenin kiziOperation BullshineCai hong quLadkiLes corsaires du Bois de Boulogne5 FingersDie MitternachtsvenusEl azar se divierteTizio, Caio, SempronioCry ToughThe Night My Number Came UpDwie brygadyVento del SudSoultanLa negra AngustiasSierra malditaAttack of the Puppet PeopleThe Hour of 13Yama to kawa no aru machiJoganDay of TriumphHands of DestinySanian yiku erlang qiaoMuz v povetriSpook ChasersAlegria de ViverFaites-moi confiance!Horrors of the Black MuseumOne Good TurnLa bienamadaJubalRuby GentryThe Price of FearChelovek s planety ZemlyaItsuka kita michiDie blaue StundeBlowing WildShe Couldn't Say NoThe Pride of St. LouisRitaTre storie proibiteVater sein dagegen sehrRasuna valeaCara de GomaAt GunpointLa sfidaFlesh and FurySommaren med MonikaThyella sto faroFu chang fu suiDas Bad auf der TenneGgotdo saengmyeongi iddamyeonBandits of CorsicaPipa xiangDinoProject Moon BaseO Grande PintorThe Fighting ChanceHimmel och pannkakaTo mystiko tis katigoroumenisDimas: The Sainted RobberTischlein, deck dichSome Like It HotBlack WidowTe sigo esperando\n"
     ]
    }
   ],
   "source": [
    "# Filter movies from the 1950s\n",
    "fifties_movies = cast[(cast['year'] >= 1950) & (cast['year'] <= 1959)]\n",
    "\n",
    "# Assuming 'n' represents cast size (can be modified if different)\n",
    "total_cast_count = fifties_movies['title'].count()\n",
    "total_cast_size = fifties_movies['title'].sum()\n",
    "# Print informative message about limitations\n",
    "print(f\"Total cast size (actors) for 1950s movies: {total_cast_count}\"\"\\n\")\n",
    "print(f\"Total cast size (actors) for 1950s movies: {total_cast_size}\")\n"
   ]
  },
  {
   "cell_type": "code",
   "execution_count": null,
   "metadata": {
    "collapsed": true,
    "jupyter": {
     "outputs_hidden": true
    }
   },
   "outputs": [],
   "source": []
  },
  {
   "cell_type": "markdown",
   "metadata": {
    "collapsed": true,
    "jupyter": {
     "outputs_hidden": true
    }
   },
   "source": [
    "### How many roles were available for actresses in the 1950s?"
   ]
  },
  {
   "cell_type": "code",
   "execution_count": 94,
   "metadata": {},
   "outputs": [
    {
     "ename": "KeyError",
     "evalue": "'gender'",
     "output_type": "error",
     "traceback": [
      "\u001b[1;31m---------------------------------------------------------------------------\u001b[0m",
      "\u001b[1;31mKeyError\u001b[0m                                  Traceback (most recent call last)",
      "File \u001b[1;32m~\\AppData\\Local\\Programs\\Python\\Python312\\Lib\\site-packages\\pandas\\core\\indexes\\base.py:3805\u001b[0m, in \u001b[0;36mIndex.get_loc\u001b[1;34m(self, key)\u001b[0m\n\u001b[0;32m   3804\u001b[0m \u001b[38;5;28;01mtry\u001b[39;00m:\n\u001b[1;32m-> 3805\u001b[0m     \u001b[38;5;28;01mreturn\u001b[39;00m \u001b[38;5;28;43mself\u001b[39;49m\u001b[38;5;241;43m.\u001b[39;49m\u001b[43m_engine\u001b[49m\u001b[38;5;241;43m.\u001b[39;49m\u001b[43mget_loc\u001b[49m\u001b[43m(\u001b[49m\u001b[43mcasted_key\u001b[49m\u001b[43m)\u001b[49m\n\u001b[0;32m   3806\u001b[0m \u001b[38;5;28;01mexcept\u001b[39;00m \u001b[38;5;167;01mKeyError\u001b[39;00m \u001b[38;5;28;01mas\u001b[39;00m err:\n",
      "File \u001b[1;32mindex.pyx:167\u001b[0m, in \u001b[0;36mpandas._libs.index.IndexEngine.get_loc\u001b[1;34m()\u001b[0m\n",
      "File \u001b[1;32mindex.pyx:196\u001b[0m, in \u001b[0;36mpandas._libs.index.IndexEngine.get_loc\u001b[1;34m()\u001b[0m\n",
      "File \u001b[1;32mpandas\\\\_libs\\\\hashtable_class_helper.pxi:7081\u001b[0m, in \u001b[0;36mpandas._libs.hashtable.PyObjectHashTable.get_item\u001b[1;34m()\u001b[0m\n",
      "File \u001b[1;32mpandas\\\\_libs\\\\hashtable_class_helper.pxi:7089\u001b[0m, in \u001b[0;36mpandas._libs.hashtable.PyObjectHashTable.get_item\u001b[1;34m()\u001b[0m\n",
      "\u001b[1;31mKeyError\u001b[0m: 'gender'",
      "\nThe above exception was the direct cause of the following exception:\n",
      "\u001b[1;31mKeyError\u001b[0m                                  Traceback (most recent call last)",
      "Cell \u001b[1;32mIn[94], line 8\u001b[0m\n\u001b[0;32m      5\u001b[0m fifties_movies \u001b[38;5;241m=\u001b[39m cast[(cast[\u001b[38;5;124m'\u001b[39m\u001b[38;5;124myear\u001b[39m\u001b[38;5;124m'\u001b[39m] \u001b[38;5;241m>\u001b[39m\u001b[38;5;241m=\u001b[39m \u001b[38;5;241m1950\u001b[39m) \u001b[38;5;241m&\u001b[39m (cast[\u001b[38;5;124m'\u001b[39m\u001b[38;5;124myear\u001b[39m\u001b[38;5;124m'\u001b[39m] \u001b[38;5;241m<\u001b[39m\u001b[38;5;241m=\u001b[39m \u001b[38;5;241m1959\u001b[39m)]\n\u001b[0;32m      7\u001b[0m \u001b[38;5;66;03m# Filter for actresses (assuming 'gender' is 'female')\u001b[39;00m\n\u001b[1;32m----> 8\u001b[0m actresses_fifties \u001b[38;5;241m=\u001b[39m fifties_movies[\u001b[43mfifties_movies\u001b[49m\u001b[43m[\u001b[49m\u001b[38;5;124;43m'\u001b[39;49m\u001b[38;5;124;43mgender\u001b[39;49m\u001b[38;5;124;43m'\u001b[39;49m\u001b[43m]\u001b[49m \u001b[38;5;241m==\u001b[39m \u001b[38;5;124m'\u001b[39m\u001b[38;5;124mfemale\u001b[39m\u001b[38;5;124m'\u001b[39m]\n\u001b[0;32m     10\u001b[0m \u001b[38;5;66;03m# Assuming 'n' represents cast size (can be modified if different)\u001b[39;00m\n\u001b[0;32m     11\u001b[0m total_actresses_cast_size \u001b[38;5;241m=\u001b[39m actresses_fifties[\u001b[38;5;124m'\u001b[39m\u001b[38;5;124mtitle\u001b[39m\u001b[38;5;124m'\u001b[39m]\u001b[38;5;241m.\u001b[39msum()\n",
      "File \u001b[1;32m~\\AppData\\Local\\Programs\\Python\\Python312\\Lib\\site-packages\\pandas\\core\\frame.py:4102\u001b[0m, in \u001b[0;36mDataFrame.__getitem__\u001b[1;34m(self, key)\u001b[0m\n\u001b[0;32m   4100\u001b[0m \u001b[38;5;28;01mif\u001b[39;00m \u001b[38;5;28mself\u001b[39m\u001b[38;5;241m.\u001b[39mcolumns\u001b[38;5;241m.\u001b[39mnlevels \u001b[38;5;241m>\u001b[39m \u001b[38;5;241m1\u001b[39m:\n\u001b[0;32m   4101\u001b[0m     \u001b[38;5;28;01mreturn\u001b[39;00m \u001b[38;5;28mself\u001b[39m\u001b[38;5;241m.\u001b[39m_getitem_multilevel(key)\n\u001b[1;32m-> 4102\u001b[0m indexer \u001b[38;5;241m=\u001b[39m \u001b[38;5;28;43mself\u001b[39;49m\u001b[38;5;241;43m.\u001b[39;49m\u001b[43mcolumns\u001b[49m\u001b[38;5;241;43m.\u001b[39;49m\u001b[43mget_loc\u001b[49m\u001b[43m(\u001b[49m\u001b[43mkey\u001b[49m\u001b[43m)\u001b[49m\n\u001b[0;32m   4103\u001b[0m \u001b[38;5;28;01mif\u001b[39;00m is_integer(indexer):\n\u001b[0;32m   4104\u001b[0m     indexer \u001b[38;5;241m=\u001b[39m [indexer]\n",
      "File \u001b[1;32m~\\AppData\\Local\\Programs\\Python\\Python312\\Lib\\site-packages\\pandas\\core\\indexes\\base.py:3812\u001b[0m, in \u001b[0;36mIndex.get_loc\u001b[1;34m(self, key)\u001b[0m\n\u001b[0;32m   3807\u001b[0m     \u001b[38;5;28;01mif\u001b[39;00m \u001b[38;5;28misinstance\u001b[39m(casted_key, \u001b[38;5;28mslice\u001b[39m) \u001b[38;5;129;01mor\u001b[39;00m (\n\u001b[0;32m   3808\u001b[0m         \u001b[38;5;28misinstance\u001b[39m(casted_key, abc\u001b[38;5;241m.\u001b[39mIterable)\n\u001b[0;32m   3809\u001b[0m         \u001b[38;5;129;01mand\u001b[39;00m \u001b[38;5;28many\u001b[39m(\u001b[38;5;28misinstance\u001b[39m(x, \u001b[38;5;28mslice\u001b[39m) \u001b[38;5;28;01mfor\u001b[39;00m x \u001b[38;5;129;01min\u001b[39;00m casted_key)\n\u001b[0;32m   3810\u001b[0m     ):\n\u001b[0;32m   3811\u001b[0m         \u001b[38;5;28;01mraise\u001b[39;00m InvalidIndexError(key)\n\u001b[1;32m-> 3812\u001b[0m     \u001b[38;5;28;01mraise\u001b[39;00m \u001b[38;5;167;01mKeyError\u001b[39;00m(key) \u001b[38;5;28;01mfrom\u001b[39;00m \u001b[38;5;21;01merr\u001b[39;00m\n\u001b[0;32m   3813\u001b[0m \u001b[38;5;28;01mexcept\u001b[39;00m \u001b[38;5;167;01mTypeError\u001b[39;00m:\n\u001b[0;32m   3814\u001b[0m     \u001b[38;5;66;03m# If we have a listlike key, _check_indexing_error will raise\u001b[39;00m\n\u001b[0;32m   3815\u001b[0m     \u001b[38;5;66;03m#  InvalidIndexError. Otherwise we fall through and re-raise\u001b[39;00m\n\u001b[0;32m   3816\u001b[0m     \u001b[38;5;66;03m#  the TypeError.\u001b[39;00m\n\u001b[0;32m   3817\u001b[0m     \u001b[38;5;28mself\u001b[39m\u001b[38;5;241m.\u001b[39m_check_indexing_error(key)\n",
      "\u001b[1;31mKeyError\u001b[0m: 'gender'"
     ]
    }
   ],
   "source": [
    "\n",
    "# Filter movies from the 1950s\n",
    "fifties_movies = cast[(cast['year'] >= 1950) & (cast['year'] <= 1959)]\n",
    "\n",
    "# Filter for actresses (assuming 'gender' is 'female')\n",
    "actresses_fifties = fifties_movies[fifties_movies['gender'] == 'female']\n",
    "\n",
    "# Assuming 'n' represents cast size (can be modified if different)\n",
    "total_actresses_cast_size = actresses_fifties['title'].sum()\n",
    "\n",
    "# Print informative message about limitations\n",
    "print(f\"Estimated total cast size (actresses) for 1950s movies: {total_actresses_cast_size}\")\n"
   ]
  },
  {
   "cell_type": "code",
   "execution_count": null,
   "metadata": {
    "collapsed": true,
    "jupyter": {
     "outputs_hidden": true
    }
   },
   "outputs": [],
   "source": []
  },
  {
   "cell_type": "markdown",
   "metadata": {
    "collapsed": true,
    "jupyter": {
     "outputs_hidden": true
    }
   },
   "source": [
    "### How many leading roles (n=1) were available from the beginning of film history through 1980?"
   ]
  },
  {
   "cell_type": "code",
   "execution_count": 95,
   "metadata": {},
   "outputs": [
    {
     "name": "stdout",
     "output_type": "stream",
     "text": [
      "Estimated total leading roles: 0\n"
     ]
    }
   ],
   "source": [
    "# Filter movies before 1981\n",
    "pre_eighties = cast[cast['year'] <= 1980]\n",
    "\n",
    "# Filter for leading roles (n=1)\n",
    "leading_roles = pre_eighties[pre_eighties['n'] == 1]\n",
    "\n",
    "# Count leading roles\n",
    "total_leading_roles = len(leading_roles)\n",
    "\n",
    "# Print informative message about limitations\n",
    "print(f\"Estimated total leading roles: {total_leading_roles}\")\n"
   ]
  },
  {
   "cell_type": "code",
   "execution_count": null,
   "metadata": {
    "collapsed": true,
    "jupyter": {
     "outputs_hidden": true
    }
   },
   "outputs": [],
   "source": []
  },
  {
   "cell_type": "markdown",
   "metadata": {
    "collapsed": true,
    "jupyter": {
     "outputs_hidden": true
    }
   },
   "source": [
    "### How many non-leading roles were available through from the beginning of film history through 1980?"
   ]
  },
  {
   "cell_type": "code",
   "execution_count": 97,
   "metadata": {},
   "outputs": [
    {
     "name": "stdout",
     "output_type": "stream",
     "text": [
      "Estimated total non-leading roles: 84502\n"
     ]
    }
   ],
   "source": [
    "# Filter movies before 1981\n",
    "pre_eighties = cast[cast['year'] <= 1980]\n",
    "\n",
    "# Total cast size\n",
    "total_cast = pre_eighties.shape[0]\n",
    "\n",
    "# Filter for leading roles (n=1)\n",
    "leading_roles = pre_eighties[pre_eighties['title'] == 1]\n",
    "\n",
    "# Count leading roles\n",
    "total_leading_roles = len(leading_roles)\n",
    "\n",
    "# Estimate non-leading roles (assumes n=1 for leading)\n",
    "non_leading_roles = total_cast - total_leading_roles\n",
    "\n",
    "# Print informative message about limitations\n",
    "print(f\"Estimated total non-leading roles: {non_leading_roles}\")\n"
   ]
  },
  {
   "cell_type": "code",
   "execution_count": null,
   "metadata": {
    "collapsed": true,
    "jupyter": {
     "outputs_hidden": true
    }
   },
   "outputs": [],
   "source": []
  },
  {
   "cell_type": "markdown",
   "metadata": {
    "collapsed": true,
    "jupyter": {
     "outputs_hidden": true
    }
   },
   "source": [
    "### How many roles through 1980 were minor enough that they did not warrant a numeric \"n\" rank?"
   ]
  },
  {
   "cell_type": "code",
   "execution_count": null,
   "metadata": {
    "collapsed": true,
    "jupyter": {
     "outputs_hidden": true
    }
   },
   "outputs": [],
   "source": [
    "#need help"
   ]
  },
  {
   "cell_type": "code",
   "execution_count": null,
   "metadata": {
    "collapsed": true,
    "jupyter": {
     "outputs_hidden": true
    }
   },
   "outputs": [],
   "source": []
  }
 ],
 "metadata": {
  "kernelspec": {
   "display_name": "Python 3 (ipykernel)",
   "language": "python",
   "name": "python3"
  },
  "language_info": {
   "codemirror_mode": {
    "name": "ipython",
    "version": 3
   },
   "file_extension": ".py",
   "mimetype": "text/x-python",
   "name": "python",
   "nbconvert_exporter": "python",
   "pygments_lexer": "ipython3",
   "version": "3.12.1"
  }
 },
 "nbformat": 4,
 "nbformat_minor": 4
}
